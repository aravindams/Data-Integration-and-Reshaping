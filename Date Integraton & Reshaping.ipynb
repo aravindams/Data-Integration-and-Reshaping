{
 "cells": [
  {
   "cell_type": "markdown",
   "metadata": {},
   "source": [
    "## FIT5196 Assessment 4\n",
    "\n",
    "\n",
    "**Group Number**: Group053\n",
    " \n",
    "**Group Members**: Srikar Manthatti(29803306) and Mohan Sai Aravind Kumar Allada(30001781).\n",
    "\n",
    "Date: 27/10/2019\n",
    "\n",
    "Environment: Python 3.6.5 and Anaconda 4.3.0 (64-bit)"
   ]
  },
  {
   "cell_type": "markdown",
   "metadata": {},
   "source": [
    "## Introduction \n",
    "\n",
    "Libraries used:\n",
    "* pandas 0.19.2 (for data frame, included in Anaconda Python 3.6) \n",
    "* sklearn.model_selection, train_test_split (used for splitting the data into train and test sets))\n",
    "* sklearn.linear_model, LinearRegression (used for creating a linear regression model)\n",
    "* seaborn and matplotlib(used used for visualizations)\n",
    "\n",
    "The files provided are \n",
    "\n",
    "- `vic_suburb_boundary data` containing the shapefile data about Victoria's suburbs. You will need this data to  calculate the suburb attribute of the final dataset. \n",
    "- `gtfs dataset` used to retrieve information about the transport system. \n",
    "- `crime statistics dataset`.used to retrieve crime attributes.\n",
    "- `council dataset`. used to map the suburb to a local government.\n",
    "- `schools dataset`. used retrieve school information. \n"
   ]
  },
  {
   "cell_type": "markdown",
   "metadata": {},
   "source": [
    "In this assigment we were provided with all the required files our task is to create a housing information dataset of victoria"
   ]
  },
  {
   "cell_type": "code",
   "execution_count": 1,
   "metadata": {},
   "outputs": [],
   "source": [
    "import pandas as pd\n",
    "import geopandas as gpd\n",
    "from shapely.geometry import Point\n",
    "import matplotlib.pyplot as plt\n",
    "import re\n",
    "import datetime\n",
    "import time\n",
    "import numpy as np\n",
    "import datetime as dt\n",
    "import dask.dataframe as dd"
   ]
  },
  {
   "cell_type": "code",
   "execution_count": 2,
   "metadata": {},
   "outputs": [],
   "source": [
    "df = pd.read_csv(\"Group053.csv\")"
   ]
  },
  {
   "cell_type": "code",
   "execution_count": 3,
   "metadata": {},
   "outputs": [],
   "source": [
    "df.describe(include=['O'])\n",
    "df = df.drop_duplicates(subset='ID')\n",
    "df = df.reset_index(drop=True)"
   ]
  },
  {
   "cell_type": "code",
   "execution_count": 4,
   "metadata": {},
   "outputs": [
    {
     "data": {
      "text/html": [
       "<div>\n",
       "<style scoped>\n",
       "    .dataframe tbody tr th:only-of-type {\n",
       "        vertical-align: middle;\n",
       "    }\n",
       "\n",
       "    .dataframe tbody tr th {\n",
       "        vertical-align: top;\n",
       "    }\n",
       "\n",
       "    .dataframe thead th {\n",
       "        text-align: right;\n",
       "    }\n",
       "</style>\n",
       "<table border=\"1\" class=\"dataframe\">\n",
       "  <thead>\n",
       "    <tr style=\"text-align: right;\">\n",
       "      <th></th>\n",
       "      <th>ID</th>\n",
       "      <th>Address</th>\n",
       "      <th>Rooms</th>\n",
       "      <th>Type</th>\n",
       "      <th>Price</th>\n",
       "      <th>Date</th>\n",
       "      <th>Bathroom</th>\n",
       "      <th>Car</th>\n",
       "      <th>Landsize</th>\n",
       "      <th>Age</th>\n",
       "      <th>Lattitude</th>\n",
       "      <th>Longtitude</th>\n",
       "      <th>geometry</th>\n",
       "    </tr>\n",
       "  </thead>\n",
       "  <tbody>\n",
       "    <tr>\n",
       "      <td>0</td>\n",
       "      <td>ID253199063</td>\n",
       "      <td>8 Kinnane Cr</td>\n",
       "      <td>3</td>\n",
       "      <td>h</td>\n",
       "      <td>830500.0</td>\n",
       "      <td>8/07/2017</td>\n",
       "      <td>1.0</td>\n",
       "      <td>2.0</td>\n",
       "      <td>508.0</td>\n",
       "      <td>69.0</td>\n",
       "      <td>-37.78070</td>\n",
       "      <td>144.83648</td>\n",
       "      <td>POINT (144.83648 -37.78070)</td>\n",
       "    </tr>\n",
       "    <tr>\n",
       "      <td>1</td>\n",
       "      <td>ID764854482</td>\n",
       "      <td>9 Banks Pl</td>\n",
       "      <td>3</td>\n",
       "      <td>h</td>\n",
       "      <td>742000.0</td>\n",
       "      <td>26/08/2017</td>\n",
       "      <td>2.0</td>\n",
       "      <td>2.0</td>\n",
       "      <td>375.0</td>\n",
       "      <td>44.0</td>\n",
       "      <td>-37.68415</td>\n",
       "      <td>144.89990</td>\n",
       "      <td>POINT (144.89990 -37.68415)</td>\n",
       "    </tr>\n",
       "    <tr>\n",
       "      <td>2</td>\n",
       "      <td>ID765581220</td>\n",
       "      <td>112 Belmore Rd</td>\n",
       "      <td>5</td>\n",
       "      <td>h</td>\n",
       "      <td>3020000.0</td>\n",
       "      <td>28/05/2016</td>\n",
       "      <td>3.0</td>\n",
       "      <td>2.0</td>\n",
       "      <td>715.0</td>\n",
       "      <td>10.0</td>\n",
       "      <td>-37.80280</td>\n",
       "      <td>145.07680</td>\n",
       "      <td>POINT (145.07680 -37.80280)</td>\n",
       "    </tr>\n",
       "    <tr>\n",
       "      <td>3</td>\n",
       "      <td>ID364066284</td>\n",
       "      <td>12 Rasmussen Ct</td>\n",
       "      <td>4</td>\n",
       "      <td>h</td>\n",
       "      <td>922000.0</td>\n",
       "      <td>1/07/2017</td>\n",
       "      <td>2.0</td>\n",
       "      <td>2.0</td>\n",
       "      <td>463.0</td>\n",
       "      <td>59.0</td>\n",
       "      <td>-37.73704</td>\n",
       "      <td>144.97959</td>\n",
       "      <td>POINT (144.97959 -37.73704)</td>\n",
       "    </tr>\n",
       "    <tr>\n",
       "      <td>4</td>\n",
       "      <td>ID879430645</td>\n",
       "      <td>29 Alfred St</td>\n",
       "      <td>2</td>\n",
       "      <td>h</td>\n",
       "      <td>825000.0</td>\n",
       "      <td>14/05/2016</td>\n",
       "      <td>1.0</td>\n",
       "      <td>0.0</td>\n",
       "      <td>111.0</td>\n",
       "      <td>109.0</td>\n",
       "      <td>-37.83500</td>\n",
       "      <td>144.93730</td>\n",
       "      <td>POINT (144.93730 -37.83500)</td>\n",
       "    </tr>\n",
       "  </tbody>\n",
       "</table>\n",
       "</div>"
      ],
      "text/plain": [
       "            ID          Address  Rooms Type      Price        Date  Bathroom  \\\n",
       "0  ID253199063     8 Kinnane Cr      3    h   830500.0   8/07/2017       1.0   \n",
       "1  ID764854482       9 Banks Pl      3    h   742000.0  26/08/2017       2.0   \n",
       "2  ID765581220   112 Belmore Rd      5    h  3020000.0  28/05/2016       3.0   \n",
       "3  ID364066284  12 Rasmussen Ct      4    h   922000.0   1/07/2017       2.0   \n",
       "4  ID879430645     29 Alfred St      2    h   825000.0  14/05/2016       1.0   \n",
       "\n",
       "   Car  Landsize    Age  Lattitude  Longtitude                     geometry  \n",
       "0  2.0     508.0   69.0  -37.78070   144.83648  POINT (144.83648 -37.78070)  \n",
       "1  2.0     375.0   44.0  -37.68415   144.89990  POINT (144.89990 -37.68415)  \n",
       "2  2.0     715.0   10.0  -37.80280   145.07680  POINT (145.07680 -37.80280)  \n",
       "3  2.0     463.0   59.0  -37.73704   144.97959  POINT (144.97959 -37.73704)  \n",
       "4  0.0     111.0  109.0  -37.83500   144.93730  POINT (144.93730 -37.83500)  "
      ]
     },
     "execution_count": 4,
     "metadata": {},
     "output_type": "execute_result"
    }
   ],
   "source": [
    "#Building the Point datatype for lat and long for the given data.\n",
    "geom = df.apply(lambda x: Point(x['Longtitude'],x['Lattitude']),axis=1)\n",
    "#Converting the pandas dataframe to geoframe for the given data.\n",
    "new_df = gpd.GeoDataFrame(df,geometry=geom)\n",
    "\n",
    "#Specifying the reference coordinate system.\n",
    "new_df.crs = {'int':'epsg:4326'}\n",
    "new_df.head()"
   ]
  },
  {
   "cell_type": "code",
   "execution_count": 5,
   "metadata": {},
   "outputs": [
    {
     "data": {
      "text/html": [
       "<div>\n",
       "<style scoped>\n",
       "    .dataframe tbody tr th:only-of-type {\n",
       "        vertical-align: middle;\n",
       "    }\n",
       "\n",
       "    .dataframe tbody tr th {\n",
       "        vertical-align: top;\n",
       "    }\n",
       "\n",
       "    .dataframe thead th {\n",
       "        text-align: right;\n",
       "    }\n",
       "</style>\n",
       "<table border=\"1\" class=\"dataframe\">\n",
       "  <thead>\n",
       "    <tr style=\"text-align: right;\">\n",
       "      <th></th>\n",
       "      <th>LC_PLY_PID</th>\n",
       "      <th>DT_CREATE</th>\n",
       "      <th>DT_RETIRE</th>\n",
       "      <th>LOC_PID</th>\n",
       "      <th>VIC_LOCALI</th>\n",
       "      <th>VIC_LOCA_1</th>\n",
       "      <th>VIC_LOCA_2</th>\n",
       "      <th>VIC_LOCA_3</th>\n",
       "      <th>VIC_LOCA_4</th>\n",
       "      <th>VIC_LOCA_5</th>\n",
       "      <th>VIC_LOCA_6</th>\n",
       "      <th>VIC_LOCA_7</th>\n",
       "      <th>geometry</th>\n",
       "    </tr>\n",
       "  </thead>\n",
       "  <tbody>\n",
       "    <tr>\n",
       "      <td>0</td>\n",
       "      <td>6670</td>\n",
       "      <td>2011-08-31</td>\n",
       "      <td>None</td>\n",
       "      <td>VIC2615</td>\n",
       "      <td>2012-04-27</td>\n",
       "      <td>None</td>\n",
       "      <td>UNDERBOOL</td>\n",
       "      <td>None</td>\n",
       "      <td>None</td>\n",
       "      <td>G</td>\n",
       "      <td>None</td>\n",
       "      <td>2</td>\n",
       "      <td>POLYGON ((141.74552 -35.07229, 141.74552 -35.0...</td>\n",
       "    </tr>\n",
       "    <tr>\n",
       "      <td>1</td>\n",
       "      <td>6671</td>\n",
       "      <td>2011-08-31</td>\n",
       "      <td>None</td>\n",
       "      <td>VIC1986</td>\n",
       "      <td>2012-04-27</td>\n",
       "      <td>None</td>\n",
       "      <td>NURRAN</td>\n",
       "      <td>None</td>\n",
       "      <td>None</td>\n",
       "      <td>G</td>\n",
       "      <td>None</td>\n",
       "      <td>2</td>\n",
       "      <td>POLYGON ((148.66877 -37.39571, 148.66876 -37.3...</td>\n",
       "    </tr>\n",
       "    <tr>\n",
       "      <td>2</td>\n",
       "      <td>6672</td>\n",
       "      <td>2011-08-31</td>\n",
       "      <td>None</td>\n",
       "      <td>VIC2862</td>\n",
       "      <td>2012-04-27</td>\n",
       "      <td>None</td>\n",
       "      <td>WOORNDOO</td>\n",
       "      <td>None</td>\n",
       "      <td>None</td>\n",
       "      <td>G</td>\n",
       "      <td>None</td>\n",
       "      <td>2</td>\n",
       "      <td>POLYGON ((142.92288 -37.97886, 142.90449 -37.9...</td>\n",
       "    </tr>\n",
       "    <tr>\n",
       "      <td>3</td>\n",
       "      <td>6673</td>\n",
       "      <td>2011-08-31</td>\n",
       "      <td>None</td>\n",
       "      <td>VIC734</td>\n",
       "      <td>2017-08-09</td>\n",
       "      <td>None</td>\n",
       "      <td>DEPTFORD</td>\n",
       "      <td>None</td>\n",
       "      <td>None</td>\n",
       "      <td>G</td>\n",
       "      <td>None</td>\n",
       "      <td>2</td>\n",
       "      <td>POLYGON ((147.82336 -37.66001, 147.82313 -37.6...</td>\n",
       "    </tr>\n",
       "    <tr>\n",
       "      <td>4</td>\n",
       "      <td>6674</td>\n",
       "      <td>2011-08-31</td>\n",
       "      <td>None</td>\n",
       "      <td>VIC2900</td>\n",
       "      <td>2012-04-27</td>\n",
       "      <td>None</td>\n",
       "      <td>YANAC</td>\n",
       "      <td>None</td>\n",
       "      <td>None</td>\n",
       "      <td>G</td>\n",
       "      <td>None</td>\n",
       "      <td>2</td>\n",
       "      <td>POLYGON ((141.27978 -35.99859, 141.27989 -35.9...</td>\n",
       "    </tr>\n",
       "  </tbody>\n",
       "</table>\n",
       "</div>"
      ],
      "text/plain": [
       "  LC_PLY_PID   DT_CREATE DT_RETIRE  LOC_PID  VIC_LOCALI VIC_LOCA_1 VIC_LOCA_2  \\\n",
       "0       6670  2011-08-31      None  VIC2615  2012-04-27       None  UNDERBOOL   \n",
       "1       6671  2011-08-31      None  VIC1986  2012-04-27       None     NURRAN   \n",
       "2       6672  2011-08-31      None  VIC2862  2012-04-27       None   WOORNDOO   \n",
       "3       6673  2011-08-31      None   VIC734  2017-08-09       None   DEPTFORD   \n",
       "4       6674  2011-08-31      None  VIC2900  2012-04-27       None      YANAC   \n",
       "\n",
       "  VIC_LOCA_3 VIC_LOCA_4 VIC_LOCA_5 VIC_LOCA_6 VIC_LOCA_7  \\\n",
       "0       None       None          G       None          2   \n",
       "1       None       None          G       None          2   \n",
       "2       None       None          G       None          2   \n",
       "3       None       None          G       None          2   \n",
       "4       None       None          G       None          2   \n",
       "\n",
       "                                            geometry  \n",
       "0  POLYGON ((141.74552 -35.07229, 141.74552 -35.0...  \n",
       "1  POLYGON ((148.66877 -37.39571, 148.66876 -37.3...  \n",
       "2  POLYGON ((142.92288 -37.97886, 142.90449 -37.9...  \n",
       "3  POLYGON ((147.82336 -37.66001, 147.82313 -37.6...  \n",
       "4  POLYGON ((141.27978 -35.99859, 141.27989 -35.9...  "
      ]
     },
     "execution_count": 5,
     "metadata": {},
     "output_type": "execute_result"
    }
   ],
   "source": [
    "shapefile = gpd.read_file('VIC_LOCALITY_POLYGON_shp.shp')#Reading the given shape file\n",
    "sdf = gpd.GeoDataFrame(shapefile)#Converting the shapefile to geodataframe.\n",
    "sdf.head()"
   ]
  },
  {
   "cell_type": "code",
   "execution_count": 6,
   "metadata": {},
   "outputs": [
    {
     "data": {
      "text/html": [
       "<div>\n",
       "<style scoped>\n",
       "    .dataframe tbody tr th:only-of-type {\n",
       "        vertical-align: middle;\n",
       "    }\n",
       "\n",
       "    .dataframe tbody tr th {\n",
       "        vertical-align: top;\n",
       "    }\n",
       "\n",
       "    .dataframe thead th {\n",
       "        text-align: right;\n",
       "    }\n",
       "</style>\n",
       "<table border=\"1\" class=\"dataframe\">\n",
       "  <thead>\n",
       "    <tr style=\"text-align: right;\">\n",
       "      <th></th>\n",
       "      <th>VIC_LOCA_2</th>\n",
       "      <th>geometry</th>\n",
       "    </tr>\n",
       "  </thead>\n",
       "  <tbody>\n",
       "    <tr>\n",
       "      <td>0</td>\n",
       "      <td>UNDERBOOL</td>\n",
       "      <td>POLYGON ((141.74552 -35.07229, 141.74552 -35.0...</td>\n",
       "    </tr>\n",
       "    <tr>\n",
       "      <td>1</td>\n",
       "      <td>NURRAN</td>\n",
       "      <td>POLYGON ((148.66877 -37.39571, 148.66876 -37.3...</td>\n",
       "    </tr>\n",
       "    <tr>\n",
       "      <td>2</td>\n",
       "      <td>WOORNDOO</td>\n",
       "      <td>POLYGON ((142.92288 -37.97886, 142.90449 -37.9...</td>\n",
       "    </tr>\n",
       "    <tr>\n",
       "      <td>3</td>\n",
       "      <td>DEPTFORD</td>\n",
       "      <td>POLYGON ((147.82336 -37.66001, 147.82313 -37.6...</td>\n",
       "    </tr>\n",
       "    <tr>\n",
       "      <td>4</td>\n",
       "      <td>YANAC</td>\n",
       "      <td>POLYGON ((141.27978 -35.99859, 141.27989 -35.9...</td>\n",
       "    </tr>\n",
       "  </tbody>\n",
       "</table>\n",
       "</div>"
      ],
      "text/plain": [
       "  VIC_LOCA_2                                           geometry\n",
       "0  UNDERBOOL  POLYGON ((141.74552 -35.07229, 141.74552 -35.0...\n",
       "1     NURRAN  POLYGON ((148.66877 -37.39571, 148.66876 -37.3...\n",
       "2   WOORNDOO  POLYGON ((142.92288 -37.97886, 142.90449 -37.9...\n",
       "3   DEPTFORD  POLYGON ((147.82336 -37.66001, 147.82313 -37.6...\n",
       "4      YANAC  POLYGON ((141.27978 -35.99859, 141.27989 -35.9..."
      ]
     },
     "execution_count": 6,
     "metadata": {},
     "output_type": "execute_result"
    }
   ],
   "source": [
    "#Getting only the suburb and geometry\n",
    "sdf1 = sdf[['VIC_LOCA_2','geometry']]\n",
    "\n",
    "#Assigning which column is geometry.\n",
    "sdf1.set_geometry('geometry')\n",
    "\n",
    "#Setting up the coordinate reference system.\n",
    "sdf1.crs={'init':'epsg:4326'}\n",
    "sdf1.head()"
   ]
  },
  {
   "cell_type": "code",
   "execution_count": 7,
   "metadata": {},
   "outputs": [
    {
     "name": "stderr",
     "output_type": "stream",
     "text": [
      "C:\\Users\\amsar\\Anaconda3\\lib\\site-packages\\geopandas\\tools\\sjoin.py:61: UserWarning: CRS of frames being joined does not match!({'int': 'epsg:4326'} != {'init': 'epsg:4326'})\n",
      "  \"(%s != %s)\" % (left_df.crs, right_df.crs)\n"
     ]
    },
    {
     "data": {
      "text/html": [
       "<div>\n",
       "<style scoped>\n",
       "    .dataframe tbody tr th:only-of-type {\n",
       "        vertical-align: middle;\n",
       "    }\n",
       "\n",
       "    .dataframe tbody tr th {\n",
       "        vertical-align: top;\n",
       "    }\n",
       "\n",
       "    .dataframe thead th {\n",
       "        text-align: right;\n",
       "    }\n",
       "</style>\n",
       "<table border=\"1\" class=\"dataframe\">\n",
       "  <thead>\n",
       "    <tr style=\"text-align: right;\">\n",
       "      <th></th>\n",
       "      <th>ID</th>\n",
       "      <th>Address</th>\n",
       "      <th>Rooms</th>\n",
       "      <th>Type</th>\n",
       "      <th>Price</th>\n",
       "      <th>Date</th>\n",
       "      <th>Bathroom</th>\n",
       "      <th>Car</th>\n",
       "      <th>Landsize</th>\n",
       "      <th>Age</th>\n",
       "      <th>Lattitude</th>\n",
       "      <th>Longtitude</th>\n",
       "      <th>geometry</th>\n",
       "      <th>Suburb</th>\n",
       "    </tr>\n",
       "  </thead>\n",
       "  <tbody>\n",
       "    <tr>\n",
       "      <td>0</td>\n",
       "      <td>ID253199063</td>\n",
       "      <td>8 Kinnane Cr</td>\n",
       "      <td>3</td>\n",
       "      <td>h</td>\n",
       "      <td>830500.0</td>\n",
       "      <td>8/07/2017</td>\n",
       "      <td>1.0</td>\n",
       "      <td>2.0</td>\n",
       "      <td>508.0</td>\n",
       "      <td>69.0</td>\n",
       "      <td>-37.78070</td>\n",
       "      <td>144.83648</td>\n",
       "      <td>POINT (144.83648 -37.78070)</td>\n",
       "      <td>SUNSHINE</td>\n",
       "    </tr>\n",
       "    <tr>\n",
       "      <td>1</td>\n",
       "      <td>ID764854482</td>\n",
       "      <td>9 Banks Pl</td>\n",
       "      <td>3</td>\n",
       "      <td>h</td>\n",
       "      <td>742000.0</td>\n",
       "      <td>26/08/2017</td>\n",
       "      <td>2.0</td>\n",
       "      <td>2.0</td>\n",
       "      <td>375.0</td>\n",
       "      <td>44.0</td>\n",
       "      <td>-37.68415</td>\n",
       "      <td>144.89990</td>\n",
       "      <td>POINT (144.89990 -37.68415)</td>\n",
       "      <td>GLADSTONE PARK</td>\n",
       "    </tr>\n",
       "    <tr>\n",
       "      <td>2</td>\n",
       "      <td>ID765581220</td>\n",
       "      <td>112 Belmore Rd</td>\n",
       "      <td>5</td>\n",
       "      <td>h</td>\n",
       "      <td>3020000.0</td>\n",
       "      <td>28/05/2016</td>\n",
       "      <td>3.0</td>\n",
       "      <td>2.0</td>\n",
       "      <td>715.0</td>\n",
       "      <td>10.0</td>\n",
       "      <td>-37.80280</td>\n",
       "      <td>145.07680</td>\n",
       "      <td>POINT (145.07680 -37.80280)</td>\n",
       "      <td>BALWYN</td>\n",
       "    </tr>\n",
       "    <tr>\n",
       "      <td>3</td>\n",
       "      <td>ID364066284</td>\n",
       "      <td>12 Rasmussen Ct</td>\n",
       "      <td>4</td>\n",
       "      <td>h</td>\n",
       "      <td>922000.0</td>\n",
       "      <td>1/07/2017</td>\n",
       "      <td>2.0</td>\n",
       "      <td>2.0</td>\n",
       "      <td>463.0</td>\n",
       "      <td>59.0</td>\n",
       "      <td>-37.73704</td>\n",
       "      <td>144.97959</td>\n",
       "      <td>POINT (144.97959 -37.73704)</td>\n",
       "      <td>COBURG</td>\n",
       "    </tr>\n",
       "    <tr>\n",
       "      <td>4</td>\n",
       "      <td>ID879430645</td>\n",
       "      <td>29 Alfred St</td>\n",
       "      <td>2</td>\n",
       "      <td>h</td>\n",
       "      <td>825000.0</td>\n",
       "      <td>14/05/2016</td>\n",
       "      <td>1.0</td>\n",
       "      <td>0.0</td>\n",
       "      <td>111.0</td>\n",
       "      <td>109.0</td>\n",
       "      <td>-37.83500</td>\n",
       "      <td>144.93730</td>\n",
       "      <td>POINT (144.93730 -37.83500)</td>\n",
       "      <td>PORT MELBOURNE</td>\n",
       "    </tr>\n",
       "  </tbody>\n",
       "</table>\n",
       "</div>"
      ],
      "text/plain": [
       "            ID          Address  Rooms Type      Price        Date  Bathroom  \\\n",
       "0  ID253199063     8 Kinnane Cr      3    h   830500.0   8/07/2017       1.0   \n",
       "1  ID764854482       9 Banks Pl      3    h   742000.0  26/08/2017       2.0   \n",
       "2  ID765581220   112 Belmore Rd      5    h  3020000.0  28/05/2016       3.0   \n",
       "3  ID364066284  12 Rasmussen Ct      4    h   922000.0   1/07/2017       2.0   \n",
       "4  ID879430645     29 Alfred St      2    h   825000.0  14/05/2016       1.0   \n",
       "\n",
       "   Car  Landsize    Age  Lattitude  Longtitude                     geometry  \\\n",
       "0  2.0     508.0   69.0  -37.78070   144.83648  POINT (144.83648 -37.78070)   \n",
       "1  2.0     375.0   44.0  -37.68415   144.89990  POINT (144.89990 -37.68415)   \n",
       "2  2.0     715.0   10.0  -37.80280   145.07680  POINT (145.07680 -37.80280)   \n",
       "3  2.0     463.0   59.0  -37.73704   144.97959  POINT (144.97959 -37.73704)   \n",
       "4  0.0     111.0  109.0  -37.83500   144.93730  POINT (144.93730 -37.83500)   \n",
       "\n",
       "           Suburb  \n",
       "0        SUNSHINE  \n",
       "1  GLADSTONE PARK  \n",
       "2          BALWYN  \n",
       "3          COBURG  \n",
       "4  PORT MELBOURNE  "
      ]
     },
     "execution_count": 7,
     "metadata": {},
     "output_type": "execute_result"
    }
   ],
   "source": [
    "#Performing the spatial join.\n",
    "df_suburb = gpd.sjoin(new_df,sdf1,how='left',op='within')\n",
    "\n",
    "#Converting to pandas dataframe\n",
    "df = pd.DataFrame(df_suburb)\n",
    "\n",
    "#Dropping the unnecessary column\n",
    "df = df.drop(['index_right'],axis=1)\n",
    "\n",
    "#renaming the columns\n",
    "df.rename(columns={\"VIC_LOCA_2\":'Suburb'},inplace=True)\n",
    "df.head()"
   ]
  },
  {
   "cell_type": "code",
   "execution_count": 8,
   "metadata": {},
   "outputs": [],
   "source": [
    "# dropping irrelevent columns\n",
    "df = df.drop(['geometry'], axis = 1)"
   ]
  },
  {
   "cell_type": "markdown",
   "metadata": {},
   "source": [
    "## Crime A, B & C"
   ]
  },
  {
   "cell_type": "markdown",
   "metadata": {},
   "source": [
    "To find the average crime in the local government area the property belongs to, in the three years prior to selling the property as the property, first we need to extract local government from the `councils.txt` file for respective Suburb in the our `df` dataframe."
   ]
  },
  {
   "cell_type": "code",
   "execution_count": 9,
   "metadata": {},
   "outputs": [],
   "source": [
    "# load councils.txt file \n",
    "council_file = open('councils.txt')\n",
    "councils = council_file.readlines()"
   ]
  },
  {
   "cell_type": "markdown",
   "metadata": {},
   "source": [
    "We will store these council data in pandas dataframe"
   ]
  },
  {
   "cell_type": "code",
   "execution_count": 10,
   "metadata": {},
   "outputs": [],
   "source": [
    "df_council = pd.DataFrame(columns = ['Council','Suburbs'])"
   ]
  },
  {
   "cell_type": "code",
   "execution_count": 11,
   "metadata": {},
   "outputs": [],
   "source": [
    "# extracting councils and respective suburbs and storing them in council_df\n",
    "for each in councils:\n",
    "    council = re.search(r'([\\w\\s]+) :',each)\n",
    "    subs = re.findall(r'\\'([\\w\\s]+)\\'',each)\n",
    "    if council:\n",
    "        df_council = df_council.append({'Council':council.group(1), 'Suburbs':list(subs)}, ignore_index=True)   "
   ]
  },
  {
   "cell_type": "code",
   "execution_count": 12,
   "metadata": {},
   "outputs": [
    {
     "data": {
      "text/html": [
       "<div>\n",
       "<style scoped>\n",
       "    .dataframe tbody tr th:only-of-type {\n",
       "        vertical-align: middle;\n",
       "    }\n",
       "\n",
       "    .dataframe tbody tr th {\n",
       "        vertical-align: top;\n",
       "    }\n",
       "\n",
       "    .dataframe thead th {\n",
       "        text-align: right;\n",
       "    }\n",
       "</style>\n",
       "<table border=\"1\" class=\"dataframe\">\n",
       "  <thead>\n",
       "    <tr style=\"text-align: right;\">\n",
       "      <th></th>\n",
       "      <th>Council</th>\n",
       "      <th>Suburbs</th>\n",
       "    </tr>\n",
       "  </thead>\n",
       "  <tbody>\n",
       "    <tr>\n",
       "      <td>0</td>\n",
       "      <td>BANYULE</td>\n",
       "      <td>[Abbotsford, Airport West, Albert Park, Alphin...</td>\n",
       "    </tr>\n",
       "    <tr>\n",
       "      <td>1</td>\n",
       "      <td>BRIMBANK</td>\n",
       "      <td>[Altona, Altona North, Armadale, Ascot Vale]</td>\n",
       "    </tr>\n",
       "    <tr>\n",
       "      <td>2</td>\n",
       "      <td>DAREBIN</td>\n",
       "      <td>[Ashburton, Ashwood, Avondale Heights, Balaclava]</td>\n",
       "    </tr>\n",
       "    <tr>\n",
       "      <td>3</td>\n",
       "      <td>HOBSONS BAY</td>\n",
       "      <td>[Balwyn, Balwyn North, Bentleigh, Bentleigh East]</td>\n",
       "    </tr>\n",
       "    <tr>\n",
       "      <td>4</td>\n",
       "      <td>HUME</td>\n",
       "      <td>[Box Hill, Braybrook, Brighton, Brighton East]</td>\n",
       "    </tr>\n",
       "  </tbody>\n",
       "</table>\n",
       "</div>"
      ],
      "text/plain": [
       "       Council                                            Suburbs\n",
       "0      BANYULE  [Abbotsford, Airport West, Albert Park, Alphin...\n",
       "1     BRIMBANK       [Altona, Altona North, Armadale, Ascot Vale]\n",
       "2      DAREBIN  [Ashburton, Ashwood, Avondale Heights, Balaclava]\n",
       "3  HOBSONS BAY  [Balwyn, Balwyn North, Bentleigh, Bentleigh East]\n",
       "4         HUME     [Box Hill, Braybrook, Brighton, Brighton East]"
      ]
     },
     "execution_count": 12,
     "metadata": {},
     "output_type": "execute_result"
    }
   ],
   "source": [
    "df_council.head()"
   ]
  },
  {
   "cell_type": "markdown",
   "metadata": {},
   "source": [
    "We have successfully acquired council data into dataframe called df_council. Now we find the respective council for the suburb."
   ]
  },
  {
   "cell_type": "code",
   "execution_count": 13,
   "metadata": {},
   "outputs": [],
   "source": [
    "def extract_council(data):\n",
    "    sub = data['Suburb'].lower()\n",
    "    for index,value in df_council.iterrows():\n",
    "        for subs in df_council['Suburbs'][index]:\n",
    "            if subs.lower() == sub:\n",
    "                return (df_council['Council'][index])\n",
    "    "
   ]
  },
  {
   "cell_type": "code",
   "execution_count": 14,
   "metadata": {},
   "outputs": [],
   "source": [
    "df['Council'] = df.apply(lambda x: extract_council(x), axis = 1)"
   ]
  },
  {
   "cell_type": "code",
   "execution_count": 15,
   "metadata": {},
   "outputs": [
    {
     "data": {
      "text/html": [
       "<div>\n",
       "<style scoped>\n",
       "    .dataframe tbody tr th:only-of-type {\n",
       "        vertical-align: middle;\n",
       "    }\n",
       "\n",
       "    .dataframe tbody tr th {\n",
       "        vertical-align: top;\n",
       "    }\n",
       "\n",
       "    .dataframe thead th {\n",
       "        text-align: right;\n",
       "    }\n",
       "</style>\n",
       "<table border=\"1\" class=\"dataframe\">\n",
       "  <thead>\n",
       "    <tr style=\"text-align: right;\">\n",
       "      <th></th>\n",
       "      <th>ID</th>\n",
       "      <th>Address</th>\n",
       "      <th>Rooms</th>\n",
       "      <th>Type</th>\n",
       "      <th>Price</th>\n",
       "      <th>Date</th>\n",
       "      <th>Bathroom</th>\n",
       "      <th>Car</th>\n",
       "      <th>Landsize</th>\n",
       "      <th>Age</th>\n",
       "      <th>Lattitude</th>\n",
       "      <th>Longtitude</th>\n",
       "      <th>Suburb</th>\n",
       "      <th>Council</th>\n",
       "    </tr>\n",
       "  </thead>\n",
       "  <tbody>\n",
       "    <tr>\n",
       "      <td>0</td>\n",
       "      <td>ID253199063</td>\n",
       "      <td>8 Kinnane Cr</td>\n",
       "      <td>3</td>\n",
       "      <td>h</td>\n",
       "      <td>830500.0</td>\n",
       "      <td>8/07/2017</td>\n",
       "      <td>1.0</td>\n",
       "      <td>2.0</td>\n",
       "      <td>508.0</td>\n",
       "      <td>69.0</td>\n",
       "      <td>-37.78070</td>\n",
       "      <td>144.83648</td>\n",
       "      <td>SUNSHINE</td>\n",
       "      <td>KNOX</td>\n",
       "    </tr>\n",
       "    <tr>\n",
       "      <td>1</td>\n",
       "      <td>ID764854482</td>\n",
       "      <td>9 Banks Pl</td>\n",
       "      <td>3</td>\n",
       "      <td>h</td>\n",
       "      <td>742000.0</td>\n",
       "      <td>26/08/2017</td>\n",
       "      <td>2.0</td>\n",
       "      <td>2.0</td>\n",
       "      <td>375.0</td>\n",
       "      <td>44.0</td>\n",
       "      <td>-37.68415</td>\n",
       "      <td>144.89990</td>\n",
       "      <td>GLADSTONE PARK</td>\n",
       "      <td>GLEN EIRA</td>\n",
       "    </tr>\n",
       "    <tr>\n",
       "      <td>2</td>\n",
       "      <td>ID765581220</td>\n",
       "      <td>112 Belmore Rd</td>\n",
       "      <td>5</td>\n",
       "      <td>h</td>\n",
       "      <td>3020000.0</td>\n",
       "      <td>28/05/2016</td>\n",
       "      <td>3.0</td>\n",
       "      <td>2.0</td>\n",
       "      <td>715.0</td>\n",
       "      <td>10.0</td>\n",
       "      <td>-37.80280</td>\n",
       "      <td>145.07680</td>\n",
       "      <td>BALWYN</td>\n",
       "      <td>HOBSONS BAY</td>\n",
       "    </tr>\n",
       "    <tr>\n",
       "      <td>3</td>\n",
       "      <td>ID364066284</td>\n",
       "      <td>12 Rasmussen Ct</td>\n",
       "      <td>4</td>\n",
       "      <td>h</td>\n",
       "      <td>922000.0</td>\n",
       "      <td>1/07/2017</td>\n",
       "      <td>2.0</td>\n",
       "      <td>2.0</td>\n",
       "      <td>463.0</td>\n",
       "      <td>59.0</td>\n",
       "      <td>-37.73704</td>\n",
       "      <td>144.97959</td>\n",
       "      <td>COBURG</td>\n",
       "      <td>MOONEE VALLEY</td>\n",
       "    </tr>\n",
       "    <tr>\n",
       "      <td>4</td>\n",
       "      <td>ID879430645</td>\n",
       "      <td>29 Alfred St</td>\n",
       "      <td>2</td>\n",
       "      <td>h</td>\n",
       "      <td>825000.0</td>\n",
       "      <td>14/05/2016</td>\n",
       "      <td>1.0</td>\n",
       "      <td>0.0</td>\n",
       "      <td>111.0</td>\n",
       "      <td>109.0</td>\n",
       "      <td>-37.83500</td>\n",
       "      <td>144.93730</td>\n",
       "      <td>PORT MELBOURNE</td>\n",
       "      <td>BOROONDARA</td>\n",
       "    </tr>\n",
       "  </tbody>\n",
       "</table>\n",
       "</div>"
      ],
      "text/plain": [
       "            ID          Address  Rooms Type      Price        Date  Bathroom  \\\n",
       "0  ID253199063     8 Kinnane Cr      3    h   830500.0   8/07/2017       1.0   \n",
       "1  ID764854482       9 Banks Pl      3    h   742000.0  26/08/2017       2.0   \n",
       "2  ID765581220   112 Belmore Rd      5    h  3020000.0  28/05/2016       3.0   \n",
       "3  ID364066284  12 Rasmussen Ct      4    h   922000.0   1/07/2017       2.0   \n",
       "4  ID879430645     29 Alfred St      2    h   825000.0  14/05/2016       1.0   \n",
       "\n",
       "   Car  Landsize    Age  Lattitude  Longtitude          Suburb        Council  \n",
       "0  2.0     508.0   69.0  -37.78070   144.83648        SUNSHINE           KNOX  \n",
       "1  2.0     375.0   44.0  -37.68415   144.89990  GLADSTONE PARK      GLEN EIRA  \n",
       "2  2.0     715.0   10.0  -37.80280   145.07680          BALWYN    HOBSONS BAY  \n",
       "3  2.0     463.0   59.0  -37.73704   144.97959          COBURG  MOONEE VALLEY  \n",
       "4  0.0     111.0  109.0  -37.83500   144.93730  PORT MELBOURNE     BOROONDARA  "
      ]
     },
     "execution_count": 15,
     "metadata": {},
     "output_type": "execute_result"
    }
   ],
   "source": [
    "df.head()"
   ]
  },
  {
   "cell_type": "markdown",
   "metadata": {},
   "source": [
    "We have got Council from the councils.txt file to our dataframe `df`."
   ]
  },
  {
   "cell_type": "markdown",
   "metadata": {},
   "source": [
    "We need to extract property selling year from the Date column in the `df` dataframe."
   ]
  },
  {
   "cell_type": "code",
   "execution_count": 16,
   "metadata": {},
   "outputs": [],
   "source": [
    "df['Property Date'] = pd.to_datetime(df['Date'])\n",
    "df['Year'] = df['Property Date'].dt.year"
   ]
  },
  {
   "cell_type": "code",
   "execution_count": 17,
   "metadata": {},
   "outputs": [
    {
     "data": {
      "text/plain": [
       "Index(['ID', 'Address', 'Rooms', 'Type', 'Price', 'Date', 'Bathroom', 'Car',\n",
       "       'Landsize', 'Age', 'Lattitude', 'Longtitude', 'Suburb', 'Council',\n",
       "       'Property Date', 'Year'],\n",
       "      dtype='object')"
      ]
     },
     "execution_count": 17,
     "metadata": {},
     "output_type": "execute_result"
    }
   ],
   "source": [
    "df.columns"
   ]
  },
  {
   "cell_type": "code",
   "execution_count": 18,
   "metadata": {},
   "outputs": [],
   "source": [
    "# dropping irrelevant columns\n",
    "df = df.drop(['Property Date'],axis=1) "
   ]
  },
  {
   "cell_type": "markdown",
   "metadata": {},
   "source": [
    "Now we load `crimebylocationdatatable-yearending31march2016.xlsx` file to find the average crime count for the respective council in the three years prior to selling property."
   ]
  },
  {
   "cell_type": "code",
   "execution_count": 19,
   "metadata": {},
   "outputs": [],
   "source": [
    "crimes_file = pd.ExcelFile('crimebylocationdatatable-yearending31march2016.xlsx')\n",
    "crime_data = pd.read_excel(crimes_file, 'Table 1')"
   ]
  },
  {
   "cell_type": "code",
   "execution_count": 20,
   "metadata": {
    "scrolled": true
   },
   "outputs": [
    {
     "data": {
      "text/html": [
       "<div>\n",
       "<style scoped>\n",
       "    .dataframe tbody tr th:only-of-type {\n",
       "        vertical-align: middle;\n",
       "    }\n",
       "\n",
       "    .dataframe tbody tr th {\n",
       "        vertical-align: top;\n",
       "    }\n",
       "\n",
       "    .dataframe thead th {\n",
       "        text-align: right;\n",
       "    }\n",
       "</style>\n",
       "<table border=\"1\" class=\"dataframe\">\n",
       "  <thead>\n",
       "    <tr style=\"text-align: right;\">\n",
       "      <th></th>\n",
       "      <th>Unnamed: 0</th>\n",
       "      <th>Unnamed: 1</th>\n",
       "      <th>Unnamed: 2</th>\n",
       "      <th>Unnamed: 3</th>\n",
       "      <th>Unnamed: 4</th>\n",
       "      <th>Unnamed: 5</th>\n",
       "      <th>Unnamed: 6</th>\n",
       "      <th>Unnamed: 7</th>\n",
       "      <th>Unnamed: 8</th>\n",
       "      <th>Unnamed: 9</th>\n",
       "    </tr>\n",
       "  </thead>\n",
       "  <tbody>\n",
       "    <tr>\n",
       "      <td>0</td>\n",
       "      <td>NaN</td>\n",
       "      <td>NaN</td>\n",
       "      <td>NaN</td>\n",
       "      <td>NaN</td>\n",
       "      <td>NaN</td>\n",
       "      <td>NaN</td>\n",
       "      <td>NaN</td>\n",
       "      <td>NaN</td>\n",
       "      <td>NaN</td>\n",
       "      <td>NaN</td>\n",
       "    </tr>\n",
       "    <tr>\n",
       "      <td>1</td>\n",
       "      <td>NaN</td>\n",
       "      <td>NaN</td>\n",
       "      <td>NaN</td>\n",
       "      <td>NaN</td>\n",
       "      <td>NaN</td>\n",
       "      <td>NaN</td>\n",
       "      <td>NaN</td>\n",
       "      <td>NaN</td>\n",
       "      <td>NaN</td>\n",
       "      <td>NaN</td>\n",
       "    </tr>\n",
       "    <tr>\n",
       "      <td>2</td>\n",
       "      <td>NaN</td>\n",
       "      <td>NaN</td>\n",
       "      <td>NaN</td>\n",
       "      <td>NaN</td>\n",
       "      <td>NaN</td>\n",
       "      <td>NaN</td>\n",
       "      <td>NaN</td>\n",
       "      <td>NaN</td>\n",
       "      <td>NaN</td>\n",
       "      <td>NaN</td>\n",
       "    </tr>\n",
       "    <tr>\n",
       "      <td>3</td>\n",
       "      <td>NaN</td>\n",
       "      <td>NaN</td>\n",
       "      <td>NaN</td>\n",
       "      <td>NaN</td>\n",
       "      <td>NaN</td>\n",
       "      <td>NaN</td>\n",
       "      <td>NaN</td>\n",
       "      <td>NaN</td>\n",
       "      <td>NaN</td>\n",
       "      <td>NaN</td>\n",
       "    </tr>\n",
       "    <tr>\n",
       "      <td>4</td>\n",
       "      <td>NaN</td>\n",
       "      <td>NaN</td>\n",
       "      <td>NaN</td>\n",
       "      <td>NaN</td>\n",
       "      <td>NaN</td>\n",
       "      <td>NaN</td>\n",
       "      <td>NaN</td>\n",
       "      <td>NaN</td>\n",
       "      <td>NaN</td>\n",
       "      <td>NaN</td>\n",
       "    </tr>\n",
       "    <tr>\n",
       "      <td>5</td>\n",
       "      <td>NaN</td>\n",
       "      <td>NaN</td>\n",
       "      <td>NaN</td>\n",
       "      <td>NaN</td>\n",
       "      <td>NaN</td>\n",
       "      <td>NaN</td>\n",
       "      <td>NaN</td>\n",
       "      <td>NaN</td>\n",
       "      <td>NaN</td>\n",
       "      <td>NaN</td>\n",
       "    </tr>\n",
       "    <tr>\n",
       "      <td>6</td>\n",
       "      <td>NaN</td>\n",
       "      <td>NaN</td>\n",
       "      <td>NaN</td>\n",
       "      <td>NaN</td>\n",
       "      <td>NaN</td>\n",
       "      <td>NaN</td>\n",
       "      <td>NaN</td>\n",
       "      <td>NaN</td>\n",
       "      <td>NaN</td>\n",
       "      <td>NaN</td>\n",
       "    </tr>\n",
       "    <tr>\n",
       "      <td>7</td>\n",
       "      <td>NaN</td>\n",
       "      <td>NaN</td>\n",
       "      <td>NaN</td>\n",
       "      <td>NaN</td>\n",
       "      <td>NaN</td>\n",
       "      <td>NaN</td>\n",
       "      <td>NaN</td>\n",
       "      <td>NaN</td>\n",
       "      <td>NaN</td>\n",
       "      <td>NaN</td>\n",
       "    </tr>\n",
       "    <tr>\n",
       "      <td>8</td>\n",
       "      <td>NaN</td>\n",
       "      <td>NaN</td>\n",
       "      <td>NaN</td>\n",
       "      <td>NaN</td>\n",
       "      <td>NaN</td>\n",
       "      <td>NaN</td>\n",
       "      <td>NaN</td>\n",
       "      <td>NaN</td>\n",
       "      <td>NaN</td>\n",
       "      <td>NaN</td>\n",
       "    </tr>\n",
       "    <tr>\n",
       "      <td>9</td>\n",
       "      <td>NaN</td>\n",
       "      <td>Table 1. Number of offences by geographic area...</td>\n",
       "      <td>NaN</td>\n",
       "      <td>NaN</td>\n",
       "      <td>NaN</td>\n",
       "      <td>NaN</td>\n",
       "      <td>NaN</td>\n",
       "      <td>NaN</td>\n",
       "      <td>NaN</td>\n",
       "      <td>NaN</td>\n",
       "    </tr>\n",
       "    <tr>\n",
       "      <td>10</td>\n",
       "      <td>NaN</td>\n",
       "      <td>NaN</td>\n",
       "      <td>NaN</td>\n",
       "      <td>NaN</td>\n",
       "      <td>NaN</td>\n",
       "      <td>NaN</td>\n",
       "      <td>NaN</td>\n",
       "      <td>NaN</td>\n",
       "      <td>NaN</td>\n",
       "      <td>NaN</td>\n",
       "    </tr>\n",
       "    <tr>\n",
       "      <td>11</td>\n",
       "      <td>NaN</td>\n",
       "      <td>NaN</td>\n",
       "      <td>NaN</td>\n",
       "      <td>NaN</td>\n",
       "      <td>NaN</td>\n",
       "      <td>NaN</td>\n",
       "      <td>NaN</td>\n",
       "      <td>NaN</td>\n",
       "      <td>NaN</td>\n",
       "      <td>NaN</td>\n",
       "    </tr>\n",
       "    <tr>\n",
       "      <td>12</td>\n",
       "      <td>NaN</td>\n",
       "      <td>NaN</td>\n",
       "      <td>NaN</td>\n",
       "      <td>NaN</td>\n",
       "      <td>NaN</td>\n",
       "      <td>NaN</td>\n",
       "      <td>NaN</td>\n",
       "      <td>NaN</td>\n",
       "      <td>NaN</td>\n",
       "      <td>NaN</td>\n",
       "    </tr>\n",
       "    <tr>\n",
       "      <td>13</td>\n",
       "      <td>NaN</td>\n",
       "      <td>NaN</td>\n",
       "      <td>NaN</td>\n",
       "      <td>NaN</td>\n",
       "      <td>NaN</td>\n",
       "      <td>NaN</td>\n",
       "      <td>NaN</td>\n",
       "      <td>NaN</td>\n",
       "      <td>NaN</td>\n",
       "      <td>NaN</td>\n",
       "    </tr>\n",
       "    <tr>\n",
       "      <td>14</td>\n",
       "      <td>NaN</td>\n",
       "      <td>NaN</td>\n",
       "      <td>NaN</td>\n",
       "      <td>NaN</td>\n",
       "      <td>NaN</td>\n",
       "      <td>NaN</td>\n",
       "      <td>NaN</td>\n",
       "      <td>NaN</td>\n",
       "      <td>NaN</td>\n",
       "      <td>NaN</td>\n",
       "    </tr>\n",
       "    <tr>\n",
       "      <td>15</td>\n",
       "      <td>NaN</td>\n",
       "      <td>NaN</td>\n",
       "      <td>NaN</td>\n",
       "      <td>NaN</td>\n",
       "      <td>NaN</td>\n",
       "      <td>NaN</td>\n",
       "      <td>NaN</td>\n",
       "      <td>NaN</td>\n",
       "      <td>NaN</td>\n",
       "      <td>NaN</td>\n",
       "    </tr>\n",
       "    <tr>\n",
       "      <td>16</td>\n",
       "      <td>NaN</td>\n",
       "      <td>NaN</td>\n",
       "      <td>NaN</td>\n",
       "      <td>NaN</td>\n",
       "      <td>NaN</td>\n",
       "      <td>NaN</td>\n",
       "      <td>NaN</td>\n",
       "      <td>NaN</td>\n",
       "      <td>NaN</td>\n",
       "      <td>NaN</td>\n",
       "    </tr>\n",
       "    <tr>\n",
       "      <td>17</td>\n",
       "      <td>NaN</td>\n",
       "      <td>NaN</td>\n",
       "      <td>NaN</td>\n",
       "      <td>NaN</td>\n",
       "      <td>NaN</td>\n",
       "      <td>NaN</td>\n",
       "      <td>NaN</td>\n",
       "      <td>NaN</td>\n",
       "      <td>NaN</td>\n",
       "      <td>NaN</td>\n",
       "    </tr>\n",
       "    <tr>\n",
       "      <td>18</td>\n",
       "      <td>NaN</td>\n",
       "      <td>Apr - Mar reference period</td>\n",
       "      <td>Police Region</td>\n",
       "      <td>Police Service Area</td>\n",
       "      <td>Local Government Area</td>\n",
       "      <td>CSA Offence Division</td>\n",
       "      <td>CSA Offence Subdivision</td>\n",
       "      <td>Offence Count</td>\n",
       "      <td>LGA ERP</td>\n",
       "      <td>Victorian ERP</td>\n",
       "    </tr>\n",
       "    <tr>\n",
       "      <td>19</td>\n",
       "      <td>NaN</td>\n",
       "      <td>2012</td>\n",
       "      <td>1 North West Metro</td>\n",
       "      <td>BANYULE</td>\n",
       "      <td>BANYULE</td>\n",
       "      <td>A Crimes against the person</td>\n",
       "      <td>A10 Homicide and related offences</td>\n",
       "      <td>4</td>\n",
       "      <td>123600</td>\n",
       "      <td>5632521</td>\n",
       "    </tr>\n",
       "  </tbody>\n",
       "</table>\n",
       "</div>"
      ],
      "text/plain": [
       "    Unnamed: 0                                         Unnamed: 1  \\\n",
       "0          NaN                                                NaN   \n",
       "1          NaN                                                NaN   \n",
       "2          NaN                                                NaN   \n",
       "3          NaN                                                NaN   \n",
       "4          NaN                                                NaN   \n",
       "5          NaN                                                NaN   \n",
       "6          NaN                                                NaN   \n",
       "7          NaN                                                NaN   \n",
       "8          NaN                                                NaN   \n",
       "9          NaN  Table 1. Number of offences by geographic area...   \n",
       "10         NaN                                                NaN   \n",
       "11         NaN                                                NaN   \n",
       "12         NaN                                                NaN   \n",
       "13         NaN                                                NaN   \n",
       "14         NaN                                                NaN   \n",
       "15         NaN                                                NaN   \n",
       "16         NaN                                                NaN   \n",
       "17         NaN                                                NaN   \n",
       "18         NaN                         Apr - Mar reference period   \n",
       "19         NaN                                               2012   \n",
       "\n",
       "            Unnamed: 2           Unnamed: 3             Unnamed: 4  \\\n",
       "0                  NaN                  NaN                    NaN   \n",
       "1                  NaN                  NaN                    NaN   \n",
       "2                  NaN                  NaN                    NaN   \n",
       "3                  NaN                  NaN                    NaN   \n",
       "4                  NaN                  NaN                    NaN   \n",
       "5                  NaN                  NaN                    NaN   \n",
       "6                  NaN                  NaN                    NaN   \n",
       "7                  NaN                  NaN                    NaN   \n",
       "8                  NaN                  NaN                    NaN   \n",
       "9                  NaN                  NaN                    NaN   \n",
       "10                 NaN                  NaN                    NaN   \n",
       "11                 NaN                  NaN                    NaN   \n",
       "12                 NaN                  NaN                    NaN   \n",
       "13                 NaN                  NaN                    NaN   \n",
       "14                 NaN                  NaN                    NaN   \n",
       "15                 NaN                  NaN                    NaN   \n",
       "16                 NaN                  NaN                    NaN   \n",
       "17                 NaN                  NaN                    NaN   \n",
       "18       Police Region  Police Service Area  Local Government Area   \n",
       "19  1 North West Metro              BANYULE                BANYULE   \n",
       "\n",
       "                     Unnamed: 5                         Unnamed: 6  \\\n",
       "0                           NaN                                NaN   \n",
       "1                           NaN                                NaN   \n",
       "2                           NaN                                NaN   \n",
       "3                           NaN                                NaN   \n",
       "4                           NaN                                NaN   \n",
       "5                           NaN                                NaN   \n",
       "6                           NaN                                NaN   \n",
       "7                           NaN                                NaN   \n",
       "8                           NaN                                NaN   \n",
       "9                           NaN                                NaN   \n",
       "10                          NaN                                NaN   \n",
       "11                          NaN                                NaN   \n",
       "12                          NaN                                NaN   \n",
       "13                          NaN                                NaN   \n",
       "14                          NaN                                NaN   \n",
       "15                          NaN                                NaN   \n",
       "16                          NaN                                NaN   \n",
       "17                          NaN                                NaN   \n",
       "18         CSA Offence Division            CSA Offence Subdivision   \n",
       "19  A Crimes against the person  A10 Homicide and related offences   \n",
       "\n",
       "       Unnamed: 7 Unnamed: 8     Unnamed: 9  \n",
       "0             NaN        NaN            NaN  \n",
       "1             NaN        NaN            NaN  \n",
       "2             NaN        NaN            NaN  \n",
       "3             NaN        NaN            NaN  \n",
       "4             NaN        NaN            NaN  \n",
       "5             NaN        NaN            NaN  \n",
       "6             NaN        NaN            NaN  \n",
       "7             NaN        NaN            NaN  \n",
       "8             NaN        NaN            NaN  \n",
       "9             NaN        NaN            NaN  \n",
       "10            NaN        NaN            NaN  \n",
       "11            NaN        NaN            NaN  \n",
       "12            NaN        NaN            NaN  \n",
       "13            NaN        NaN            NaN  \n",
       "14            NaN        NaN            NaN  \n",
       "15            NaN        NaN            NaN  \n",
       "16            NaN        NaN            NaN  \n",
       "17            NaN        NaN            NaN  \n",
       "18  Offence Count    LGA ERP  Victorian ERP  \n",
       "19              4     123600        5632521  "
      ]
     },
     "execution_count": 20,
     "metadata": {},
     "output_type": "execute_result"
    }
   ],
   "source": [
    "crime_data.head(20)"
   ]
  },
  {
   "cell_type": "markdown",
   "metadata": {},
   "source": [
    "From the above output cell we can see that `Unnamed: 0` column contains all 'NaN' values, so we can drop the column and top 18 rows also contains 'NaN' values, therefore we can drop those rows.\n"
   ]
  },
  {
   "cell_type": "code",
   "execution_count": 21,
   "metadata": {},
   "outputs": [],
   "source": [
    "crime_data = crime_data.drop(['Unnamed: 0'], axis = 1)"
   ]
  },
  {
   "cell_type": "code",
   "execution_count": 22,
   "metadata": {},
   "outputs": [],
   "source": [
    "crime_data = crime_data.drop(crime_data.index[:18])\n",
    "header = crime_data.iloc[0]\n",
    "crime_data = crime_data[1:]\n",
    "crime_data = crime_data.rename(columns = header)\n",
    "crime_data = crime_data.reset_index(drop=True)"
   ]
  },
  {
   "cell_type": "code",
   "execution_count": 23,
   "metadata": {},
   "outputs": [
    {
     "data": {
      "text/html": [
       "<div>\n",
       "<style scoped>\n",
       "    .dataframe tbody tr th:only-of-type {\n",
       "        vertical-align: middle;\n",
       "    }\n",
       "\n",
       "    .dataframe tbody tr th {\n",
       "        vertical-align: top;\n",
       "    }\n",
       "\n",
       "    .dataframe thead th {\n",
       "        text-align: right;\n",
       "    }\n",
       "</style>\n",
       "<table border=\"1\" class=\"dataframe\">\n",
       "  <thead>\n",
       "    <tr style=\"text-align: right;\">\n",
       "      <th></th>\n",
       "      <th>Apr - Mar reference period</th>\n",
       "      <th>Police Region</th>\n",
       "      <th>Police Service Area</th>\n",
       "      <th>Local Government Area</th>\n",
       "      <th>CSA Offence Division</th>\n",
       "      <th>CSA Offence Subdivision</th>\n",
       "      <th>Offence Count</th>\n",
       "      <th>LGA ERP</th>\n",
       "      <th>Victorian ERP</th>\n",
       "    </tr>\n",
       "  </thead>\n",
       "  <tbody>\n",
       "    <tr>\n",
       "      <td>0</td>\n",
       "      <td>2012</td>\n",
       "      <td>1 North West Metro</td>\n",
       "      <td>BANYULE</td>\n",
       "      <td>BANYULE</td>\n",
       "      <td>A Crimes against the person</td>\n",
       "      <td>A10 Homicide and related offences</td>\n",
       "      <td>4</td>\n",
       "      <td>123600</td>\n",
       "      <td>5632521</td>\n",
       "    </tr>\n",
       "    <tr>\n",
       "      <td>1</td>\n",
       "      <td>2012</td>\n",
       "      <td>1 North West Metro</td>\n",
       "      <td>BANYULE</td>\n",
       "      <td>BANYULE</td>\n",
       "      <td>A Crimes against the person</td>\n",
       "      <td>A20 Assault and related offences</td>\n",
       "      <td>568</td>\n",
       "      <td>123600</td>\n",
       "      <td>5632521</td>\n",
       "    </tr>\n",
       "    <tr>\n",
       "      <td>2</td>\n",
       "      <td>2012</td>\n",
       "      <td>1 North West Metro</td>\n",
       "      <td>BANYULE</td>\n",
       "      <td>BANYULE</td>\n",
       "      <td>A Crimes against the person</td>\n",
       "      <td>A30 Sexual offences</td>\n",
       "      <td>132</td>\n",
       "      <td>123600</td>\n",
       "      <td>5632521</td>\n",
       "    </tr>\n",
       "    <tr>\n",
       "      <td>3</td>\n",
       "      <td>2012</td>\n",
       "      <td>1 North West Metro</td>\n",
       "      <td>BANYULE</td>\n",
       "      <td>BANYULE</td>\n",
       "      <td>A Crimes against the person</td>\n",
       "      <td>A40 Abduction and related offences</td>\n",
       "      <td>12</td>\n",
       "      <td>123600</td>\n",
       "      <td>5632521</td>\n",
       "    </tr>\n",
       "    <tr>\n",
       "      <td>4</td>\n",
       "      <td>2012</td>\n",
       "      <td>1 North West Metro</td>\n",
       "      <td>BANYULE</td>\n",
       "      <td>BANYULE</td>\n",
       "      <td>A Crimes against the person</td>\n",
       "      <td>A50 Robbery</td>\n",
       "      <td>46</td>\n",
       "      <td>123600</td>\n",
       "      <td>5632521</td>\n",
       "    </tr>\n",
       "  </tbody>\n",
       "</table>\n",
       "</div>"
      ],
      "text/plain": [
       "  Apr - Mar reference period       Police Region Police Service Area  \\\n",
       "0                       2012  1 North West Metro             BANYULE   \n",
       "1                       2012  1 North West Metro             BANYULE   \n",
       "2                       2012  1 North West Metro             BANYULE   \n",
       "3                       2012  1 North West Metro             BANYULE   \n",
       "4                       2012  1 North West Metro             BANYULE   \n",
       "\n",
       "  Local Government Area         CSA Offence Division  \\\n",
       "0               BANYULE  A Crimes against the person   \n",
       "1               BANYULE  A Crimes against the person   \n",
       "2               BANYULE  A Crimes against the person   \n",
       "3               BANYULE  A Crimes against the person   \n",
       "4               BANYULE  A Crimes against the person   \n",
       "\n",
       "              CSA Offence Subdivision Offence Count LGA ERP Victorian ERP  \n",
       "0   A10 Homicide and related offences             4  123600       5632521  \n",
       "1    A20 Assault and related offences           568  123600       5632521  \n",
       "2                 A30 Sexual offences           132  123600       5632521  \n",
       "3  A40 Abduction and related offences            12  123600       5632521  \n",
       "4                         A50 Robbery            46  123600       5632521  "
      ]
     },
     "execution_count": 23,
     "metadata": {},
     "output_type": "execute_result"
    }
   ],
   "source": [
    "crime_data.head()"
   ]
  },
  {
   "cell_type": "markdown",
   "metadata": {},
   "source": [
    "After cleaning the `crime_data` dataframe, we need to find the offence count for crime type A, crime type B and crime type C.  "
   ]
  },
  {
   "cell_type": "code",
   "execution_count": 24,
   "metadata": {},
   "outputs": [
    {
     "data": {
      "text/plain": [
       "Apr - Mar reference period    object\n",
       "Police Region                 object\n",
       "Police Service Area           object\n",
       "Local Government Area         object\n",
       "CSA Offence Division          object\n",
       "CSA Offence Subdivision       object\n",
       "Offence Count                 object\n",
       "LGA ERP                       object\n",
       "Victorian ERP                 object\n",
       "dtype: object"
      ]
     },
     "execution_count": 24,
     "metadata": {},
     "output_type": "execute_result"
    }
   ],
   "source": [
    "crime_data.dtypes"
   ]
  },
  {
   "cell_type": "markdown",
   "metadata": {},
   "source": [
    "We need to convert `Offence Count` and `Apr - Mar reference period` columns to int to calculate the offence count in the particular years."
   ]
  },
  {
   "cell_type": "code",
   "execution_count": 25,
   "metadata": {},
   "outputs": [],
   "source": [
    "crime_data['Offence Count']=crime_data['Offence Count'].astype(np.int64)\n",
    "crime_data['Apr - Mar reference period']=crime_data['Apr - Mar reference period'].astype(np.int64)"
   ]
  },
  {
   "cell_type": "code",
   "execution_count": 26,
   "metadata": {},
   "outputs": [
    {
     "data": {
      "text/html": [
       "<div>\n",
       "<style scoped>\n",
       "    .dataframe tbody tr th:only-of-type {\n",
       "        vertical-align: middle;\n",
       "    }\n",
       "\n",
       "    .dataframe tbody tr th {\n",
       "        vertical-align: top;\n",
       "    }\n",
       "\n",
       "    .dataframe thead th {\n",
       "        text-align: right;\n",
       "    }\n",
       "</style>\n",
       "<table border=\"1\" class=\"dataframe\">\n",
       "  <thead>\n",
       "    <tr style=\"text-align: right;\">\n",
       "      <th></th>\n",
       "      <th>Local Government Area</th>\n",
       "      <th>CSA Offence Division</th>\n",
       "      <th>Apr - Mar reference period</th>\n",
       "      <th>Offence Count</th>\n",
       "    </tr>\n",
       "  </thead>\n",
       "  <tbody>\n",
       "    <tr>\n",
       "      <td>0</td>\n",
       "      <td>ALPINE</td>\n",
       "      <td>A Crimes against the person</td>\n",
       "      <td>2012</td>\n",
       "      <td>72</td>\n",
       "    </tr>\n",
       "    <tr>\n",
       "      <td>1</td>\n",
       "      <td>ALPINE</td>\n",
       "      <td>A Crimes against the person</td>\n",
       "      <td>2013</td>\n",
       "      <td>78</td>\n",
       "    </tr>\n",
       "    <tr>\n",
       "      <td>2</td>\n",
       "      <td>ALPINE</td>\n",
       "      <td>A Crimes against the person</td>\n",
       "      <td>2014</td>\n",
       "      <td>85</td>\n",
       "    </tr>\n",
       "    <tr>\n",
       "      <td>3</td>\n",
       "      <td>ALPINE</td>\n",
       "      <td>A Crimes against the person</td>\n",
       "      <td>2015</td>\n",
       "      <td>99</td>\n",
       "    </tr>\n",
       "    <tr>\n",
       "      <td>4</td>\n",
       "      <td>ALPINE</td>\n",
       "      <td>A Crimes against the person</td>\n",
       "      <td>2016</td>\n",
       "      <td>93</td>\n",
       "    </tr>\n",
       "  </tbody>\n",
       "</table>\n",
       "</div>"
      ],
      "text/plain": [
       "  Local Government Area         CSA Offence Division  \\\n",
       "0                ALPINE  A Crimes against the person   \n",
       "1                ALPINE  A Crimes against the person   \n",
       "2                ALPINE  A Crimes against the person   \n",
       "3                ALPINE  A Crimes against the person   \n",
       "4                ALPINE  A Crimes against the person   \n",
       "\n",
       "   Apr - Mar reference period  Offence Count  \n",
       "0                        2012             72  \n",
       "1                        2013             78  \n",
       "2                        2014             85  \n",
       "3                        2015             99  \n",
       "4                        2016             93  "
      ]
     },
     "execution_count": 26,
     "metadata": {},
     "output_type": "execute_result"
    }
   ],
   "source": [
    "crimes_count =crime_data.groupby(['Local Government Area', 'CSA Offence Division', 'Apr - Mar reference period']).sum().reset_index()\n",
    "crimes_count.head()"
   ]
  },
  {
   "cell_type": "code",
   "execution_count": 27,
   "metadata": {},
   "outputs": [],
   "source": [
    "def crime_calculation(row, crime_type):\n",
    "    crime_year = row['Year']\n",
    "    council    = row['Council']\n",
    "    years_list = list(range(crime_year-3,crime_year))\n",
    "    offence_count = 0\n",
    "    for i in years_list:\n",
    "        count = (crimes_count['Offence Count'][((crimes_count['Local Government Area']==council)&\n",
    "                                               (crimes_count['CSA Offence Division']==crime_type))\n",
    "                                              &(crimes_count['Apr - Mar reference period']==i)])\n",
    "       \n",
    "        if len(count)>0:\n",
    "            offence_count = offence_count + int(count)\n",
    "            \n",
    "    mean_value = offence_count/3\n",
    "    return mean_value                         "
   ]
  },
  {
   "cell_type": "code",
   "execution_count": 28,
   "metadata": {},
   "outputs": [],
   "source": [
    "# calculating crimes A,B and C\n",
    "df['crime_A_average'] = df.apply(lambda x: crime_calculation(x,'A Crimes against the person'),axis=1)\n",
    "df['crime_B_average'] = df.apply(lambda x: crime_calculation(x,'B Property and deception offences'),axis=1)\n",
    "df['crime_C_average'] = df.apply(lambda x: crime_calculation(x,'C Drug offences'),axis=1)"
   ]
  },
  {
   "cell_type": "code",
   "execution_count": 29,
   "metadata": {},
   "outputs": [
    {
     "data": {
      "text/html": [
       "<div>\n",
       "<style scoped>\n",
       "    .dataframe tbody tr th:only-of-type {\n",
       "        vertical-align: middle;\n",
       "    }\n",
       "\n",
       "    .dataframe tbody tr th {\n",
       "        vertical-align: top;\n",
       "    }\n",
       "\n",
       "    .dataframe thead th {\n",
       "        text-align: right;\n",
       "    }\n",
       "</style>\n",
       "<table border=\"1\" class=\"dataframe\">\n",
       "  <thead>\n",
       "    <tr style=\"text-align: right;\">\n",
       "      <th></th>\n",
       "      <th>ID</th>\n",
       "      <th>Address</th>\n",
       "      <th>Rooms</th>\n",
       "      <th>Type</th>\n",
       "      <th>Price</th>\n",
       "      <th>Date</th>\n",
       "      <th>Bathroom</th>\n",
       "      <th>Car</th>\n",
       "      <th>Landsize</th>\n",
       "      <th>Age</th>\n",
       "      <th>Lattitude</th>\n",
       "      <th>Longtitude</th>\n",
       "      <th>Suburb</th>\n",
       "      <th>Council</th>\n",
       "      <th>Year</th>\n",
       "      <th>crime_A_average</th>\n",
       "      <th>crime_B_average</th>\n",
       "      <th>crime_C_average</th>\n",
       "    </tr>\n",
       "  </thead>\n",
       "  <tbody>\n",
       "    <tr>\n",
       "      <td>0</td>\n",
       "      <td>ID253199063</td>\n",
       "      <td>8 Kinnane Cr</td>\n",
       "      <td>3</td>\n",
       "      <td>h</td>\n",
       "      <td>830500.0</td>\n",
       "      <td>8/07/2017</td>\n",
       "      <td>1.0</td>\n",
       "      <td>2.0</td>\n",
       "      <td>508.0</td>\n",
       "      <td>69.0</td>\n",
       "      <td>-37.78070</td>\n",
       "      <td>144.83648</td>\n",
       "      <td>SUNSHINE</td>\n",
       "      <td>KNOX</td>\n",
       "      <td>2017</td>\n",
       "      <td>1412.000000</td>\n",
       "      <td>6364.000000</td>\n",
       "      <td>699.333333</td>\n",
       "    </tr>\n",
       "    <tr>\n",
       "      <td>1</td>\n",
       "      <td>ID764854482</td>\n",
       "      <td>9 Banks Pl</td>\n",
       "      <td>3</td>\n",
       "      <td>h</td>\n",
       "      <td>742000.0</td>\n",
       "      <td>26/08/2017</td>\n",
       "      <td>2.0</td>\n",
       "      <td>2.0</td>\n",
       "      <td>375.0</td>\n",
       "      <td>44.0</td>\n",
       "      <td>-37.68415</td>\n",
       "      <td>144.89990</td>\n",
       "      <td>GLADSTONE PARK</td>\n",
       "      <td>GLEN EIRA</td>\n",
       "      <td>2017</td>\n",
       "      <td>663.000000</td>\n",
       "      <td>4010.000000</td>\n",
       "      <td>377.000000</td>\n",
       "    </tr>\n",
       "    <tr>\n",
       "      <td>2</td>\n",
       "      <td>ID765581220</td>\n",
       "      <td>112 Belmore Rd</td>\n",
       "      <td>5</td>\n",
       "      <td>h</td>\n",
       "      <td>3020000.0</td>\n",
       "      <td>28/05/2016</td>\n",
       "      <td>3.0</td>\n",
       "      <td>2.0</td>\n",
       "      <td>715.0</td>\n",
       "      <td>10.0</td>\n",
       "      <td>-37.80280</td>\n",
       "      <td>145.07680</td>\n",
       "      <td>BALWYN</td>\n",
       "      <td>HOBSONS BAY</td>\n",
       "      <td>2016</td>\n",
       "      <td>925.666667</td>\n",
       "      <td>4701.333333</td>\n",
       "      <td>308.666667</td>\n",
       "    </tr>\n",
       "    <tr>\n",
       "      <td>3</td>\n",
       "      <td>ID364066284</td>\n",
       "      <td>12 Rasmussen Ct</td>\n",
       "      <td>4</td>\n",
       "      <td>h</td>\n",
       "      <td>922000.0</td>\n",
       "      <td>1/07/2017</td>\n",
       "      <td>2.0</td>\n",
       "      <td>2.0</td>\n",
       "      <td>463.0</td>\n",
       "      <td>59.0</td>\n",
       "      <td>-37.73704</td>\n",
       "      <td>144.97959</td>\n",
       "      <td>COBURG</td>\n",
       "      <td>MOONEE VALLEY</td>\n",
       "      <td>2017</td>\n",
       "      <td>1097.666667</td>\n",
       "      <td>5916.000000</td>\n",
       "      <td>553.333333</td>\n",
       "    </tr>\n",
       "    <tr>\n",
       "      <td>4</td>\n",
       "      <td>ID879430645</td>\n",
       "      <td>29 Alfred St</td>\n",
       "      <td>2</td>\n",
       "      <td>h</td>\n",
       "      <td>825000.0</td>\n",
       "      <td>14/05/2016</td>\n",
       "      <td>1.0</td>\n",
       "      <td>0.0</td>\n",
       "      <td>111.0</td>\n",
       "      <td>109.0</td>\n",
       "      <td>-37.83500</td>\n",
       "      <td>144.93730</td>\n",
       "      <td>PORT MELBOURNE</td>\n",
       "      <td>BOROONDARA</td>\n",
       "      <td>2016</td>\n",
       "      <td>659.000000</td>\n",
       "      <td>5219.333333</td>\n",
       "      <td>338.333333</td>\n",
       "    </tr>\n",
       "  </tbody>\n",
       "</table>\n",
       "</div>"
      ],
      "text/plain": [
       "            ID          Address  Rooms Type      Price        Date  Bathroom  \\\n",
       "0  ID253199063     8 Kinnane Cr      3    h   830500.0   8/07/2017       1.0   \n",
       "1  ID764854482       9 Banks Pl      3    h   742000.0  26/08/2017       2.0   \n",
       "2  ID765581220   112 Belmore Rd      5    h  3020000.0  28/05/2016       3.0   \n",
       "3  ID364066284  12 Rasmussen Ct      4    h   922000.0   1/07/2017       2.0   \n",
       "4  ID879430645     29 Alfred St      2    h   825000.0  14/05/2016       1.0   \n",
       "\n",
       "   Car  Landsize    Age  Lattitude  Longtitude          Suburb        Council  \\\n",
       "0  2.0     508.0   69.0  -37.78070   144.83648        SUNSHINE           KNOX   \n",
       "1  2.0     375.0   44.0  -37.68415   144.89990  GLADSTONE PARK      GLEN EIRA   \n",
       "2  2.0     715.0   10.0  -37.80280   145.07680          BALWYN    HOBSONS BAY   \n",
       "3  2.0     463.0   59.0  -37.73704   144.97959          COBURG  MOONEE VALLEY   \n",
       "4  0.0     111.0  109.0  -37.83500   144.93730  PORT MELBOURNE     BOROONDARA   \n",
       "\n",
       "   Year  crime_A_average  crime_B_average  crime_C_average  \n",
       "0  2017      1412.000000      6364.000000       699.333333  \n",
       "1  2017       663.000000      4010.000000       377.000000  \n",
       "2  2016       925.666667      4701.333333       308.666667  \n",
       "3  2017      1097.666667      5916.000000       553.333333  \n",
       "4  2016       659.000000      5219.333333       338.333333  "
      ]
     },
     "execution_count": 29,
     "metadata": {},
     "output_type": "execute_result"
    }
   ],
   "source": [
    "df.head()"
   ]
  },
  {
   "cell_type": "markdown",
   "metadata": {},
   "source": [
    "## train_station_id, distance_to_train_station columns\n",
    "The procedure to extract closest train station to the property that has direct trip to Southern Cross Railway Station as follows:\n",
    "- First we need to extract the southern cross station `stop_id` from `stops.txt` file  \n",
    "- Once we extract the stop_id of southern cross station, we get the trip ids of the trips to southern cross in the stop_times dataframe. So these are the trips which are going to southern cross in the `all_trips_to_sc`.\n",
    "- After getting all the trips to southern cross, then we need to consider only the trips from 7:00AM to 9:30AM .\n",
    "- After getting all the trips from 7:00AM to 9:30AM to Southern Cross, we need to find the trips only on weekdays. So we use calendar dataframe to find the weekday trips to soouthern cross station.\n",
    "- In the end we have a dataframe which contains direct trip to southern cross on weekdays in between 7 to 9:30AM."
   ]
  },
  {
   "cell_type": "markdown",
   "metadata": {},
   "source": [
    "### GTFS Data"
   ]
  },
  {
   "cell_type": "markdown",
   "metadata": {},
   "source": [
    "In the gtfs data, we need to consider folders 1 and 2(which contains information of Regional train and metropolitan train)."
   ]
  },
  {
   "cell_type": "code",
   "execution_count": 30,
   "metadata": {},
   "outputs": [],
   "source": [
    "stop_ids1 = pd.read_csv('1/stops.txt',sep=',',header='infer')\n",
    "stop_ids2 = pd.read_csv('2/stops.txt',sep=',',header='infer')\n",
    "stops_file = pd.concat([stop_ids1, stop_ids2], axis=0)\n",
    "stops_file = stops_file.reset_index()\n",
    "stops_file = stops_file.drop(['index'], axis=1)"
   ]
  },
  {
   "cell_type": "code",
   "execution_count": 31,
   "metadata": {},
   "outputs": [
    {
     "data": {
      "text/html": [
       "<div>\n",
       "<style scoped>\n",
       "    .dataframe tbody tr th:only-of-type {\n",
       "        vertical-align: middle;\n",
       "    }\n",
       "\n",
       "    .dataframe tbody tr th {\n",
       "        vertical-align: top;\n",
       "    }\n",
       "\n",
       "    .dataframe thead th {\n",
       "        text-align: right;\n",
       "    }\n",
       "</style>\n",
       "<table border=\"1\" class=\"dataframe\">\n",
       "  <thead>\n",
       "    <tr style=\"text-align: right;\">\n",
       "      <th></th>\n",
       "      <th>stop_id</th>\n",
       "      <th>stop_name</th>\n",
       "      <th>stop_lat</th>\n",
       "      <th>stop_lon</th>\n",
       "    </tr>\n",
       "  </thead>\n",
       "  <tbody>\n",
       "    <tr>\n",
       "      <td>0</td>\n",
       "      <td>17204</td>\n",
       "      <td>Wallan Railway Station (Wallan)</td>\n",
       "      <td>-37.416861</td>\n",
       "      <td>145.005372</td>\n",
       "    </tr>\n",
       "    <tr>\n",
       "      <td>1</td>\n",
       "      <td>19980</td>\n",
       "      <td>Melton Railway Station (Melton South)</td>\n",
       "      <td>-37.703293</td>\n",
       "      <td>144.572524</td>\n",
       "    </tr>\n",
       "    <tr>\n",
       "      <td>2</td>\n",
       "      <td>19981</td>\n",
       "      <td>Rockbank Railway Station (Rockbank)</td>\n",
       "      <td>-37.729261</td>\n",
       "      <td>144.650631</td>\n",
       "    </tr>\n",
       "    <tr>\n",
       "      <td>3</td>\n",
       "      <td>19982</td>\n",
       "      <td>Deer Park Railway Station (Deer Park)</td>\n",
       "      <td>-37.777764</td>\n",
       "      <td>144.772304</td>\n",
       "    </tr>\n",
       "    <tr>\n",
       "      <td>4</td>\n",
       "      <td>19998</td>\n",
       "      <td>Sunbury Railway Station (Sunbury)</td>\n",
       "      <td>-37.579206</td>\n",
       "      <td>144.728165</td>\n",
       "    </tr>\n",
       "  </tbody>\n",
       "</table>\n",
       "</div>"
      ],
      "text/plain": [
       "   stop_id                              stop_name   stop_lat    stop_lon\n",
       "0    17204        Wallan Railway Station (Wallan) -37.416861  145.005372\n",
       "1    19980  Melton Railway Station (Melton South) -37.703293  144.572524\n",
       "2    19981    Rockbank Railway Station (Rockbank) -37.729261  144.650631\n",
       "3    19982  Deer Park Railway Station (Deer Park) -37.777764  144.772304\n",
       "4    19998      Sunbury Railway Station (Sunbury) -37.579206  144.728165"
      ]
     },
     "execution_count": 31,
     "metadata": {},
     "output_type": "execute_result"
    }
   ],
   "source": [
    "stops_file.head()"
   ]
  },
  {
   "cell_type": "markdown",
   "metadata": {},
   "source": [
    "Let's find out the stop_id of Southern Cross Station."
   ]
  },
  {
   "cell_type": "code",
   "execution_count": 32,
   "metadata": {},
   "outputs": [
    {
     "data": {
      "text/html": [
       "<div>\n",
       "<style scoped>\n",
       "    .dataframe tbody tr th:only-of-type {\n",
       "        vertical-align: middle;\n",
       "    }\n",
       "\n",
       "    .dataframe tbody tr th {\n",
       "        vertical-align: top;\n",
       "    }\n",
       "\n",
       "    .dataframe thead th {\n",
       "        text-align: right;\n",
       "    }\n",
       "</style>\n",
       "<table border=\"1\" class=\"dataframe\">\n",
       "  <thead>\n",
       "    <tr style=\"text-align: right;\">\n",
       "      <th></th>\n",
       "      <th>stop_id</th>\n",
       "      <th>stop_name</th>\n",
       "      <th>stop_lat</th>\n",
       "      <th>stop_lon</th>\n",
       "    </tr>\n",
       "  </thead>\n",
       "  <tbody>\n",
       "    <tr>\n",
       "      <td>7</td>\n",
       "      <td>20043</td>\n",
       "      <td>Southern Cross Railway Station (Melbourne City)</td>\n",
       "      <td>-37.818334</td>\n",
       "      <td>144.952525</td>\n",
       "    </tr>\n",
       "    <tr>\n",
       "      <td>319</td>\n",
       "      <td>22180</td>\n",
       "      <td>Southern Cross Railway Station (Melbourne City)</td>\n",
       "      <td>-37.817936</td>\n",
       "      <td>144.951411</td>\n",
       "    </tr>\n",
       "  </tbody>\n",
       "</table>\n",
       "</div>"
      ],
      "text/plain": [
       "     stop_id                                        stop_name   stop_lat  \\\n",
       "7      20043  Southern Cross Railway Station (Melbourne City) -37.818334   \n",
       "319    22180  Southern Cross Railway Station (Melbourne City) -37.817936   \n",
       "\n",
       "       stop_lon  \n",
       "7    144.952525  \n",
       "319  144.951411  "
      ]
     },
     "execution_count": 32,
     "metadata": {},
     "output_type": "execute_result"
    }
   ],
   "source": [
    "stops_file[stops_file['stop_name'] == 'Southern Cross Railway Station (Melbourne City)']"
   ]
  },
  {
   "cell_type": "markdown",
   "metadata": {},
   "source": [
    "As we can see from the above cell output, there are two stop_ids for Southern Cross Railway Station `20043` and `22180`. "
   ]
  },
  {
   "cell_type": "markdown",
   "metadata": {},
   "source": [
    "From stop_times.txt file, we need trip_id, arrival_time, departure_time, stop_id, stop_sequence to find whether the train has a direct trip to southern cross railway station or not."
   ]
  },
  {
   "cell_type": "code",
   "execution_count": 33,
   "metadata": {},
   "outputs": [],
   "source": [
    "# first we load the stop_times.txt files from two folders.\n",
    "stop_times1 = pd.read_csv('1/stop_times.txt',sep=',',header='infer')\n",
    "stop_times2 = pd.read_csv('2/stop_times.txt',sep=',',header='infer')\n",
    "stop_times = pd.concat([stop_times1, stop_times2], axis=0)\n",
    "stop_times = stop_times.reset_index()\n",
    "stop_times = stop_times.drop(['index'], axis=1)"
   ]
  },
  {
   "cell_type": "code",
   "execution_count": 34,
   "metadata": {},
   "outputs": [
    {
     "data": {
      "text/plain": [
       "trip_id                 object\n",
       "arrival_time            object\n",
       "departure_time          object\n",
       "stop_id                  int64\n",
       "stop_sequence            int64\n",
       "stop_headsign          float64\n",
       "pickup_type              int64\n",
       "drop_off_type            int64\n",
       "shape_dist_traveled    float64\n",
       "dtype: object"
      ]
     },
     "execution_count": 34,
     "metadata": {},
     "output_type": "execute_result"
    }
   ],
   "source": [
    "stop_times.dtypes"
   ]
  },
  {
   "cell_type": "markdown",
   "metadata": {},
   "source": [
    "### Departure_time and arrival_time coversion to datetime format"
   ]
  },
  {
   "cell_type": "markdown",
   "metadata": {},
   "source": [
    "Cleaning the departure_time and arrival_time columns."
   ]
  },
  {
   "cell_type": "code",
   "execution_count": 35,
   "metadata": {},
   "outputs": [],
   "source": [
    "def time_conversion(data, time_type):\n",
    "    time_var = data[time_type]\n",
    "    match = re.search(r'(\\d\\d)+:(\\d\\d)+:(\\d\\d)+',time_var)\n",
    "    if(int(match.group(1)) > 23):\n",
    "        hours= int(match.group(1))-24\n",
    "        time_corr = str(hours) + \":\" + match.group(2) + \":\" + match.group(3)\n",
    "        return time_corr\n",
    "    else:\n",
    "        return time_var"
   ]
  },
  {
   "cell_type": "code",
   "execution_count": 36,
   "metadata": {},
   "outputs": [],
   "source": [
    "stop_times['departure_time'] = stop_times.apply(lambda x: time_conversion(x,'departure_time'),axis=1)\n",
    "stop_times['arrival_time'] = stop_times.apply(lambda x : time_conversion(x,'arrival_time'),axis=1)"
   ]
  },
  {
   "cell_type": "code",
   "execution_count": 37,
   "metadata": {},
   "outputs": [],
   "source": [
    "stop_times['arrival_time'] = pd.to_datetime(stop_times['arrival_time'], format=\"%H:%M:%S\")\n",
    "stop_times['departure_time'] = pd.to_datetime(stop_times['departure_time'], format=\"%H:%M:%S\")"
   ]
  },
  {
   "cell_type": "code",
   "execution_count": 38,
   "metadata": {},
   "outputs": [],
   "source": [
    "stop_times['departure_time'] = stop_times['departure_time'].dt.time\n",
    "stop_times['arrival_time'] = stop_times['arrival_time'].dt.time"
   ]
  },
  {
   "cell_type": "markdown",
   "metadata": {},
   "source": [
    "- We need to find direct trips to southern cross railway station on weekdays, for that we need trip_ids from stop_times file and get the respective service_ids from the trip.txt file.\n",
    "- After extracting service_ids from the trip.txt file, we use that service_ids from the trip.txt file to find the trip is o weekend or weekday.\n"
   ]
  },
  {
   "cell_type": "code",
   "execution_count": 39,
   "metadata": {},
   "outputs": [],
   "source": [
    "# first we load the trips.txt files from two folders.\n",
    "trips1 = pd.read_csv('1/trips.txt',sep=',',header='infer')\n",
    "trips2 = pd.read_csv('2/trips.txt',sep=',',header='infer')\n",
    "trips = pd.concat([trips1, trips2], axis=0)\n",
    "trips = trips.reset_index()\n",
    "trips = trips.drop(['index'], axis=1)"
   ]
  },
  {
   "cell_type": "code",
   "execution_count": 40,
   "metadata": {},
   "outputs": [
    {
     "data": {
      "text/html": [
       "<div>\n",
       "<style scoped>\n",
       "    .dataframe tbody tr th:only-of-type {\n",
       "        vertical-align: middle;\n",
       "    }\n",
       "\n",
       "    .dataframe tbody tr th {\n",
       "        vertical-align: top;\n",
       "    }\n",
       "\n",
       "    .dataframe thead th {\n",
       "        text-align: right;\n",
       "    }\n",
       "</style>\n",
       "<table border=\"1\" class=\"dataframe\">\n",
       "  <thead>\n",
       "    <tr style=\"text-align: right;\">\n",
       "      <th></th>\n",
       "      <th>route_id</th>\n",
       "      <th>service_id</th>\n",
       "      <th>trip_id</th>\n",
       "      <th>shape_id</th>\n",
       "      <th>trip_headsign</th>\n",
       "      <th>direction_id</th>\n",
       "    </tr>\n",
       "  </thead>\n",
       "  <tbody>\n",
       "    <tr>\n",
       "      <td>0</td>\n",
       "      <td>1-V08-G-mjp-1</td>\n",
       "      <td>T0</td>\n",
       "      <td>1051.T0.1-V08-G-mjp-1.1.H</td>\n",
       "      <td>1-V08-G-mjp-1.1.H</td>\n",
       "      <td>Melbourne</td>\n",
       "      <td>0</td>\n",
       "    </tr>\n",
       "    <tr>\n",
       "      <td>1</td>\n",
       "      <td>1-V08-G-mjp-1</td>\n",
       "      <td>T0</td>\n",
       "      <td>1052.T0.1-V08-G-mjp-1.2.H</td>\n",
       "      <td>1-V08-G-mjp-1.2.H</td>\n",
       "      <td>Melbourne</td>\n",
       "      <td>0</td>\n",
       "    </tr>\n",
       "    <tr>\n",
       "      <td>2</td>\n",
       "      <td>1-V08-G-mjp-1</td>\n",
       "      <td>T0</td>\n",
       "      <td>1053.T0.1-V08-G-mjp-1.2.H</td>\n",
       "      <td>1-V08-G-mjp-1.2.H</td>\n",
       "      <td>Melbourne</td>\n",
       "      <td>0</td>\n",
       "    </tr>\n",
       "    <tr>\n",
       "      <td>3</td>\n",
       "      <td>1-V08-G-mjp-1</td>\n",
       "      <td>T0</td>\n",
       "      <td>1522.T0.1-V08-G-mjp-1.4.R</td>\n",
       "      <td>1-V08-G-mjp-1.4.R</td>\n",
       "      <td>Bairnsdale</td>\n",
       "      <td>1</td>\n",
       "    </tr>\n",
       "    <tr>\n",
       "      <td>4</td>\n",
       "      <td>1-V08-G-mjp-1</td>\n",
       "      <td>T0</td>\n",
       "      <td>1523.T0.1-V08-G-mjp-1.5.R</td>\n",
       "      <td>1-V08-G-mjp-1.5.R</td>\n",
       "      <td>Bairnsdale</td>\n",
       "      <td>1</td>\n",
       "    </tr>\n",
       "  </tbody>\n",
       "</table>\n",
       "</div>"
      ],
      "text/plain": [
       "        route_id service_id                    trip_id           shape_id  \\\n",
       "0  1-V08-G-mjp-1         T0  1051.T0.1-V08-G-mjp-1.1.H  1-V08-G-mjp-1.1.H   \n",
       "1  1-V08-G-mjp-1         T0  1052.T0.1-V08-G-mjp-1.2.H  1-V08-G-mjp-1.2.H   \n",
       "2  1-V08-G-mjp-1         T0  1053.T0.1-V08-G-mjp-1.2.H  1-V08-G-mjp-1.2.H   \n",
       "3  1-V08-G-mjp-1         T0  1522.T0.1-V08-G-mjp-1.4.R  1-V08-G-mjp-1.4.R   \n",
       "4  1-V08-G-mjp-1         T0  1523.T0.1-V08-G-mjp-1.5.R  1-V08-G-mjp-1.5.R   \n",
       "\n",
       "  trip_headsign  direction_id  \n",
       "0     Melbourne             0  \n",
       "1     Melbourne             0  \n",
       "2     Melbourne             0  \n",
       "3    Bairnsdale             1  \n",
       "4    Bairnsdale             1  "
      ]
     },
     "execution_count": 40,
     "metadata": {},
     "output_type": "execute_result"
    }
   ],
   "source": [
    "trips.head()"
   ]
  },
  {
   "cell_type": "markdown",
   "metadata": {},
   "source": [
    "We load calender.txt file to consider only the trips to southern cross station on weekdays."
   ]
  },
  {
   "cell_type": "code",
   "execution_count": 41,
   "metadata": {},
   "outputs": [],
   "source": [
    "# first we load the calendar.txt files from two folders.\n",
    "calendar1 = pd.read_csv('1/calendar.txt',sep=',',header='infer')\n",
    "calendar2 = pd.read_csv('2/calendar.txt',sep=',',header='infer')\n",
    "calendar = pd.concat([calendar1, calendar2], axis=0)\n",
    "calendar = calendar.reset_index()\n",
    "calendar = calendar.drop(['index'], axis=1)"
   ]
  },
  {
   "cell_type": "markdown",
   "metadata": {},
   "source": [
    "Now we extract trip_ids from the stop_times dataframe for respective southern cross railway station stop_ids."
   ]
  },
  {
   "cell_type": "code",
   "execution_count": 42,
   "metadata": {},
   "outputs": [],
   "source": [
    "trip_ids_sc = stop_times['trip_id'][(stop_times['stop_id']== 20043) | (stop_times['stop_id']== 22180)]"
   ]
  },
  {
   "cell_type": "code",
   "execution_count": 43,
   "metadata": {},
   "outputs": [
    {
     "data": {
      "text/plain": [
       "15    7548.UR.1-V08-A-mjp-1.1.H\n",
       "30    7549.UR.1-V08-A-mjp-1.2.H\n",
       "45    7550.UR.1-V08-A-mjp-1.2.H\n",
       "46    7779.UR.1-V08-A-mjp-1.3.R\n",
       "61    7780.UR.1-V08-A-mjp-1.4.R\n",
       "Name: trip_id, dtype: object"
      ]
     },
     "execution_count": 43,
     "metadata": {},
     "output_type": "execute_result"
    }
   ],
   "source": [
    "trip_ids_sc.head()"
   ]
  },
  {
   "cell_type": "markdown",
   "metadata": {},
   "source": [
    "We consider only the trip_ids that has a trip to southern cross i.e southern cross railway station as destination."
   ]
  },
  {
   "cell_type": "code",
   "execution_count": 44,
   "metadata": {},
   "outputs": [],
   "source": [
    "all_trips_to_sc = stop_times[stop_times['trip_id'].isin(trip_ids_sc)]"
   ]
  },
  {
   "cell_type": "code",
   "execution_count": 45,
   "metadata": {},
   "outputs": [
    {
     "data": {
      "text/html": [
       "<div>\n",
       "<style scoped>\n",
       "    .dataframe tbody tr th:only-of-type {\n",
       "        vertical-align: middle;\n",
       "    }\n",
       "\n",
       "    .dataframe tbody tr th {\n",
       "        vertical-align: top;\n",
       "    }\n",
       "\n",
       "    .dataframe thead th {\n",
       "        text-align: right;\n",
       "    }\n",
       "</style>\n",
       "<table border=\"1\" class=\"dataframe\">\n",
       "  <thead>\n",
       "    <tr style=\"text-align: right;\">\n",
       "      <th></th>\n",
       "      <th>trip_id</th>\n",
       "      <th>arrival_time</th>\n",
       "      <th>departure_time</th>\n",
       "      <th>stop_id</th>\n",
       "      <th>stop_sequence</th>\n",
       "      <th>stop_headsign</th>\n",
       "      <th>pickup_type</th>\n",
       "      <th>drop_off_type</th>\n",
       "      <th>shape_dist_traveled</th>\n",
       "    </tr>\n",
       "  </thead>\n",
       "  <tbody>\n",
       "    <tr>\n",
       "      <td>0</td>\n",
       "      <td>7548.UR.1-V08-A-mjp-1.1.H</td>\n",
       "      <td>06:08:00</td>\n",
       "      <td>06:08:00</td>\n",
       "      <td>20291</td>\n",
       "      <td>1</td>\n",
       "      <td>NaN</td>\n",
       "      <td>0</td>\n",
       "      <td>0</td>\n",
       "      <td>0.000000</td>\n",
       "    </tr>\n",
       "    <tr>\n",
       "      <td>1</td>\n",
       "      <td>7548.UR.1-V08-A-mjp-1.1.H</td>\n",
       "      <td>06:42:00</td>\n",
       "      <td>06:42:00</td>\n",
       "      <td>20346</td>\n",
       "      <td>2</td>\n",
       "      <td>NaN</td>\n",
       "      <td>0</td>\n",
       "      <td>0</td>\n",
       "      <td>52720.840026</td>\n",
       "    </tr>\n",
       "    <tr>\n",
       "      <td>2</td>\n",
       "      <td>7548.UR.1-V08-A-mjp-1.1.H</td>\n",
       "      <td>06:55:00</td>\n",
       "      <td>06:57:00</td>\n",
       "      <td>20341</td>\n",
       "      <td>3</td>\n",
       "      <td>NaN</td>\n",
       "      <td>0</td>\n",
       "      <td>0</td>\n",
       "      <td>68786.649688</td>\n",
       "    </tr>\n",
       "    <tr>\n",
       "      <td>3</td>\n",
       "      <td>7548.UR.1-V08-A-mjp-1.1.H</td>\n",
       "      <td>07:16:00</td>\n",
       "      <td>07:16:00</td>\n",
       "      <td>20339</td>\n",
       "      <td>4</td>\n",
       "      <td>NaN</td>\n",
       "      <td>0</td>\n",
       "      <td>0</td>\n",
       "      <td>94514.728171</td>\n",
       "    </tr>\n",
       "    <tr>\n",
       "      <td>4</td>\n",
       "      <td>7548.UR.1-V08-A-mjp-1.1.H</td>\n",
       "      <td>07:32:00</td>\n",
       "      <td>07:34:00</td>\n",
       "      <td>20351</td>\n",
       "      <td>5</td>\n",
       "      <td>NaN</td>\n",
       "      <td>0</td>\n",
       "      <td>0</td>\n",
       "      <td>116895.210301</td>\n",
       "    </tr>\n",
       "  </tbody>\n",
       "</table>\n",
       "</div>"
      ],
      "text/plain": [
       "                     trip_id arrival_time departure_time  stop_id  \\\n",
       "0  7548.UR.1-V08-A-mjp-1.1.H     06:08:00       06:08:00    20291   \n",
       "1  7548.UR.1-V08-A-mjp-1.1.H     06:42:00       06:42:00    20346   \n",
       "2  7548.UR.1-V08-A-mjp-1.1.H     06:55:00       06:57:00    20341   \n",
       "3  7548.UR.1-V08-A-mjp-1.1.H     07:16:00       07:16:00    20339   \n",
       "4  7548.UR.1-V08-A-mjp-1.1.H     07:32:00       07:34:00    20351   \n",
       "\n",
       "   stop_sequence  stop_headsign  pickup_type  drop_off_type  \\\n",
       "0              1            NaN            0              0   \n",
       "1              2            NaN            0              0   \n",
       "2              3            NaN            0              0   \n",
       "3              4            NaN            0              0   \n",
       "4              5            NaN            0              0   \n",
       "\n",
       "   shape_dist_traveled  \n",
       "0             0.000000  \n",
       "1         52720.840026  \n",
       "2         68786.649688  \n",
       "3         94514.728171  \n",
       "4        116895.210301  "
      ]
     },
     "execution_count": 45,
     "metadata": {},
     "output_type": "execute_result"
    }
   ],
   "source": [
    "# this dataframe consists trips for which destination as southern cross station\n",
    "all_trips_to_sc.head()"
   ]
  },
  {
   "cell_type": "code",
   "execution_count": 46,
   "metadata": {},
   "outputs": [
    {
     "data": {
      "text/plain": [
       "340466"
      ]
     },
     "execution_count": 46,
     "metadata": {},
     "output_type": "execute_result"
    }
   ],
   "source": [
    "len(all_trips_to_sc)"
   ]
  },
  {
   "cell_type": "code",
   "execution_count": 47,
   "metadata": {},
   "outputs": [],
   "source": [
    "# so we have trip ids that are going to southern cross\n",
    "all_trips_to_sc =  all_trips_to_sc[(all_trips_to_sc['arrival_time']>=datetime.time(7,0,0)) &(all_trips_to_sc['arrival_time']<=datetime.time(9,30,0))]"
   ]
  },
  {
   "cell_type": "code",
   "execution_count": 48,
   "metadata": {},
   "outputs": [
    {
     "data": {
      "text/plain": [
       "57170"
      ]
     },
     "execution_count": 48,
     "metadata": {},
     "output_type": "execute_result"
    }
   ],
   "source": [
    "len(all_trips_to_sc)"
   ]
  },
  {
   "cell_type": "markdown",
   "metadata": {},
   "source": [
    "But we need to find the trips to southern cross on weekdays. For that we will extract service ids from the calendar file for respective trips using trips file."
   ]
  },
  {
   "cell_type": "code",
   "execution_count": 49,
   "metadata": {},
   "outputs": [],
   "source": [
    "#merging trips and all_trips_to_sc dataframes to get the service ids\n",
    "trips_service = pd.merge(all_trips_to_sc,trips[['service_id','trip_id','direction_id']],how='left',on='trip_id')"
   ]
  },
  {
   "cell_type": "markdown",
   "metadata": {},
   "source": [
    "Now we will all the service ids for weekday trips from calendar file."
   ]
  },
  {
   "cell_type": "code",
   "execution_count": 50,
   "metadata": {},
   "outputs": [],
   "source": [
    "weeeday_sevices = list(calendar['service_id'][(calendar['monday']==1)&(calendar['tuesday']==1)&(calendar['wednesday']==1)&\n",
    "                        (calendar['thursday']==1)&(calendar['friday']==1)])"
   ]
  },
  {
   "cell_type": "code",
   "execution_count": 51,
   "metadata": {},
   "outputs": [
    {
     "name": "stdout",
     "output_type": "stream",
     "text": [
      "['T0', 'T0_1', 'T0_2', 'T0_3', 'T0']\n"
     ]
    }
   ],
   "source": [
    "print(weeeday_sevices)"
   ]
  },
  {
   "cell_type": "markdown",
   "metadata": {},
   "source": [
    "Now we consider the trips only if the service ids are `T0`, `T0_1`, `T0_2`, `T0_3`, `T0`, which gives us the trips direct to southern cross only on weekdays."
   ]
  },
  {
   "cell_type": "code",
   "execution_count": 52,
   "metadata": {},
   "outputs": [],
   "source": [
    "trips_sc_weekdays = trips_service[trips_service['service_id'].isin(weeeday_sevices)]"
   ]
  },
  {
   "cell_type": "markdown",
   "metadata": {},
   "source": [
    "Since we need to find distance to respective train station(which has direct trip to southern cross on weekdays), we extract train station latitude and longitude from the stops file."
   ]
  },
  {
   "cell_type": "code",
   "execution_count": 53,
   "metadata": {},
   "outputs": [],
   "source": [
    "# We merge both the dataframes trips_sc_weekdays and stops_file \n",
    "\n",
    "direct_trips_sc = pd.merge(trips_sc_weekdays, stops_file, how = 'left', on = 'stop_id')"
   ]
  },
  {
   "cell_type": "code",
   "execution_count": 54,
   "metadata": {},
   "outputs": [
    {
     "data": {
      "text/html": [
       "<div>\n",
       "<style scoped>\n",
       "    .dataframe tbody tr th:only-of-type {\n",
       "        vertical-align: middle;\n",
       "    }\n",
       "\n",
       "    .dataframe tbody tr th {\n",
       "        vertical-align: top;\n",
       "    }\n",
       "\n",
       "    .dataframe thead th {\n",
       "        text-align: right;\n",
       "    }\n",
       "</style>\n",
       "<table border=\"1\" class=\"dataframe\">\n",
       "  <thead>\n",
       "    <tr style=\"text-align: right;\">\n",
       "      <th></th>\n",
       "      <th>trip_id</th>\n",
       "      <th>arrival_time</th>\n",
       "      <th>departure_time</th>\n",
       "      <th>stop_id</th>\n",
       "      <th>stop_sequence</th>\n",
       "      <th>stop_headsign</th>\n",
       "      <th>pickup_type</th>\n",
       "      <th>drop_off_type</th>\n",
       "      <th>shape_dist_traveled</th>\n",
       "      <th>service_id</th>\n",
       "      <th>direction_id</th>\n",
       "      <th>stop_name</th>\n",
       "      <th>stop_lat</th>\n",
       "      <th>stop_lon</th>\n",
       "    </tr>\n",
       "  </thead>\n",
       "  <tbody>\n",
       "    <tr>\n",
       "      <td>0</td>\n",
       "      <td>1051.T0.1-V08-G-mjp-1.1.H</td>\n",
       "      <td>07:16:00</td>\n",
       "      <td>07:16:00</td>\n",
       "      <td>20339</td>\n",
       "      <td>4</td>\n",
       "      <td>NaN</td>\n",
       "      <td>0</td>\n",
       "      <td>0</td>\n",
       "      <td>94514.728171</td>\n",
       "      <td>T0</td>\n",
       "      <td>0</td>\n",
       "      <td>Rosedale Railway Station (Rosedale)</td>\n",
       "      <td>-38.156404</td>\n",
       "      <td>146.786966</td>\n",
       "    </tr>\n",
       "    <tr>\n",
       "      <td>1</td>\n",
       "      <td>1051.T0.1-V08-G-mjp-1.1.H</td>\n",
       "      <td>07:32:00</td>\n",
       "      <td>07:34:00</td>\n",
       "      <td>20351</td>\n",
       "      <td>5</td>\n",
       "      <td>NaN</td>\n",
       "      <td>0</td>\n",
       "      <td>0</td>\n",
       "      <td>116895.210301</td>\n",
       "      <td>T0</td>\n",
       "      <td>0</td>\n",
       "      <td>Traralgon Railway Station (Traralgon)</td>\n",
       "      <td>-38.198885</td>\n",
       "      <td>146.537882</td>\n",
       "    </tr>\n",
       "    <tr>\n",
       "      <td>2</td>\n",
       "      <td>1051.T0.1-V08-G-mjp-1.1.H</td>\n",
       "      <td>07:45:00</td>\n",
       "      <td>07:45:00</td>\n",
       "      <td>20330</td>\n",
       "      <td>6</td>\n",
       "      <td>NaN</td>\n",
       "      <td>0</td>\n",
       "      <td>0</td>\n",
       "      <td>130530.089787</td>\n",
       "      <td>T0</td>\n",
       "      <td>0</td>\n",
       "      <td>Morwell Railway Station (Morwell)</td>\n",
       "      <td>-38.236719</td>\n",
       "      <td>146.396753</td>\n",
       "    </tr>\n",
       "    <tr>\n",
       "      <td>3</td>\n",
       "      <td>1051.T0.1-V08-G-mjp-1.1.H</td>\n",
       "      <td>07:57:00</td>\n",
       "      <td>07:57:00</td>\n",
       "      <td>20328</td>\n",
       "      <td>7</td>\n",
       "      <td>NaN</td>\n",
       "      <td>0</td>\n",
       "      <td>0</td>\n",
       "      <td>145000.117101</td>\n",
       "      <td>T0</td>\n",
       "      <td>0</td>\n",
       "      <td>Moe Railway Station (Moe)</td>\n",
       "      <td>-38.176715</td>\n",
       "      <td>146.262697</td>\n",
       "    </tr>\n",
       "    <tr>\n",
       "      <td>4</td>\n",
       "      <td>1051.T0.1-V08-G-mjp-1.1.H</td>\n",
       "      <td>08:16:00</td>\n",
       "      <td>08:16:00</td>\n",
       "      <td>20357</td>\n",
       "      <td>10</td>\n",
       "      <td>NaN</td>\n",
       "      <td>0</td>\n",
       "      <td>0</td>\n",
       "      <td>175519.536474</td>\n",
       "      <td>T0</td>\n",
       "      <td>0</td>\n",
       "      <td>Warragul Railway Station (Warragul)</td>\n",
       "      <td>-38.165224</td>\n",
       "      <td>145.933085</td>\n",
       "    </tr>\n",
       "  </tbody>\n",
       "</table>\n",
       "</div>"
      ],
      "text/plain": [
       "                     trip_id arrival_time departure_time  stop_id  \\\n",
       "0  1051.T0.1-V08-G-mjp-1.1.H     07:16:00       07:16:00    20339   \n",
       "1  1051.T0.1-V08-G-mjp-1.1.H     07:32:00       07:34:00    20351   \n",
       "2  1051.T0.1-V08-G-mjp-1.1.H     07:45:00       07:45:00    20330   \n",
       "3  1051.T0.1-V08-G-mjp-1.1.H     07:57:00       07:57:00    20328   \n",
       "4  1051.T0.1-V08-G-mjp-1.1.H     08:16:00       08:16:00    20357   \n",
       "\n",
       "   stop_sequence  stop_headsign  pickup_type  drop_off_type  \\\n",
       "0              4            NaN            0              0   \n",
       "1              5            NaN            0              0   \n",
       "2              6            NaN            0              0   \n",
       "3              7            NaN            0              0   \n",
       "4             10            NaN            0              0   \n",
       "\n",
       "   shape_dist_traveled service_id  direction_id  \\\n",
       "0         94514.728171         T0             0   \n",
       "1        116895.210301         T0             0   \n",
       "2        130530.089787         T0             0   \n",
       "3        145000.117101         T0             0   \n",
       "4        175519.536474         T0             0   \n",
       "\n",
       "                               stop_name   stop_lat    stop_lon  \n",
       "0    Rosedale Railway Station (Rosedale) -38.156404  146.786966  \n",
       "1  Traralgon Railway Station (Traralgon) -38.198885  146.537882  \n",
       "2      Morwell Railway Station (Morwell) -38.236719  146.396753  \n",
       "3              Moe Railway Station (Moe) -38.176715  146.262697  \n",
       "4    Warragul Railway Station (Warragul) -38.165224  145.933085  "
      ]
     },
     "execution_count": 54,
     "metadata": {},
     "output_type": "execute_result"
    }
   ],
   "source": [
    "direct_trips_sc.head()"
   ]
  },
  {
   "cell_type": "markdown",
   "metadata": {},
   "source": [
    "## train_station_id & distance_to_train_station"
   ]
  },
  {
   "cell_type": "markdown",
   "metadata": {},
   "source": [
    "We use haversine formula to calculte the distance between two points."
   ]
  },
  {
   "cell_type": "markdown",
   "metadata": {},
   "source": [
    "The function `distance_cal` function takes four arguments, origin latitude and destination longitude and find the distance between them."
   ]
  },
  {
   "cell_type": "code",
   "execution_count": 55,
   "metadata": {},
   "outputs": [],
   "source": [
    "from math import radians,sin,atan2,cos\n",
    "    \n",
    "def distance_cal(lat_house, lon_house, lat_stat, lon_stat):\n",
    "    # calculating distance between to points\n",
    "    R = 6378000    # radius of earth \n",
    "    lat1 = radians(lat_house)\n",
    "    lon1 = radians(lon_house)\n",
    "    lat2 = radians(lat_stat)\n",
    "    lon2 = radians(lon_stat)\n",
    "    lat_dff = lat2 - lat1\n",
    "    lon_dff = lon2 - lon1\n",
    "    a = sin(lat_dff/2)**2 + cos(lat1)*cos(lat2)*sin(lon_dff/2)**2    # haversine formula \n",
    "    c = 2*atan2(a**0.5,(1-a)**0.5) \n",
    "    d = R*c\n",
    "    \n",
    "    return (d)      # return distance between two points\n"
   ]
  },
  {
   "cell_type": "markdown",
   "metadata": {},
   "source": [
    "A function is defined `train_station_cal` to find the `train_station_id` and `distance_to_train_station`. In this funtion, we find all the nearby train station distances to the property and check if the nearby station has direct trip to SC and get the distance."
   ]
  },
  {
   "cell_type": "code",
   "execution_count": 56,
   "metadata": {},
   "outputs": [],
   "source": [
    "def train_station_cal(row):\n",
    "    lat = row['Lattitude']\n",
    "    lon = row['Longtitude']\n",
    "    # calling the function distance_cal to calculate distances for all the stops_files data \n",
    "    all_distances = stops_file.apply(lambda x: (distance_cal(lat, lon, x['stop_lat'], x['stop_lon']),x['stop_id']), axis = 1)\n",
    "    # storing stop_id, distance associated to the station in dataframe and sorting the dataframe based on distance, since we need closest train station to the property\n",
    "    distance_df = pd.DataFrame(list(all_distances), columns=['distances','stop_id']).sort_values(by='distances')\n",
    "    # distance_df contains distances and stop_ids\n",
    "    distance_df = distance_df.reset_index()     # resetting the index\n",
    "    distance_df = distance_df.drop(['index'],axis=1)   #  dropping the index column\n",
    "    # for the rows in the distance_df we are checking if the stop_id has direct trip to southern cross and is close the property\n",
    "    for index, row in distance_df.iterrows():\n",
    "        stop_id = distance_df['stop_id'][index]   \n",
    "        distance_value = distance_df['distances'][index]\n",
    "        # checking if the stop_id == 20043 or 22180\n",
    "        if (stop_id == 20043) or (stop_id == 22180):  \n",
    "            return (stop_id, distance_value)          # then returns train station id and distance train station\n",
    "        \n",
    "        else:\n",
    "            # considering all those trips where stop_id is equal to the stop_id in direct_trips_sc\n",
    "            trips_sc = direct_trips_sc['trip_id'][(direct_trips_sc['stop_id']==stop_id)]\n",
    "            for each in list(trips_sc):    # for all the trips ids \n",
    "                origin_seq = stop_times['stop_sequence'][(stop_times['trip_id']==each) & (stop_times['stop_id']==stop_id)]\n",
    "                # extracting the origin station stop_sequence of the trip_id where trip_id is equal to the list(trips) and stop_id is equal to the stop_id of the distance_df                   \n",
    "                dest_seq = stop_times['stop_sequence'][(stop_times['trip_id']==each) & ((stop_times['stop_id']==20043) | (stop_times['stop_id']==22180))]\n",
    "                # extracting the destination station stop_sequence of the trip_id where the trip_id is equal to the list(trips) and stop_id == 20043 or 22180\n",
    "                if list(origin_seq)[0] < list(dest_seq)[0]:   # checking if the origin stop_sequence is less than the destination stop_sequence\n",
    "                    return (stop_id, distance_value)      # returning the matched train station id and distance in the distance_df\n",
    "                else:\n",
    "                    continue\n",
    "                    "
   ]
  },
  {
   "cell_type": "code",
   "execution_count": 57,
   "metadata": {},
   "outputs": [],
   "source": [
    "# creating a dask dataframe to do parallel computing \n",
    "dask_df = dd.from_pandas(df,npartitions=4)\n",
    "dask_df = dask_df.persist()"
   ]
  },
  {
   "cell_type": "code",
   "execution_count": 58,
   "metadata": {},
   "outputs": [],
   "source": [
    "# calling the train_station_cal function to find the train_station_id and distance using dask dataframe\n",
    "df['Stop_id & Distance'] = dask_df.map_partitions(lambda newd: newd.apply(lambda x: train_station_cal(x), axis = 1)).compute(scheduler = 'processes')"
   ]
  },
  {
   "cell_type": "code",
   "execution_count": 59,
   "metadata": {},
   "outputs": [],
   "source": [
    "# extracting train_id from the Stop_id & Distance Column\n",
    "df['train_station_id'] = df.apply(lambda x: x['Stop_id & Distance'][0], axis=1)"
   ]
  },
  {
   "cell_type": "code",
   "execution_count": 60,
   "metadata": {},
   "outputs": [],
   "source": [
    "# extracting distance to nearest train station from Stop_id & Distance column\n",
    "df['distance_to_train_station'] = df.apply(lambda x: x['Stop_id & Distance'][1], axis=1)"
   ]
  },
  {
   "cell_type": "code",
   "execution_count": 61,
   "metadata": {},
   "outputs": [
    {
     "data": {
      "text/html": [
       "<div>\n",
       "<style scoped>\n",
       "    .dataframe tbody tr th:only-of-type {\n",
       "        vertical-align: middle;\n",
       "    }\n",
       "\n",
       "    .dataframe tbody tr th {\n",
       "        vertical-align: top;\n",
       "    }\n",
       "\n",
       "    .dataframe thead th {\n",
       "        text-align: right;\n",
       "    }\n",
       "</style>\n",
       "<table border=\"1\" class=\"dataframe\">\n",
       "  <thead>\n",
       "    <tr style=\"text-align: right;\">\n",
       "      <th></th>\n",
       "      <th>ID</th>\n",
       "      <th>Address</th>\n",
       "      <th>Rooms</th>\n",
       "      <th>Type</th>\n",
       "      <th>Price</th>\n",
       "      <th>Date</th>\n",
       "      <th>Bathroom</th>\n",
       "      <th>Car</th>\n",
       "      <th>Landsize</th>\n",
       "      <th>Age</th>\n",
       "      <th>...</th>\n",
       "      <th>Longtitude</th>\n",
       "      <th>Suburb</th>\n",
       "      <th>Council</th>\n",
       "      <th>Year</th>\n",
       "      <th>crime_A_average</th>\n",
       "      <th>crime_B_average</th>\n",
       "      <th>crime_C_average</th>\n",
       "      <th>Stop_id &amp; Distance</th>\n",
       "      <th>train_station_id</th>\n",
       "      <th>distance_to_train_station</th>\n",
       "    </tr>\n",
       "  </thead>\n",
       "  <tbody>\n",
       "    <tr>\n",
       "      <td>0</td>\n",
       "      <td>ID253199063</td>\n",
       "      <td>8 Kinnane Cr</td>\n",
       "      <td>3</td>\n",
       "      <td>h</td>\n",
       "      <td>830500.0</td>\n",
       "      <td>8/07/2017</td>\n",
       "      <td>1.0</td>\n",
       "      <td>2.0</td>\n",
       "      <td>508.0</td>\n",
       "      <td>69.0</td>\n",
       "      <td>...</td>\n",
       "      <td>144.83648</td>\n",
       "      <td>SUNSHINE</td>\n",
       "      <td>KNOX</td>\n",
       "      <td>2017</td>\n",
       "      <td>1412.000000</td>\n",
       "      <td>6364.000000</td>\n",
       "      <td>699.333333</td>\n",
       "      <td>(20021, 928.0872699557312)</td>\n",
       "      <td>20021</td>\n",
       "      <td>928.087270</td>\n",
       "    </tr>\n",
       "    <tr>\n",
       "      <td>1</td>\n",
       "      <td>ID764854482</td>\n",
       "      <td>9 Banks Pl</td>\n",
       "      <td>3</td>\n",
       "      <td>h</td>\n",
       "      <td>742000.0</td>\n",
       "      <td>26/08/2017</td>\n",
       "      <td>2.0</td>\n",
       "      <td>2.0</td>\n",
       "      <td>375.0</td>\n",
       "      <td>44.0</td>\n",
       "      <td>...</td>\n",
       "      <td>144.89990</td>\n",
       "      <td>GLADSTONE PARK</td>\n",
       "      <td>GLEN EIRA</td>\n",
       "      <td>2017</td>\n",
       "      <td>663.000000</td>\n",
       "      <td>4010.000000</td>\n",
       "      <td>377.000000</td>\n",
       "      <td>(20030, 1740.976471238528)</td>\n",
       "      <td>20030</td>\n",
       "      <td>1740.976471</td>\n",
       "    </tr>\n",
       "    <tr>\n",
       "      <td>2</td>\n",
       "      <td>ID765581220</td>\n",
       "      <td>112 Belmore Rd</td>\n",
       "      <td>5</td>\n",
       "      <td>h</td>\n",
       "      <td>3020000.0</td>\n",
       "      <td>28/05/2016</td>\n",
       "      <td>3.0</td>\n",
       "      <td>2.0</td>\n",
       "      <td>715.0</td>\n",
       "      <td>10.0</td>\n",
       "      <td>...</td>\n",
       "      <td>145.07680</td>\n",
       "      <td>BALWYN</td>\n",
       "      <td>HOBSONS BAY</td>\n",
       "      <td>2016</td>\n",
       "      <td>925.666667</td>\n",
       "      <td>4701.333333</td>\n",
       "      <td>308.666667</td>\n",
       "      <td>(19893, 2445.085481941494)</td>\n",
       "      <td>19893</td>\n",
       "      <td>2445.085482</td>\n",
       "    </tr>\n",
       "    <tr>\n",
       "      <td>3</td>\n",
       "      <td>ID364066284</td>\n",
       "      <td>12 Rasmussen Ct</td>\n",
       "      <td>4</td>\n",
       "      <td>h</td>\n",
       "      <td>922000.0</td>\n",
       "      <td>1/07/2017</td>\n",
       "      <td>2.0</td>\n",
       "      <td>2.0</td>\n",
       "      <td>463.0</td>\n",
       "      <td>59.0</td>\n",
       "      <td>...</td>\n",
       "      <td>144.97959</td>\n",
       "      <td>COBURG</td>\n",
       "      <td>MOONEE VALLEY</td>\n",
       "      <td>2017</td>\n",
       "      <td>1097.666667</td>\n",
       "      <td>5916.000000</td>\n",
       "      <td>553.333333</td>\n",
       "      <td>(19964, 1525.626831895159)</td>\n",
       "      <td>19964</td>\n",
       "      <td>1525.626832</td>\n",
       "    </tr>\n",
       "    <tr>\n",
       "      <td>4</td>\n",
       "      <td>ID879430645</td>\n",
       "      <td>29 Alfred St</td>\n",
       "      <td>2</td>\n",
       "      <td>h</td>\n",
       "      <td>825000.0</td>\n",
       "      <td>14/05/2016</td>\n",
       "      <td>1.0</td>\n",
       "      <td>0.0</td>\n",
       "      <td>111.0</td>\n",
       "      <td>109.0</td>\n",
       "      <td>...</td>\n",
       "      <td>144.93730</td>\n",
       "      <td>PORT MELBOURNE</td>\n",
       "      <td>BOROONDARA</td>\n",
       "      <td>2016</td>\n",
       "      <td>659.000000</td>\n",
       "      <td>5219.333333</td>\n",
       "      <td>338.333333</td>\n",
       "      <td>(22180, 2268.794420702244)</td>\n",
       "      <td>22180</td>\n",
       "      <td>2268.794421</td>\n",
       "    </tr>\n",
       "  </tbody>\n",
       "</table>\n",
       "<p>5 rows × 21 columns</p>\n",
       "</div>"
      ],
      "text/plain": [
       "            ID          Address  Rooms Type      Price        Date  Bathroom  \\\n",
       "0  ID253199063     8 Kinnane Cr      3    h   830500.0   8/07/2017       1.0   \n",
       "1  ID764854482       9 Banks Pl      3    h   742000.0  26/08/2017       2.0   \n",
       "2  ID765581220   112 Belmore Rd      5    h  3020000.0  28/05/2016       3.0   \n",
       "3  ID364066284  12 Rasmussen Ct      4    h   922000.0   1/07/2017       2.0   \n",
       "4  ID879430645     29 Alfred St      2    h   825000.0  14/05/2016       1.0   \n",
       "\n",
       "   Car  Landsize    Age  ...  Longtitude          Suburb        Council  Year  \\\n",
       "0  2.0     508.0   69.0  ...   144.83648        SUNSHINE           KNOX  2017   \n",
       "1  2.0     375.0   44.0  ...   144.89990  GLADSTONE PARK      GLEN EIRA  2017   \n",
       "2  2.0     715.0   10.0  ...   145.07680          BALWYN    HOBSONS BAY  2016   \n",
       "3  2.0     463.0   59.0  ...   144.97959          COBURG  MOONEE VALLEY  2017   \n",
       "4  0.0     111.0  109.0  ...   144.93730  PORT MELBOURNE     BOROONDARA  2016   \n",
       "\n",
       "   crime_A_average  crime_B_average  crime_C_average  \\\n",
       "0      1412.000000      6364.000000       699.333333   \n",
       "1       663.000000      4010.000000       377.000000   \n",
       "2       925.666667      4701.333333       308.666667   \n",
       "3      1097.666667      5916.000000       553.333333   \n",
       "4       659.000000      5219.333333       338.333333   \n",
       "\n",
       "           Stop_id & Distance train_station_id  distance_to_train_station  \n",
       "0  (20021, 928.0872699557312)            20021                 928.087270  \n",
       "1  (20030, 1740.976471238528)            20030                1740.976471  \n",
       "2  (19893, 2445.085481941494)            19893                2445.085482  \n",
       "3  (19964, 1525.626831895159)            19964                1525.626832  \n",
       "4  (22180, 2268.794420702244)            22180                2268.794421  \n",
       "\n",
       "[5 rows x 21 columns]"
      ]
     },
     "execution_count": 61,
     "metadata": {},
     "output_type": "execute_result"
    }
   ],
   "source": [
    "df.head()"
   ]
  },
  {
   "cell_type": "markdown",
   "metadata": {},
   "source": [
    "## travel_min_to_CBD"
   ]
  },
  {
   "cell_type": "markdown",
   "metadata": {},
   "source": [
    "The process to find the travel_min_to_CBD as follows:\n",
    "- We get all the train_station_ids from the df, get all the assocaited uniques trip ids.\n",
    "- For each trip id we extract the origin departure time and destination arrival and get the difference and store.\n",
    "- So for all those trip travel times we get the avarage travel time."
   ]
  },
  {
   "cell_type": "code",
   "execution_count": 62,
   "metadata": {},
   "outputs": [],
   "source": [
    "# dropping the duplicates in the df and storing new df to find the average travel time\n",
    "unique_stop_ids = df.drop_duplicates(subset = ['train_station_id'])"
   ]
  },
  {
   "cell_type": "code",
   "execution_count": 63,
   "metadata": {},
   "outputs": [],
   "source": [
    "def time_calculation(row, train_id):\n",
    "    trip = row['trip_ids']\n",
    "    # getting origin station trip which is equal to the train_station_id in the df \n",
    "    origin_time = stop_times[(stop_times['trip_id'] == trip) & (stop_times['stop_id']==train_id)]\n",
    "    # getting the row of southern cross station as destination\n",
    "    dest_time = stop_times[(stop_times['trip_id'] == trip) & ((stop_times['stop_id']==20043) | (stop_times['stop_id']==22180))]\n",
    "    # checking the stop_sequence\n",
    "    if int(origin_time['stop_sequence'].to_string(index=False)) < int(dest_time['stop_sequence'].to_string(index=False)):\n",
    "        departure_time = origin_time['departure_time'].to_string(index=False).strip()\n",
    "        arrival_time = dest_time['arrival_time'].to_string(index=False).strip()\n",
    "        time = datetime.datetime.strptime(arrival_time, '%H:%M:%S') - datetime.datetime.strptime(departure_time, '%H:%M:%S')\n",
    "        value = time.seconds/60    # coverting seconds to mins\n",
    "        return value\n",
    "    \n",
    "    else:\n",
    "        return np.nan\n",
    "            "
   ]
  },
  {
   "cell_type": "code",
   "execution_count": 64,
   "metadata": {},
   "outputs": [],
   "source": [
    "def min_travel_time(trains):\n",
    "    # finding the trip which has direct trip to southern cross and calling the time_calculation funtion to get the time\n",
    "    stop_id = int(trains['train_station_id'])\n",
    "    all_trips = pd.DataFrame(columns=['trip_ids'])\n",
    "    all_trips['trip_ids'] = direct_trips_sc['trip_id'][direct_trips_sc['stop_id'] == stop_id].unique()\n",
    "    cal_time = all_trips.apply(lambda x : time_calculation(x, stop_id),axis=1)\n",
    "    if len(cal_time) > 0:\n",
    "        all_trips['cal_time'] = cal_time\n",
    "        all_trips = all_trips.dropna(axis=0, subset=['cal_time'])\n",
    "        average_time = all_trips['cal_time'].mean()   # average of all the time values\n",
    "        return average_time\n",
    "    else:\n",
    "        return 0"
   ]
  },
  {
   "cell_type": "code",
   "execution_count": 65,
   "metadata": {},
   "outputs": [],
   "source": [
    "dask_df1 = dd.from_pandas(df,npartitions=4)\n",
    "dask_df1 = dask_df1.persist()"
   ]
  },
  {
   "cell_type": "code",
   "execution_count": 66,
   "metadata": {},
   "outputs": [
    {
     "name": "stderr",
     "output_type": "stream",
     "text": [
      "C:\\Users\\amsar\\Anaconda3\\lib\\site-packages\\ipykernel_launcher.py:1: SettingWithCopyWarning: \n",
      "A value is trying to be set on a copy of a slice from a DataFrame.\n",
      "Try using .loc[row_indexer,col_indexer] = value instead\n",
      "\n",
      "See the caveats in the documentation: http://pandas.pydata.org/pandas-docs/stable/user_guide/indexing.html#returning-a-view-versus-a-copy\n",
      "  \"\"\"Entry point for launching an IPython kernel.\n"
     ]
    }
   ],
   "source": [
    "unique_stop_ids['travel_min_to_CBD'] = dask_df1.map_partitions(lambda newdf: newdf.apply(lambda x: min_travel_time(x), axis = 1)).compute(scheduler = 'processes')"
   ]
  },
  {
   "cell_type": "code",
   "execution_count": 67,
   "metadata": {},
   "outputs": [
    {
     "name": "stderr",
     "output_type": "stream",
     "text": [
      "C:\\Users\\amsar\\Anaconda3\\lib\\site-packages\\ipykernel_launcher.py:1: SettingWithCopyWarning: \n",
      "A value is trying to be set on a copy of a slice from a DataFrame\n",
      "\n",
      "See the caveats in the documentation: http://pandas.pydata.org/pandas-docs/stable/user_guide/indexing.html#returning-a-view-versus-a-copy\n",
      "  \"\"\"Entry point for launching an IPython kernel.\n",
      "C:\\Users\\amsar\\Anaconda3\\lib\\site-packages\\pandas\\core\\generic.py:9114: SettingWithCopyWarning: \n",
      "A value is trying to be set on a copy of a slice from a DataFrame\n",
      "\n",
      "See the caveats in the documentation: http://pandas.pydata.org/pandas-docs/stable/user_guide/indexing.html#returning-a-view-versus-a-copy\n",
      "  self._update_inplace(new_data)\n",
      "C:\\Users\\amsar\\Anaconda3\\lib\\site-packages\\IPython\\core\\interactiveshell.py:3326: SettingWithCopyWarning: \n",
      "A value is trying to be set on a copy of a slice from a DataFrame\n",
      "\n",
      "See the caveats in the documentation: http://pandas.pydata.org/pandas-docs/stable/user_guide/indexing.html#returning-a-view-versus-a-copy\n",
      "  exec(code_obj, self.user_global_ns, self.user_ns)\n"
     ]
    }
   ],
   "source": [
    "unique_stop_ids['travel_min_to_CBD'][unique_stop_ids['travel_min_to_CBD'].isna()]=0"
   ]
  },
  {
   "cell_type": "markdown",
   "metadata": {},
   "source": [
    "Let's merge unique_stop_ids and df on train_station_id to get the respective travel_min_to_CBD."
   ]
  },
  {
   "cell_type": "code",
   "execution_count": 68,
   "metadata": {},
   "outputs": [],
   "source": [
    "train_time_id = unique_stop_ids[['train_station_id','travel_min_to_CBD']]"
   ]
  },
  {
   "cell_type": "code",
   "execution_count": 69,
   "metadata": {},
   "outputs": [
    {
     "data": {
      "text/html": [
       "<div>\n",
       "<style scoped>\n",
       "    .dataframe tbody tr th:only-of-type {\n",
       "        vertical-align: middle;\n",
       "    }\n",
       "\n",
       "    .dataframe tbody tr th {\n",
       "        vertical-align: top;\n",
       "    }\n",
       "\n",
       "    .dataframe thead th {\n",
       "        text-align: right;\n",
       "    }\n",
       "</style>\n",
       "<table border=\"1\" class=\"dataframe\">\n",
       "  <thead>\n",
       "    <tr style=\"text-align: right;\">\n",
       "      <th></th>\n",
       "      <th>train_station_id</th>\n",
       "      <th>travel_min_to_CBD</th>\n",
       "    </tr>\n",
       "  </thead>\n",
       "  <tbody>\n",
       "    <tr>\n",
       "      <td>0</td>\n",
       "      <td>20021</td>\n",
       "      <td>24.555556</td>\n",
       "    </tr>\n",
       "    <tr>\n",
       "      <td>1</td>\n",
       "      <td>20030</td>\n",
       "      <td>40.000000</td>\n",
       "    </tr>\n",
       "    <tr>\n",
       "      <td>2</td>\n",
       "      <td>19893</td>\n",
       "      <td>23.769231</td>\n",
       "    </tr>\n",
       "    <tr>\n",
       "      <td>3</td>\n",
       "      <td>19964</td>\n",
       "      <td>34.000000</td>\n",
       "    </tr>\n",
       "    <tr>\n",
       "      <td>4</td>\n",
       "      <td>22180</td>\n",
       "      <td>0.000000</td>\n",
       "    </tr>\n",
       "  </tbody>\n",
       "</table>\n",
       "</div>"
      ],
      "text/plain": [
       "   train_station_id  travel_min_to_CBD\n",
       "0             20021          24.555556\n",
       "1             20030          40.000000\n",
       "2             19893          23.769231\n",
       "3             19964          34.000000\n",
       "4             22180           0.000000"
      ]
     },
     "execution_count": 69,
     "metadata": {},
     "output_type": "execute_result"
    }
   ],
   "source": [
    "train_time_id.head()"
   ]
  },
  {
   "cell_type": "code",
   "execution_count": 70,
   "metadata": {},
   "outputs": [],
   "source": [
    "df = pd.merge(df, train_time_id, how = 'left', on = 'train_station_id')"
   ]
  },
  {
   "cell_type": "code",
   "execution_count": 71,
   "metadata": {},
   "outputs": [
    {
     "data": {
      "text/plain": [
       "Index(['ID', 'Address', 'Rooms', 'Type', 'Price', 'Date', 'Bathroom', 'Car',\n",
       "       'Landsize', 'Age', 'Lattitude', 'Longtitude', 'Suburb', 'Council',\n",
       "       'Year', 'crime_A_average', 'crime_B_average', 'crime_C_average',\n",
       "       'Stop_id & Distance', 'train_station_id', 'distance_to_train_station',\n",
       "       'travel_min_to_CBD'],\n",
       "      dtype='object')"
      ]
     },
     "execution_count": 71,
     "metadata": {},
     "output_type": "execute_result"
    }
   ],
   "source": [
    "df.columns"
   ]
  },
  {
   "cell_type": "markdown",
   "metadata": {},
   "source": [
    "## over_priced?"
   ]
  },
  {
   "cell_type": "markdown",
   "metadata": {},
   "source": [
    "A boolean feature indicating whether or not the price of the property is higher than the median price of similar properties (with respect to bedrooms, bathrooms, parking_space, and property_type attributes) in the same suburb on the year of selling.\n",
    "\n",
    "So we need to consider `Rooms`, `Bathroom`, `Car`, `Type`, `Year`, `Suburb` and `Price` columns to find whether the price of the property if overpriced or not. First, we neeed to calculate median price of similar properties and get the over_price column."
   ]
  },
  {
   "cell_type": "code",
   "execution_count": 72,
   "metadata": {},
   "outputs": [],
   "source": [
    "properties = df[['Rooms', 'Bathroom', 'Car', 'Type','Year', 'Suburb', 'Price']]"
   ]
  },
  {
   "cell_type": "code",
   "execution_count": 73,
   "metadata": {},
   "outputs": [],
   "source": [
    "median_prices = df.groupby(['Rooms', 'Bathroom', 'Car', 'Type','Year', 'Suburb']).agg({'Price' : 'median'}).reset_index()"
   ]
  },
  {
   "cell_type": "code",
   "execution_count": 74,
   "metadata": {},
   "outputs": [
    {
     "data": {
      "text/html": [
       "<div>\n",
       "<style scoped>\n",
       "    .dataframe tbody tr th:only-of-type {\n",
       "        vertical-align: middle;\n",
       "    }\n",
       "\n",
       "    .dataframe tbody tr th {\n",
       "        vertical-align: top;\n",
       "    }\n",
       "\n",
       "    .dataframe thead th {\n",
       "        text-align: right;\n",
       "    }\n",
       "</style>\n",
       "<table border=\"1\" class=\"dataframe\">\n",
       "  <thead>\n",
       "    <tr style=\"text-align: right;\">\n",
       "      <th></th>\n",
       "      <th>Rooms</th>\n",
       "      <th>Bathroom</th>\n",
       "      <th>Car</th>\n",
       "      <th>Type</th>\n",
       "      <th>Year</th>\n",
       "      <th>Suburb</th>\n",
       "      <th>Price</th>\n",
       "    </tr>\n",
       "  </thead>\n",
       "  <tbody>\n",
       "    <tr>\n",
       "      <td>0</td>\n",
       "      <td>1</td>\n",
       "      <td>1.0</td>\n",
       "      <td>0.0</td>\n",
       "      <td>h</td>\n",
       "      <td>2016</td>\n",
       "      <td>FITZROY NORTH</td>\n",
       "      <td>899000.0</td>\n",
       "    </tr>\n",
       "    <tr>\n",
       "      <td>1</td>\n",
       "      <td>1</td>\n",
       "      <td>1.0</td>\n",
       "      <td>0.0</td>\n",
       "      <td>u</td>\n",
       "      <td>2017</td>\n",
       "      <td>HAWTHORN EAST</td>\n",
       "      <td>441000.0</td>\n",
       "    </tr>\n",
       "    <tr>\n",
       "      <td>2</td>\n",
       "      <td>1</td>\n",
       "      <td>1.0</td>\n",
       "      <td>0.0</td>\n",
       "      <td>u</td>\n",
       "      <td>2017</td>\n",
       "      <td>MELBOURNE</td>\n",
       "      <td>275000.0</td>\n",
       "    </tr>\n",
       "    <tr>\n",
       "      <td>3</td>\n",
       "      <td>1</td>\n",
       "      <td>1.0</td>\n",
       "      <td>0.0</td>\n",
       "      <td>u</td>\n",
       "      <td>2017</td>\n",
       "      <td>SOUTH YARRA</td>\n",
       "      <td>390500.0</td>\n",
       "    </tr>\n",
       "    <tr>\n",
       "      <td>4</td>\n",
       "      <td>1</td>\n",
       "      <td>1.0</td>\n",
       "      <td>1.0</td>\n",
       "      <td>h</td>\n",
       "      <td>2016</td>\n",
       "      <td>COBURG</td>\n",
       "      <td>482500.0</td>\n",
       "    </tr>\n",
       "  </tbody>\n",
       "</table>\n",
       "</div>"
      ],
      "text/plain": [
       "   Rooms  Bathroom  Car Type  Year         Suburb     Price\n",
       "0      1       1.0  0.0    h  2016  FITZROY NORTH  899000.0\n",
       "1      1       1.0  0.0    u  2017  HAWTHORN EAST  441000.0\n",
       "2      1       1.0  0.0    u  2017      MELBOURNE  275000.0\n",
       "3      1       1.0  0.0    u  2017    SOUTH YARRA  390500.0\n",
       "4      1       1.0  1.0    h  2016         COBURG  482500.0"
      ]
     },
     "execution_count": 74,
     "metadata": {},
     "output_type": "execute_result"
    }
   ],
   "source": [
    "# median prices of the property\n",
    "median_prices.head()"
   ]
  },
  {
   "cell_type": "markdown",
   "metadata": {},
   "source": [
    "After getting median prices of the property, we will merge with our df with median_prices to check whether the property price is over_priced or not."
   ]
  },
  {
   "cell_type": "code",
   "execution_count": 75,
   "metadata": {},
   "outputs": [
    {
     "data": {
      "text/html": [
       "<div>\n",
       "<style scoped>\n",
       "    .dataframe tbody tr th:only-of-type {\n",
       "        vertical-align: middle;\n",
       "    }\n",
       "\n",
       "    .dataframe tbody tr th {\n",
       "        vertical-align: top;\n",
       "    }\n",
       "\n",
       "    .dataframe thead th {\n",
       "        text-align: right;\n",
       "    }\n",
       "</style>\n",
       "<table border=\"1\" class=\"dataframe\">\n",
       "  <thead>\n",
       "    <tr style=\"text-align: right;\">\n",
       "      <th></th>\n",
       "      <th>ID</th>\n",
       "      <th>Address</th>\n",
       "      <th>Rooms</th>\n",
       "      <th>Type</th>\n",
       "      <th>Price</th>\n",
       "      <th>Date</th>\n",
       "      <th>Bathroom</th>\n",
       "      <th>Car</th>\n",
       "      <th>Landsize</th>\n",
       "      <th>Age</th>\n",
       "      <th>...</th>\n",
       "      <th>Council</th>\n",
       "      <th>Year</th>\n",
       "      <th>crime_A_average</th>\n",
       "      <th>crime_B_average</th>\n",
       "      <th>crime_C_average</th>\n",
       "      <th>Stop_id &amp; Distance</th>\n",
       "      <th>train_station_id</th>\n",
       "      <th>distance_to_train_station</th>\n",
       "      <th>travel_min_to_CBD</th>\n",
       "      <th>Median Price</th>\n",
       "    </tr>\n",
       "  </thead>\n",
       "  <tbody>\n",
       "    <tr>\n",
       "      <td>0</td>\n",
       "      <td>ID253199063</td>\n",
       "      <td>8 Kinnane Cr</td>\n",
       "      <td>3</td>\n",
       "      <td>h</td>\n",
       "      <td>830500.0</td>\n",
       "      <td>8/07/2017</td>\n",
       "      <td>1.0</td>\n",
       "      <td>2.0</td>\n",
       "      <td>508.0</td>\n",
       "      <td>69.0</td>\n",
       "      <td>...</td>\n",
       "      <td>KNOX</td>\n",
       "      <td>2017</td>\n",
       "      <td>1412.000000</td>\n",
       "      <td>6364.000000</td>\n",
       "      <td>699.333333</td>\n",
       "      <td>(20021, 928.0872699557312)</td>\n",
       "      <td>20021</td>\n",
       "      <td>928.087270</td>\n",
       "      <td>24.555556</td>\n",
       "      <td>830500.0</td>\n",
       "    </tr>\n",
       "    <tr>\n",
       "      <td>1</td>\n",
       "      <td>ID764854482</td>\n",
       "      <td>9 Banks Pl</td>\n",
       "      <td>3</td>\n",
       "      <td>h</td>\n",
       "      <td>742000.0</td>\n",
       "      <td>26/08/2017</td>\n",
       "      <td>2.0</td>\n",
       "      <td>2.0</td>\n",
       "      <td>375.0</td>\n",
       "      <td>44.0</td>\n",
       "      <td>...</td>\n",
       "      <td>GLEN EIRA</td>\n",
       "      <td>2017</td>\n",
       "      <td>663.000000</td>\n",
       "      <td>4010.000000</td>\n",
       "      <td>377.000000</td>\n",
       "      <td>(20030, 1740.976471238528)</td>\n",
       "      <td>20030</td>\n",
       "      <td>1740.976471</td>\n",
       "      <td>40.000000</td>\n",
       "      <td>742000.0</td>\n",
       "    </tr>\n",
       "    <tr>\n",
       "      <td>2</td>\n",
       "      <td>ID765581220</td>\n",
       "      <td>112 Belmore Rd</td>\n",
       "      <td>5</td>\n",
       "      <td>h</td>\n",
       "      <td>3020000.0</td>\n",
       "      <td>28/05/2016</td>\n",
       "      <td>3.0</td>\n",
       "      <td>2.0</td>\n",
       "      <td>715.0</td>\n",
       "      <td>10.0</td>\n",
       "      <td>...</td>\n",
       "      <td>HOBSONS BAY</td>\n",
       "      <td>2016</td>\n",
       "      <td>925.666667</td>\n",
       "      <td>4701.333333</td>\n",
       "      <td>308.666667</td>\n",
       "      <td>(19893, 2445.085481941494)</td>\n",
       "      <td>19893</td>\n",
       "      <td>2445.085482</td>\n",
       "      <td>23.769231</td>\n",
       "      <td>3020000.0</td>\n",
       "    </tr>\n",
       "    <tr>\n",
       "      <td>3</td>\n",
       "      <td>ID364066284</td>\n",
       "      <td>12 Rasmussen Ct</td>\n",
       "      <td>4</td>\n",
       "      <td>h</td>\n",
       "      <td>922000.0</td>\n",
       "      <td>1/07/2017</td>\n",
       "      <td>2.0</td>\n",
       "      <td>2.0</td>\n",
       "      <td>463.0</td>\n",
       "      <td>59.0</td>\n",
       "      <td>...</td>\n",
       "      <td>MOONEE VALLEY</td>\n",
       "      <td>2017</td>\n",
       "      <td>1097.666667</td>\n",
       "      <td>5916.000000</td>\n",
       "      <td>553.333333</td>\n",
       "      <td>(19964, 1525.626831895159)</td>\n",
       "      <td>19964</td>\n",
       "      <td>1525.626832</td>\n",
       "      <td>34.000000</td>\n",
       "      <td>948500.0</td>\n",
       "    </tr>\n",
       "    <tr>\n",
       "      <td>4</td>\n",
       "      <td>ID879430645</td>\n",
       "      <td>29 Alfred St</td>\n",
       "      <td>2</td>\n",
       "      <td>h</td>\n",
       "      <td>825000.0</td>\n",
       "      <td>14/05/2016</td>\n",
       "      <td>1.0</td>\n",
       "      <td>0.0</td>\n",
       "      <td>111.0</td>\n",
       "      <td>109.0</td>\n",
       "      <td>...</td>\n",
       "      <td>BOROONDARA</td>\n",
       "      <td>2016</td>\n",
       "      <td>659.000000</td>\n",
       "      <td>5219.333333</td>\n",
       "      <td>338.333333</td>\n",
       "      <td>(22180, 2268.794420702244)</td>\n",
       "      <td>22180</td>\n",
       "      <td>2268.794421</td>\n",
       "      <td>0.000000</td>\n",
       "      <td>900000.0</td>\n",
       "    </tr>\n",
       "  </tbody>\n",
       "</table>\n",
       "<p>5 rows × 23 columns</p>\n",
       "</div>"
      ],
      "text/plain": [
       "            ID          Address  Rooms Type      Price        Date  Bathroom  \\\n",
       "0  ID253199063     8 Kinnane Cr      3    h   830500.0   8/07/2017       1.0   \n",
       "1  ID764854482       9 Banks Pl      3    h   742000.0  26/08/2017       2.0   \n",
       "2  ID765581220   112 Belmore Rd      5    h  3020000.0  28/05/2016       3.0   \n",
       "3  ID364066284  12 Rasmussen Ct      4    h   922000.0   1/07/2017       2.0   \n",
       "4  ID879430645     29 Alfred St      2    h   825000.0  14/05/2016       1.0   \n",
       "\n",
       "   Car  Landsize    Age  ...        Council  Year crime_A_average  \\\n",
       "0  2.0     508.0   69.0  ...           KNOX  2017     1412.000000   \n",
       "1  2.0     375.0   44.0  ...      GLEN EIRA  2017      663.000000   \n",
       "2  2.0     715.0   10.0  ...    HOBSONS BAY  2016      925.666667   \n",
       "3  2.0     463.0   59.0  ...  MOONEE VALLEY  2017     1097.666667   \n",
       "4  0.0     111.0  109.0  ...     BOROONDARA  2016      659.000000   \n",
       "\n",
       "  crime_B_average  crime_C_average          Stop_id & Distance  \\\n",
       "0     6364.000000       699.333333  (20021, 928.0872699557312)   \n",
       "1     4010.000000       377.000000  (20030, 1740.976471238528)   \n",
       "2     4701.333333       308.666667  (19893, 2445.085481941494)   \n",
       "3     5916.000000       553.333333  (19964, 1525.626831895159)   \n",
       "4     5219.333333       338.333333  (22180, 2268.794420702244)   \n",
       "\n",
       "   train_station_id  distance_to_train_station travel_min_to_CBD  Median Price  \n",
       "0             20021                 928.087270         24.555556      830500.0  \n",
       "1             20030                1740.976471         40.000000      742000.0  \n",
       "2             19893                2445.085482         23.769231     3020000.0  \n",
       "3             19964                1525.626832         34.000000      948500.0  \n",
       "4             22180                2268.794421          0.000000      900000.0  \n",
       "\n",
       "[5 rows x 23 columns]"
      ]
     },
     "execution_count": 75,
     "metadata": {},
     "output_type": "execute_result"
    }
   ],
   "source": [
    "# merging median_prices and df \n",
    "df = pd.merge(df, median_prices, how='left', on=['Rooms', 'Bathroom', 'Car', 'Type','Year', 'Suburb'])\n",
    "# renaming the price_x and price_y columns\n",
    "df.rename(columns={'Price_x': 'Price', 'Price_y': 'Median Price'}, inplace=True)\n",
    "#For esy understanding the columns are renamed.\n",
    "df.head()"
   ]
  },
  {
   "cell_type": "markdown",
   "metadata": {},
   "source": [
    "A function is defined to check whether the price is overpriced or not."
   ]
  },
  {
   "cell_type": "code",
   "execution_count": 76,
   "metadata": {},
   "outputs": [],
   "source": [
    "def over_price_cal(data):\n",
    "    actual_price = data['Price']    \n",
    "    median_price = data['Median Price']\n",
    "    if actual_price > median_price:   # checking if actual price is greater than medain price\n",
    "        return 1 \n",
    "    else:\n",
    "        return 0"
   ]
  },
  {
   "cell_type": "code",
   "execution_count": 77,
   "metadata": {},
   "outputs": [],
   "source": [
    "df['over_priced?'] = -1 # setting default value to over_priced? column"
   ]
  },
  {
   "cell_type": "code",
   "execution_count": 78,
   "metadata": {},
   "outputs": [],
   "source": [
    "df['over_priced?'] = df.apply(lambda x: over_price_cal(x), axis = 1)"
   ]
  },
  {
   "cell_type": "code",
   "execution_count": 79,
   "metadata": {},
   "outputs": [
    {
     "data": {
      "text/plain": [
       "Index(['ID', 'Address', 'Rooms', 'Type', 'Price', 'Date', 'Bathroom', 'Car',\n",
       "       'Landsize', 'Age', 'Lattitude', 'Longtitude', 'Suburb', 'Council',\n",
       "       'Year', 'crime_A_average', 'crime_B_average', 'crime_C_average',\n",
       "       'Stop_id & Distance', 'train_station_id', 'distance_to_train_station',\n",
       "       'travel_min_to_CBD', 'Median Price', 'over_priced?'],\n",
       "      dtype='object')"
      ]
     },
     "execution_count": 79,
     "metadata": {},
     "output_type": "execute_result"
    }
   ],
   "source": [
    "df.columns"
   ]
  },
  {
   "cell_type": "markdown",
   "metadata": {},
   "source": [
    "## closest_primary_school"
   ]
  },
  {
   "cell_type": "markdown",
   "metadata": {},
   "source": [
    "Parsing the xml file to extract the primary and secondary school names and the respective latitude and longitude values using `schools.xml`"
   ]
  },
  {
   "cell_type": "code",
   "execution_count": 80,
   "metadata": {},
   "outputs": [],
   "source": [
    "# parsing using elementtree package\n",
    "import xml.etree.ElementTree as etree    \n",
    "tree = etree.parse(\"./schools.xml\") \n",
    "root = tree.getroot()"
   ]
  },
  {
   "cell_type": "code",
   "execution_count": 81,
   "metadata": {},
   "outputs": [
    {
     "name": "stdout",
     "output_type": "stream",
     "text": [
      "b'<school>\\n    <Education_Sector>Government</Education_Sector>\\n    <Entity_Type>1</Entity_Type>\\n    <School_No>1</School_No>\\n    <School_Name>Alberton Primary School</School_Name>\\n    <School_Type>Primary</School_Type>\\n    <Address_Line_1>21 Thomson Street</Address_Line_1>\\n    <Address_Line_2 />\\n    <Address_State>VIC</Address_State>\\n    <Postal_Address_Line_1>21 Thomson Street</Postal_Address_Line_1>\\n    <Postal_Address_Line_2 />\\n    <Full_Phone_No>03 5183 2412</Full_Phone_No>\\n    <LGA_ID>681</LGA_ID>\\n    <LGA_Name>Wellington (S)</LGA_Name>\\n    <X>146.666601</X>\\n    <Y>-38.617713</Y>\\n  </school>\\n  '\n"
     ]
    }
   ],
   "source": [
    "for i in tree.findall('.//school'):   # getting the root\n",
    "    print(etree.tostring(i))\n",
    "    break"
   ]
  },
  {
   "cell_type": "code",
   "execution_count": 82,
   "metadata": {},
   "outputs": [
    {
     "data": {
      "text/plain": [
       "[<Element 'School_Name' at 0x261e741b9b0>,\n",
       " <Element 'School_Name' at 0x261e73e2f98>,\n",
       " <Element 'School_Name' at 0x261e74a6828>,\n",
       " <Element 'School_Name' at 0x261e748bba8>,\n",
       " <Element 'School_Name' at 0x261e741d8d0>,\n",
       " <Element 'School_Name' at 0x261e7565710>,\n",
       " <Element 'School_Name' at 0x261e731b550>,\n",
       " <Element 'School_Name' at 0x261e86010f0>,\n",
       " <Element 'School_Name' at 0x261e2cf4a90>,\n",
       " <Element 'School_Name' at 0x261e2d9f278>,\n",
       " <Element 'School_Name' at 0x261e73f0ba8>,\n",
       " <Element 'School_Name' at 0x261993120f0>,\n",
       " <Element 'School_Name' at 0x26199312978>,\n",
       " <Element 'School_Name' at 0x261f08faba8>,\n",
       " <Element 'School_Name' at 0x261f87d2748>,\n",
       " <Element 'School_Name' at 0x261edb35748>,\n",
       " <Element 'School_Name' at 0x261edb3c7b8>,\n",
       " <Element 'School_Name' at 0x261edb43828>,\n",
       " <Element 'School_Name' at 0x261edb4c898>,\n",
       " <Element 'School_Name' at 0x261edb53908>,\n",
       " <Element 'School_Name' at 0x261edb5b978>,\n",
       " <Element 'School_Name' at 0x261edb629e8>,\n",
       " <Element 'School_Name' at 0x261edb6aa58>,\n",
       " <Element 'School_Name' at 0x261edb72ac8>,\n",
       " <Element 'School_Name' at 0x261edb79b38>,\n",
       " <Element 'School_Name' at 0x261edb81ba8>,\n",
       " <Element 'School_Name' at 0x261edb89c18>,\n",
       " <Element 'School_Name' at 0x261edb91c88>,\n",
       " <Element 'School_Name' at 0x261edb97cf8>,\n",
       " <Element 'School_Name' at 0x261edba0d68>,\n",
       " <Element 'School_Name' at 0x261edba7dd8>,\n",
       " <Element 'School_Name' at 0x261edbafe48>,\n",
       " <Element 'School_Name' at 0x261edbb7eb8>,\n",
       " <Element 'School_Name' at 0x261edbbef28>,\n",
       " <Element 'School_Name' at 0x261edbc6f98>,\n",
       " <Element 'School_Name' at 0x261edbd5048>,\n",
       " <Element 'School_Name' at 0x261edbdc0b8>,\n",
       " <Element 'School_Name' at 0x261edbe5128>,\n",
       " <Element 'School_Name' at 0x261edbec198>,\n",
       " <Element 'School_Name' at 0x261edbf4208>,\n",
       " <Element 'School_Name' at 0x261edbfc278>,\n",
       " <Element 'School_Name' at 0x261edc022e8>,\n",
       " <Element 'School_Name' at 0x261edc0b358>,\n",
       " <Element 'School_Name' at 0x261edc123c8>,\n",
       " <Element 'School_Name' at 0x261edc1a438>,\n",
       " <Element 'School_Name' at 0x261edc224a8>,\n",
       " <Element 'School_Name' at 0x261edc2a518>,\n",
       " <Element 'School_Name' at 0x261edc31588>,\n",
       " <Element 'School_Name' at 0x261edc385f8>,\n",
       " <Element 'School_Name' at 0x261edc40668>,\n",
       " <Element 'School_Name' at 0x261edc476d8>,\n",
       " <Element 'School_Name' at 0x261edc50748>,\n",
       " <Element 'School_Name' at 0x261edc577b8>,\n",
       " <Element 'School_Name' at 0x261edc60828>,\n",
       " <Element 'School_Name' at 0x261edc67898>,\n",
       " <Element 'School_Name' at 0x261edc6e908>,\n",
       " <Element 'School_Name' at 0x261edc76978>,\n",
       " <Element 'School_Name' at 0x261edc7d9e8>,\n",
       " <Element 'School_Name' at 0x261edc85a58>,\n",
       " <Element 'School_Name' at 0x261edc8dac8>,\n",
       " <Element 'School_Name' at 0x261edc95828>,\n",
       " <Element 'School_Name' at 0x261edc9cd30>,\n",
       " <Element 'School_Name' at 0x261edc9ceb8>,\n",
       " <Element 'School_Name' at 0x261ee6f4128>,\n",
       " <Element 'School_Name' at 0x261ee6fb0f0>,\n",
       " <Element 'School_Name' at 0x261ee71b6d8>,\n",
       " <Element 'School_Name' at 0x261ee71bba8>,\n",
       " <Element 'School_Name' at 0x261989a2828>,\n",
       " <Element 'School_Name' at 0x261989a2898>,\n",
       " <Element 'School_Name' at 0x261a024e6a0>,\n",
       " <Element 'School_Name' at 0x261a024e1d0>,\n",
       " <Element 'School_Name' at 0x261be263c18>,\n",
       " <Element 'School_Name' at 0x261be263278>,\n",
       " <Element 'School_Name' at 0x261be25c828>,\n",
       " <Element 'School_Name' at 0x261be25b080>,\n",
       " <Element 'School_Name' at 0x261be25b898>,\n",
       " <Element 'School_Name' at 0x261be2560f0>,\n",
       " <Element 'School_Name' at 0x261be256908>,\n",
       " <Element 'School_Name' at 0x261be257160>,\n",
       " <Element 'School_Name' at 0x261be257978>,\n",
       " <Element 'School_Name' at 0x261be24d1d0>,\n",
       " <Element 'School_Name' at 0x261be24d9e8>,\n",
       " <Element 'School_Name' at 0x261be249240>,\n",
       " <Element 'School_Name' at 0x261be249a58>,\n",
       " <Element 'School_Name' at 0x261be2422b0>,\n",
       " <Element 'School_Name' at 0x261be242ac8>,\n",
       " <Element 'School_Name' at 0x261be240320>,\n",
       " <Element 'School_Name' at 0x261be240b38>,\n",
       " <Element 'School_Name' at 0x261be264390>,\n",
       " <Element 'School_Name' at 0x261be264ba8>,\n",
       " <Element 'School_Name' at 0x2619932f400>,\n",
       " <Element 'School_Name' at 0x2619932fc18>,\n",
       " <Element 'School_Name' at 0x2619931d470>,\n",
       " <Element 'School_Name' at 0x2619931dc88>,\n",
       " <Element 'School_Name' at 0x261993254e0>,\n",
       " <Element 'School_Name' at 0x26199325cf8>,\n",
       " <Element 'School_Name' at 0x2619930d550>,\n",
       " <Element 'School_Name' at 0x2619930dd68>,\n",
       " <Element 'School_Name' at 0x261993265c0>,\n",
       " <Element 'School_Name' at 0x26199326dd8>,\n",
       " <Element 'School_Name' at 0x2619930a630>,\n",
       " <Element 'School_Name' at 0x2619930ae48>,\n",
       " <Element 'School_Name' at 0x2619930c6a0>,\n",
       " <Element 'School_Name' at 0x2619930ceb8>,\n",
       " <Element 'School_Name' at 0x26199306710>,\n",
       " <Element 'School_Name' at 0x26199306f28>,\n",
       " <Element 'School_Name' at 0x261992ff780>,\n",
       " <Element 'School_Name' at 0x261992fff98>,\n",
       " <Element 'School_Name' at 0x261992fc7f0>,\n",
       " <Element 'School_Name' at 0x261992f3048>,\n",
       " <Element 'School_Name' at 0x261992f3860>,\n",
       " <Element 'School_Name' at 0x261992f40b8>,\n",
       " <Element 'School_Name' at 0x261992f48d0>,\n",
       " <Element 'School_Name' at 0x261807e8128>,\n",
       " <Element 'School_Name' at 0x261807e8940>,\n",
       " <Element 'School_Name' at 0x2618081f198>,\n",
       " <Element 'School_Name' at 0x2618081f9b0>,\n",
       " <Element 'School_Name' at 0x261807e7208>,\n",
       " <Element 'School_Name' at 0x261807e7a20>,\n",
       " <Element 'School_Name' at 0x26180814278>,\n",
       " <Element 'School_Name' at 0x26180814a90>,\n",
       " <Element 'School_Name' at 0x2618080a2e8>,\n",
       " <Element 'School_Name' at 0x2618080ab00>,\n",
       " <Element 'School_Name' at 0x26180805358>,\n",
       " <Element 'School_Name' at 0x26180805b70>,\n",
       " <Element 'School_Name' at 0x261808023c8>,\n",
       " <Element 'School_Name' at 0x26180802be0>,\n",
       " <Element 'School_Name' at 0x261807ff438>,\n",
       " <Element 'School_Name' at 0x261807ffc50>,\n",
       " <Element 'School_Name' at 0x261807fb4a8>,\n",
       " <Element 'School_Name' at 0x261807fbcc0>,\n",
       " <Element 'School_Name' at 0x261807f8518>,\n",
       " <Element 'School_Name' at 0x261807f8d30>,\n",
       " <Element 'School_Name' at 0x261807ef588>,\n",
       " <Element 'School_Name' at 0x261807efda0>,\n",
       " <Element 'School_Name' at 0x261807ec5f8>,\n",
       " <Element 'School_Name' at 0x261807ece10>,\n",
       " <Element 'School_Name' at 0x261807f2668>,\n",
       " <Element 'School_Name' at 0x261807f2e80>,\n",
       " <Element 'School_Name' at 0x261c0e346d8>,\n",
       " <Element 'School_Name' at 0x261c0e34ef0>,\n",
       " <Element 'School_Name' at 0x261c0e37748>,\n",
       " <Element 'School_Name' at 0x261c0e37f60>,\n",
       " <Element 'School_Name' at 0x261c0e327b8>,\n",
       " <Element 'School_Name' at 0x261c0e32fd0>,\n",
       " <Element 'School_Name' at 0x261c0e38828>,\n",
       " <Element 'School_Name' at 0x261c0e06080>,\n",
       " <Element 'School_Name' at 0x261c0e06898>,\n",
       " <Element 'School_Name' at 0x261c0e160f0>,\n",
       " <Element 'School_Name' at 0x261c0e16908>,\n",
       " <Element 'School_Name' at 0x261c0e0f160>,\n",
       " <Element 'School_Name' at 0x261c0e0f978>,\n",
       " <Element 'School_Name' at 0x261c0e0c1d0>,\n",
       " <Element 'School_Name' at 0x261c0e0c9e8>,\n",
       " <Element 'School_Name' at 0x261c0e26240>,\n",
       " <Element 'School_Name' at 0x261c0e26a58>,\n",
       " <Element 'School_Name' at 0x261c0e212b0>,\n",
       " <Element 'School_Name' at 0x261c0e21ac8>,\n",
       " <Element 'School_Name' at 0x261c0e2a320>,\n",
       " <Element 'School_Name' at 0x261c0e2ab38>,\n",
       " <Element 'School_Name' at 0x261c0e22390>,\n",
       " <Element 'School_Name' at 0x261c0e22ba8>,\n",
       " <Element 'School_Name' at 0x26199330400>,\n",
       " <Element 'School_Name' at 0x26199330c18>,\n",
       " <Element 'School_Name' at 0x26199331470>,\n",
       " <Element 'School_Name' at 0x26199331c88>,\n",
       " <Element 'School_Name' at 0x261993414e0>,\n",
       " <Element 'School_Name' at 0x26199341cf8>,\n",
       " <Element 'School_Name' at 0x26199344550>,\n",
       " <Element 'School_Name' at 0x26199344d68>,\n",
       " <Element 'School_Name' at 0x261993405c0>,\n",
       " <Element 'School_Name' at 0x26199340dd8>,\n",
       " <Element 'School_Name' at 0x26199354630>,\n",
       " <Element 'School_Name' at 0x26199354e48>,\n",
       " <Element 'School_Name' at 0x261993516a0>,\n",
       " <Element 'School_Name' at 0x26199351eb8>,\n",
       " <Element 'School_Name' at 0x26199357710>,\n",
       " <Element 'School_Name' at 0x26199357f28>,\n",
       " <Element 'School_Name' at 0x2619935e780>,\n",
       " <Element 'School_Name' at 0x2619935ef98>,\n",
       " <Element 'School_Name' at 0x261993607f0>,\n",
       " <Element 'School_Name' at 0x2619936a048>,\n",
       " <Element 'School_Name' at 0x2619936a860>,\n",
       " <Element 'School_Name' at 0x2619936c0b8>,\n",
       " <Element 'School_Name' at 0x2619936c8d0>,\n",
       " <Element 'School_Name' at 0x26199336128>,\n",
       " <Element 'School_Name' at 0x26199336940>,\n",
       " <Element 'School_Name' at 0x2619cc85198>,\n",
       " <Element 'School_Name' at 0x2619cc859b0>,\n",
       " <Element 'School_Name' at 0x2619cc89208>,\n",
       " <Element 'School_Name' at 0x2619cc89a20>,\n",
       " <Element 'School_Name' at 0x2619cc8f278>,\n",
       " <Element 'School_Name' at 0x2619cc8fa90>,\n",
       " <Element 'School_Name' at 0x2619cc952e8>,\n",
       " <Element 'School_Name' at 0x2619cc95b00>,\n",
       " <Element 'School_Name' at 0x2619cc98358>,\n",
       " <Element 'School_Name' at 0x2619cc98b70>,\n",
       " <Element 'School_Name' at 0x2619cc9d3c8>,\n",
       " <Element 'School_Name' at 0x2619cc9dbe0>,\n",
       " <Element 'School_Name' at 0x2619cca3438>,\n",
       " <Element 'School_Name' at 0x2619cca3c50>,\n",
       " <Element 'School_Name' at 0x2619cca74a8>,\n",
       " <Element 'School_Name' at 0x2619cca7cc0>,\n",
       " <Element 'School_Name' at 0x2619ccac518>,\n",
       " <Element 'School_Name' at 0x2619ccacd30>,\n",
       " <Element 'School_Name' at 0x2619ccb6588>,\n",
       " <Element 'School_Name' at 0x2619ccb6da0>,\n",
       " <Element 'School_Name' at 0x2619ccbb5f8>,\n",
       " <Element 'School_Name' at 0x2619ccbbe10>,\n",
       " <Element 'School_Name' at 0x2619ccbe668>,\n",
       " <Element 'School_Name' at 0x2619ccbee80>,\n",
       " <Element 'School_Name' at 0x261a1c9c6d8>,\n",
       " <Element 'School_Name' at 0x261a1c9cef0>,\n",
       " <Element 'School_Name' at 0x261a1c95748>,\n",
       " <Element 'School_Name' at 0x261a1c95f60>,\n",
       " <Element 'School_Name' at 0x261a1c997b8>,\n",
       " <Element 'School_Name' at 0x261a1c99fd0>,\n",
       " <Element 'School_Name' at 0x261a1ca4828>,\n",
       " <Element 'School_Name' at 0x261a1ca8080>,\n",
       " <Element 'School_Name' at 0x261a1ca8898>,\n",
       " <Element 'School_Name' at 0x261a1cab0f0>,\n",
       " <Element 'School_Name' at 0x261a1cab908>,\n",
       " <Element 'School_Name' at 0x261a1ca2160>,\n",
       " <Element 'School_Name' at 0x261a1ca2978>,\n",
       " <Element 'School_Name' at 0x261a1cb91d0>,\n",
       " <Element 'School_Name' at 0x261a1cb99e8>,\n",
       " <Element 'School_Name' at 0x261a1cbd240>,\n",
       " <Element 'School_Name' at 0x261a1cbda58>,\n",
       " <Element 'School_Name' at 0x261a1cc12b0>,\n",
       " <Element 'School_Name' at 0x261a1cc1ac8>,\n",
       " <Element 'School_Name' at 0x261a1cc6320>,\n",
       " <Element 'School_Name' at 0x261a1cc6b38>,\n",
       " <Element 'School_Name' at 0x261a1ccd390>,\n",
       " <Element 'School_Name' at 0x261a1ccdba8>,\n",
       " <Element 'School_Name' at 0x261a1ccf400>,\n",
       " <Element 'School_Name' at 0x261a1ccfc18>,\n",
       " <Element 'School_Name' at 0x2619f8f9ba8>,\n",
       " <Element 'School_Name' at 0x2619f8f9390>,\n",
       " <Element 'School_Name' at 0x2619f8fa4e0>,\n",
       " <Element 'School_Name' at 0x2619f8facf8>,\n",
       " <Element 'School_Name' at 0x2619f8f4550>,\n",
       " <Element 'School_Name' at 0x2619f8f4d68>,\n",
       " <Element 'School_Name' at 0x2619f8ef5c0>,\n",
       " <Element 'School_Name' at 0x2619f8efdd8>,\n",
       " <Element 'School_Name' at 0x2619f8ec630>,\n",
       " <Element 'School_Name' at 0x2619f8ece48>,\n",
       " <Element 'School_Name' at 0x2619f8e66a0>,\n",
       " <Element 'School_Name' at 0x2619f8e6eb8>,\n",
       " <Element 'School_Name' at 0x2619f8e1710>,\n",
       " <Element 'School_Name' at 0x2619f8e1f28>,\n",
       " <Element 'School_Name' at 0x2619f8dc780>,\n",
       " <Element 'School_Name' at 0x2619f8dcf98>,\n",
       " <Element 'School_Name' at 0x2619f8d87f0>,\n",
       " <Element 'School_Name' at 0x2619f8cefd0>,\n",
       " <Element 'School_Name' at 0x2619f8ce7b8>,\n",
       " <Element 'School_Name' at 0x2619f8cc0b8>,\n",
       " <Element 'School_Name' at 0x2619f8cc8d0>,\n",
       " <Element 'School_Name' at 0x2619f8c8128>,\n",
       " <Element 'School_Name' at 0x2619f8c8940>,\n",
       " <Element 'School_Name' at 0x2619f8c1198>,\n",
       " <Element 'School_Name' at 0x2619f8c19b0>,\n",
       " <Element 'School_Name' at 0x2619ba86208>,\n",
       " <Element 'School_Name' at 0x2619ba86a20>,\n",
       " <Element 'School_Name' at 0x2619ba8b278>,\n",
       " <Element 'School_Name' at 0x2619ba8ba90>,\n",
       " <Element 'School_Name' at 0x2619ba892e8>,\n",
       " <Element 'School_Name' at 0x2619ba89b00>,\n",
       " <Element 'School_Name' at 0x2619ba92358>,\n",
       " <Element 'School_Name' at 0x2619ba92b70>,\n",
       " <Element 'School_Name' at 0x2619ba8c3c8>,\n",
       " <Element 'School_Name' at 0x2619ba8cbe0>,\n",
       " <Element 'School_Name' at 0x2619ba97438>,\n",
       " <Element 'School_Name' at 0x2619ba97c50>,\n",
       " <Element 'School_Name' at 0x2619baa44a8>,\n",
       " <Element 'School_Name' at 0x2619baa4cc0>,\n",
       " <Element 'School_Name' at 0x2619baa8518>,\n",
       " <Element 'School_Name' at 0x2619baa8d30>,\n",
       " <Element 'School_Name' at 0x2619baac588>,\n",
       " <Element 'School_Name' at 0x2619baacda0>,\n",
       " <Element 'School_Name' at 0x2619baba5f8>,\n",
       " <Element 'School_Name' at 0x2619babae10>,\n",
       " <Element 'School_Name' at 0x2619bab0668>,\n",
       " <Element 'School_Name' at 0x2619bab0e80>,\n",
       " <Element 'School_Name' at 0x2619babd6d8>,\n",
       " <Element 'School_Name' at 0x2619babdef0>,\n",
       " <Element 'School_Name' at 0x2619babc748>,\n",
       " <Element 'School_Name' at 0x2619babcf60>,\n",
       " <Element 'School_Name' at 0x2619ba517b8>,\n",
       " <Element 'School_Name' at 0x2619ba51fd0>,\n",
       " <Element 'School_Name' at 0x2619ba7c828>,\n",
       " <Element 'School_Name' at 0x2619ba77080>,\n",
       " <Element 'School_Name' at 0x2619ba77898>,\n",
       " <Element 'School_Name' at 0x2619ba730f0>,\n",
       " <Element 'School_Name' at 0x2619ba73908>,\n",
       " <Element 'School_Name' at 0x2619ba63160>,\n",
       " <Element 'School_Name' at 0x2619ba639b0>,\n",
       " <Element 'School_Name' at 0x2619ba60208>,\n",
       " <Element 'School_Name' at 0x2619ba60a20>,\n",
       " <Element 'School_Name' at 0x2619ba4a278>,\n",
       " <Element 'School_Name' at 0x2619ba4aa90>,\n",
       " <Element 'School_Name' at 0x2619ba612e8>,\n",
       " <Element 'School_Name' at 0x2619ba61b00>,\n",
       " <Element 'School_Name' at 0x2619ba4f358>,\n",
       " <Element 'School_Name' at 0x2619ba4fb70>,\n",
       " <Element 'School_Name' at 0x2619ba7b3c8>,\n",
       " <Element 'School_Name' at 0x2619ba7bbe0>,\n",
       " <Element 'School_Name' at 0x2619ba40438>,\n",
       " <Element 'School_Name' at 0x2619ba40c50>,\n",
       " <Element 'School_Name' at 0x261a1d084a8>,\n",
       " <Element 'School_Name' at 0x261a1d08cc0>,\n",
       " <Element 'School_Name' at 0x261a1d0c518>,\n",
       " <Element 'School_Name' at 0x261a1d0cd30>,\n",
       " <Element 'School_Name' at 0x261a1d05588>,\n",
       " <Element 'School_Name' at 0x261a1d05da0>,\n",
       " <Element 'School_Name' at 0x261a1cff5f8>,\n",
       " <Element 'School_Name' at 0x261a1cffe10>,\n",
       " <Element 'School_Name' at 0x261a1cfa668>,\n",
       " <Element 'School_Name' at 0x261a1cfae80>,\n",
       " <Element 'School_Name' at 0x261a1cea6d8>,\n",
       " <Element 'School_Name' at 0x261a1ceaef0>,\n",
       " <Element 'School_Name' at 0x261a1cec748>,\n",
       " <Element 'School_Name' at 0x261a1cecf60>,\n",
       " <Element 'School_Name' at 0x261a1cd97b8>,\n",
       " <Element 'School_Name' at 0x261a1cd9fd0>,\n",
       " <Element 'School_Name' at 0x261a1cd4828>,\n",
       " <Element 'School_Name' at 0x261a1ce4080>,\n",
       " <Element 'School_Name' at 0x261a1ce4898>,\n",
       " <Element 'School_Name' at 0x261a1cdb0f0>,\n",
       " <Element 'School_Name' at 0x261a1cdb908>,\n",
       " <Element 'School_Name' at 0x2619ed7b160>,\n",
       " <Element 'School_Name' at 0x2619ed7b978>,\n",
       " <Element 'School_Name' at 0x2619ed451d0>,\n",
       " <Element 'School_Name' at 0x2619ed459e8>,\n",
       " <Element 'School_Name' at 0x2619ed43240>,\n",
       " <Element 'School_Name' at 0x2619ed43a58>,\n",
       " <Element 'School_Name' at 0x2619ed4e2b0>,\n",
       " <Element 'School_Name' at 0x2619ed4eac8>,\n",
       " <Element 'School_Name' at 0x2619ed56320>,\n",
       " <Element 'School_Name' at 0x2619ed56b38>,\n",
       " <Element 'School_Name' at 0x2619ed59390>,\n",
       " <Element 'School_Name' at 0x2619ed59ba8>,\n",
       " <Element 'School_Name' at 0x2619ed69400>,\n",
       " <Element 'School_Name' at 0x2619ed69c18>,\n",
       " <Element 'School_Name' at 0x2619ed67470>,\n",
       " <Element 'School_Name' at 0x2619ed67c88>,\n",
       " <Element 'School_Name' at 0x2619ed614e0>,\n",
       " <Element 'School_Name' at 0x2619ed61cf8>,\n",
       " <Element 'School_Name' at 0x2619ed6e550>,\n",
       " <Element 'School_Name' at 0x2619ed6ed68>,\n",
       " <Element 'School_Name' at 0x2619ed7a5c0>,\n",
       " <Element 'School_Name' at 0x2619ed7add8>,\n",
       " <Element 'School_Name' at 0x2619ed70630>,\n",
       " <Element 'School_Name' at 0x2619ed70e48>,\n",
       " <Element 'School_Name' at 0x2619ccfe6a0>,\n",
       " <Element 'School_Name' at 0x2619ccfeeb8>,\n",
       " <Element 'School_Name' at 0x2619ccee710>,\n",
       " <Element 'School_Name' at 0x2619cceef28>,\n",
       " <Element 'School_Name' at 0x2619ccf2780>,\n",
       " <Element 'School_Name' at 0x2619ccf2f98>,\n",
       " <Element 'School_Name' at 0x2619ccf47f0>,\n",
       " <Element 'School_Name' at 0x2619cce7048>,\n",
       " <Element 'School_Name' at 0x2619cce7860>,\n",
       " <Element 'School_Name' at 0x2619cce00b8>,\n",
       " <Element 'School_Name' at 0x2619cce08d0>,\n",
       " <Element 'School_Name' at 0x2619ccda128>,\n",
       " <Element 'School_Name' at 0x2619ccda940>,\n",
       " <Element 'School_Name' at 0x2619ccdb198>,\n",
       " <Element 'School_Name' at 0x2619ccdb9b0>,\n",
       " <Element 'School_Name' at 0x2619ccce208>,\n",
       " <Element 'School_Name' at 0x2619cccea20>,\n",
       " <Element 'School_Name' at 0x2619ccc1278>,\n",
       " <Element 'School_Name' at 0x2619ccc1a90>,\n",
       " <Element 'School_Name' at 0x2619ccc82e8>,\n",
       " <Element 'School_Name' at 0x2619ccc8b00>,\n",
       " <Element 'School_Name' at 0x2619edbf358>,\n",
       " <Element 'School_Name' at 0x2619edbfb70>,\n",
       " <Element 'School_Name' at 0x2619edb33c8>,\n",
       " <Element 'School_Name' at 0x2619edb3be0>,\n",
       " <Element 'School_Name' at 0x2619edaf438>,\n",
       " <Element 'School_Name' at 0x2619edafc50>,\n",
       " <Element 'School_Name' at 0x2619edab4a8>,\n",
       " <Element 'School_Name' at 0x2619edabcc0>,\n",
       " <Element 'School_Name' at 0x2619edad518>,\n",
       " <Element 'School_Name' at 0x2619edadd30>,\n",
       " <Element 'School_Name' at 0x2619ed9a588>,\n",
       " <Element 'School_Name' at 0x2619ed9ada0>,\n",
       " <Element 'School_Name' at 0x2619eda05f8>,\n",
       " <Element 'School_Name' at 0x2619eda0e10>,\n",
       " <Element 'School_Name' at 0x2619ed89668>,\n",
       " <Element 'School_Name' at 0x2619ed89e80>,\n",
       " <Element 'School_Name' at 0x2619ed986d8>,\n",
       " <Element 'School_Name' at 0x2619ed98ef0>,\n",
       " <Element 'School_Name' at 0x2619ed8b748>,\n",
       " <Element 'School_Name' at 0x2619ed8bf60>,\n",
       " <Element 'School_Name' at 0x2619ed8a7b8>,\n",
       " <Element 'School_Name' at 0x2619ed8afd0>,\n",
       " <Element 'School_Name' at 0x261a1bc0828>,\n",
       " <Element 'School_Name' at 0x261a1bcd080>,\n",
       " <Element 'School_Name' at 0x261a1bcd898>,\n",
       " <Element 'School_Name' at 0x261a1bc60f0>,\n",
       " <Element 'School_Name' at 0x261a1bc6908>,\n",
       " <Element 'School_Name' at 0x261a1bbf160>,\n",
       " <Element 'School_Name' at 0x261a1bbf978>,\n",
       " <Element 'School_Name' at 0x261a1bba1d0>,\n",
       " <Element 'School_Name' at 0x261a1bba9e8>,\n",
       " <Element 'School_Name' at 0x261a1bb4240>,\n",
       " <Element 'School_Name' at 0x261a1bb4a58>,\n",
       " <Element 'School_Name' at 0x261a1bab2b0>,\n",
       " <Element 'School_Name' at 0x261a1babac8>,\n",
       " <Element 'School_Name' at 0x261a1b91320>,\n",
       " <Element 'School_Name' at 0x261a1b91b38>,\n",
       " <Element 'School_Name' at 0x261a1b92390>,\n",
       " <Element 'School_Name' at 0x261a1b92ba8>,\n",
       " <Element 'School_Name' at 0x261a1b9e400>,\n",
       " <Element 'School_Name' at 0x261a1b9ec18>,\n",
       " <Element 'School_Name' at 0x261a1ba6470>,\n",
       " <Element 'School_Name' at 0x261a1ba6c88>,\n",
       " <Element 'School_Name' at 0x261a1ba44e0>,\n",
       " <Element 'School_Name' at 0x261a1ba4cf8>,\n",
       " <Element 'School_Name' at 0x261a1b4e550>,\n",
       " <Element 'School_Name' at 0x261a1b4ed68>,\n",
       " <Element 'School_Name' at 0x261a1b4b5c0>,\n",
       " <Element 'School_Name' at 0x261a1b4bdd8>,\n",
       " <Element 'School_Name' at 0x261a1b43630>,\n",
       " <Element 'School_Name' at 0x261a1b43e48>,\n",
       " <Element 'School_Name' at 0x261a1b3e6a0>,\n",
       " <Element 'School_Name' at 0x261a1b3eeb8>,\n",
       " <Element 'School_Name' at 0x261a1b39710>,\n",
       " <Element 'School_Name' at 0x261a1b39f28>,\n",
       " <Element 'School_Name' at 0x261a1b32780>,\n",
       " <Element 'School_Name' at 0x261a1b32f98>,\n",
       " <Element 'School_Name' at 0x261a1b2f7f0>,\n",
       " <Element 'School_Name' at 0x261a1b2a048>,\n",
       " <Element 'School_Name' at 0x261a1b2a860>,\n",
       " <Element 'School_Name' at 0x261a1b240b8>,\n",
       " <Element 'School_Name' at 0x261a1b248d0>,\n",
       " <Element 'School_Name' at 0x261a1b19128>,\n",
       " <Element 'School_Name' at 0x261a1b19940>,\n",
       " <Element 'School_Name' at 0x261a1b14198>,\n",
       " <Element 'School_Name' at 0x261a1b149b0>,\n",
       " <Element 'School_Name' at 0x261a1c63208>,\n",
       " <Element 'School_Name' at 0x261a1c63a20>,\n",
       " <Element 'School_Name' at 0x261a1c5d278>,\n",
       " <Element 'School_Name' at 0x261a1c5da90>,\n",
       " <Element 'School_Name' at 0x261a1c502e8>,\n",
       " <Element 'School_Name' at 0x261a1c50b00>,\n",
       " <Element 'School_Name' at 0x261a1c53358>,\n",
       " <Element 'School_Name' at 0x261a1c53b70>,\n",
       " <Element 'School_Name' at 0x261a1c6a3c8>,\n",
       " <Element 'School_Name' at 0x261a1c6abe0>,\n",
       " <Element 'School_Name' at 0x261a1c6f438>,\n",
       " <Element 'School_Name' at 0x261a1c6fc50>,\n",
       " <Element 'School_Name' at 0x261a1c754a8>,\n",
       " <Element 'School_Name' at 0x261a1c75cc0>,\n",
       " <Element 'School_Name' at 0x261a1c7c518>,\n",
       " <Element 'School_Name' at 0x261a1c7cd30>,\n",
       " <Element 'School_Name' at 0x261a1c80588>,\n",
       " <Element 'School_Name' at 0x261a1c80da0>,\n",
       " <Element 'School_Name' at 0x261a1c865f8>,\n",
       " <Element 'School_Name' at 0x261a1c86e10>,\n",
       " <Element 'School_Name' at 0x261a1c8b668>,\n",
       " <Element 'School_Name' at 0x261a1c8be80>,\n",
       " <Element 'School_Name' at 0x261a1b546d8>,\n",
       " <Element 'School_Name' at 0x261a1b54ef0>,\n",
       " <Element 'School_Name' at 0x261a1b63748>,\n",
       " <Element 'School_Name' at 0x261a1b63f60>,\n",
       " <Element 'School_Name' at 0x261a1b5a7b8>,\n",
       " <Element 'School_Name' at 0x261a1b5afd0>,\n",
       " <Element 'School_Name' at 0x261a1b65828>,\n",
       " <Element 'School_Name' at 0x261a1b69080>,\n",
       " <Element 'School_Name' at 0x261a1b69898>,\n",
       " <Element 'School_Name' at 0x261a1b700f0>,\n",
       " <Element 'School_Name' at 0x261a1b70908>,\n",
       " <Element 'School_Name' at 0x261a1b75160>,\n",
       " <Element 'School_Name' at 0x261a1b75978>,\n",
       " <Element 'School_Name' at 0x261a1b7c1d0>,\n",
       " <Element 'School_Name' at 0x261a1b7c9e8>,\n",
       " <Element 'School_Name' at 0x261a1b80240>,\n",
       " <Element 'School_Name' at 0x261a1b80a58>,\n",
       " <Element 'School_Name' at 0x261a1b862b0>,\n",
       " <Element 'School_Name' at 0x261a1b86ac8>,\n",
       " <Element 'School_Name' at 0x261a1b8b320>,\n",
       " <Element 'School_Name' at 0x261a1b8bb38>,\n",
       " <Element 'School_Name' at 0x261a1b60390>,\n",
       " <Element 'School_Name' at 0x261a1b60ba8>,\n",
       " <Element 'School_Name' at 0x2619efff400>,\n",
       " <Element 'School_Name' at 0x2619efffc18>,\n",
       " <Element 'School_Name' at 0x2619eff7470>,\n",
       " <Element 'School_Name' at 0x2619eff7c88>,\n",
       " <Element 'School_Name' at 0x2619eff34e0>,\n",
       " <Element 'School_Name' at 0x2619eff3cf8>,\n",
       " <Element 'School_Name' at 0x2619efed588>,\n",
       " <Element 'School_Name' at 0x2619efedda0>,\n",
       " <Element 'School_Name' at 0x2619efe95f8>,\n",
       " <Element 'School_Name' at 0x2619efe9e10>,\n",
       " <Element 'School_Name' at 0x2619efe2668>,\n",
       " <Element 'School_Name' at 0x2619efe2e80>,\n",
       " <Element 'School_Name' at 0x2619efdc6d8>,\n",
       " <Element 'School_Name' at 0x2619efdcef0>,\n",
       " <Element 'School_Name' at 0x2619efd6748>,\n",
       " <Element 'School_Name' at 0x2619efd6f60>,\n",
       " <Element 'School_Name' at 0x2619efd07b8>,\n",
       " <Element 'School_Name' at 0x2619efd0fd0>,\n",
       " <Element 'School_Name' at 0x2619efca828>,\n",
       " <Element 'School_Name' at 0x2619efc5080>,\n",
       " <Element 'School_Name' at 0x2619efc5898>,\n",
       " <Element 'School_Name' at 0x261a078cf28>,\n",
       " <Element 'School_Name' at 0x261a078c710>,\n",
       " <Element 'School_Name' at 0x261a0789160>,\n",
       " <Element 'School_Name' at 0x261a0789978>,\n",
       " <Element 'School_Name' at 0x261a07821d0>,\n",
       " <Element 'School_Name' at 0x261a07829e8>,\n",
       " <Element 'School_Name' at 0x261a077e240>,\n",
       " <Element 'School_Name' at 0x261a077ea58>,\n",
       " <Element 'School_Name' at 0x261a0772d68>,\n",
       " <Element 'School_Name' at 0x261a0772550>,\n",
       " <Element 'School_Name' at 0x261a0771320>,\n",
       " <Element 'School_Name' at 0x261a0771b38>,\n",
       " <Element 'School_Name' at 0x261a076d390>,\n",
       " <Element 'School_Name' at 0x261a076dba8>,\n",
       " <Element 'School_Name' at 0x261a075d400>,\n",
       " <Element 'School_Name' at 0x261a075dc18>,\n",
       " <Element 'School_Name' at 0x261a0761470>,\n",
       " <Element 'School_Name' at 0x261a0761c88>,\n",
       " <Element 'School_Name' at 0x261a075b4e0>,\n",
       " <Element 'School_Name' at 0x261a075bcf8>,\n",
       " <Element 'School_Name' at 0x261a0750ac8>,\n",
       " <Element 'School_Name' at 0x261a07502b0>,\n",
       " <Element 'School_Name' at 0x261a07515c0>,\n",
       " <Element 'School_Name' at 0x261a0751dd8>,\n",
       " <Element 'School_Name' at 0x261a074d630>,\n",
       " <Element 'School_Name' at 0x261a074de48>,\n",
       " <Element 'School_Name' at 0x261a07476a0>,\n",
       " <Element 'School_Name' at 0x261a0747eb8>,\n",
       " <Element 'School_Name' at 0x261a0742710>,\n",
       " <Element 'School_Name' at 0x261a0742f28>,\n",
       " <Element 'School_Name' at 0x261a073c780>,\n",
       " <Element 'School_Name' at 0x261a073cfd0>,\n",
       " <Element 'School_Name' at 0x261a0737828>,\n",
       " <Element 'School_Name' at 0x261a0732080>,\n",
       " <Element 'School_Name' at 0x261a0732898>,\n",
       " <Element 'School_Name' at 0x261a072b0f0>,\n",
       " <Element 'School_Name' at 0x261a072b908>,\n",
       " <Element 'School_Name' at 0x261a0727160>,\n",
       " <Element 'School_Name' at 0x261a0727978>,\n",
       " <Element 'School_Name' at 0x261a07221d0>,\n",
       " <Element 'School_Name' at 0x261a07229e8>,\n",
       " <Element 'School_Name' at 0x261a0714dd8>,\n",
       " <Element 'School_Name' at 0x261a07145c0>,\n",
       " <Element 'School_Name' at 0x261a07122b0>,\n",
       " <Element 'School_Name' at 0x261a0712ac8>,\n",
       " <Element 'School_Name' at 0x261a06cf320>,\n",
       " <Element 'School_Name' at 0x261a06cfb38>,\n",
       " <Element 'School_Name' at 0x261a06ca390>,\n",
       " <Element 'School_Name' at 0x261a06caba8>,\n",
       " <Element 'School_Name' at 0x261a06bec18>,\n",
       " <Element 'School_Name' at 0x261a06be400>,\n",
       " <Element 'School_Name' at 0x261a06b5470>,\n",
       " <Element 'School_Name' at 0x261a06b5c88>,\n",
       " <Element 'School_Name' at 0x261a06b94e0>,\n",
       " <Element 'School_Name' at 0x261a06b9cf8>,\n",
       " <Element 'School_Name' at 0x261a06aeac8>,\n",
       " <Element 'School_Name' at 0x261a06ae2b0>,\n",
       " <Element 'School_Name' at 0x261a06af5c0>,\n",
       " <Element 'School_Name' at 0x261be263198>,\n",
       " <Element 'School_Name' at 0x261edc8dda0>,\n",
       " <Element 'School_Name' at 0x261edc85d30>,\n",
       " <Element 'School_Name' at 0x261edc7dcc0>,\n",
       " <Element 'School_Name' at 0x261edc76c50>,\n",
       " <Element 'School_Name' at 0x261edc6ebe0>,\n",
       " <Element 'School_Name' at 0x261edc67b70>,\n",
       " <Element 'School_Name' at 0x261edc60b00>,\n",
       " <Element 'School_Name' at 0x261edc57a90>,\n",
       " <Element 'School_Name' at 0x261edc50a20>,\n",
       " <Element 'School_Name' at 0x261edc479b0>,\n",
       " <Element 'School_Name' at 0x261edc40940>,\n",
       " <Element 'School_Name' at 0x261edc388d0>,\n",
       " <Element 'School_Name' at 0x261edc31860>,\n",
       " <Element 'School_Name' at 0x261edc2a7f0>,\n",
       " <Element 'School_Name' at 0x261edc22780>,\n",
       " <Element 'School_Name' at 0x261edc1a710>,\n",
       " <Element 'School_Name' at 0x261edc126a0>,\n",
       " <Element 'School_Name' at 0x261edc0b630>,\n",
       " <Element 'School_Name' at 0x261edc025c0>,\n",
       " <Element 'School_Name' at 0x261edbfc550>,\n",
       " <Element 'School_Name' at 0x261edbf44e0>,\n",
       " <Element 'School_Name' at 0x261edbec470>,\n",
       " <Element 'School_Name' at 0x261edbe5400>,\n",
       " <Element 'School_Name' at 0x261edbdc390>,\n",
       " <Element 'School_Name' at 0x261edbd5320>,\n",
       " <Element 'School_Name' at 0x261edbcd2b0>,\n",
       " <Element 'School_Name' at 0x261edbc6240>,\n",
       " <Element 'School_Name' at 0x261edbbe1d0>,\n",
       " <Element 'School_Name' at 0x261edbb7160>,\n",
       " <Element 'School_Name' at 0x261edbaf0f0>,\n",
       " <Element 'School_Name' at 0x261edba7080>,\n",
       " <Element 'School_Name' at 0x261edb97fd0>,\n",
       " <Element 'School_Name' at 0x261edb91f60>,\n",
       " <Element 'School_Name' at 0x261edb89ef0>,\n",
       " <Element 'School_Name' at 0x261edb81e80>,\n",
       " <Element 'School_Name' at 0x261edb79e10>,\n",
       " <Element 'School_Name' at 0x261edb72da0>,\n",
       " <Element 'School_Name' at 0x261edb6ad30>,\n",
       " <Element 'School_Name' at 0x261edb62cc0>,\n",
       " <Element 'School_Name' at 0x261edb5bc50>,\n",
       " <Element 'School_Name' at 0x261edb53be0>,\n",
       " <Element 'School_Name' at 0x261edb4cb70>,\n",
       " <Element 'School_Name' at 0x261edb43b00>,\n",
       " <Element 'School_Name' at 0x261edb3ca90>,\n",
       " <Element 'School_Name' at 0x261f08fa828>,\n",
       " <Element 'School_Name' at 0x261ee712358>,\n",
       " <Element 'School_Name' at 0x261ee70b2e8>,\n",
       " <Element 'School_Name' at 0x261ee703278>,\n",
       " <Element 'School_Name' at 0x261edb2cda0>,\n",
       " <Element 'School_Name' at 0x261f87d2e80>,\n",
       " <Element 'School_Name' at 0x261edb35b70>,\n",
       " <Element 'School_Name' at 0x261a06afc88>,\n",
       " <Element 'School_Name' at 0x261a05c24e0>,\n",
       " <Element 'School_Name' at 0x261a05c2cf8>,\n",
       " <Element 'School_Name' at 0x261a05bf550>,\n",
       " <Element 'School_Name' at 0x261a05bfd68>,\n",
       " <Element 'School_Name' at 0x261a05ba5c0>,\n",
       " <Element 'School_Name' at 0x261a05badd8>,\n",
       " <Element 'School_Name' at 0x261a05b4630>,\n",
       " <Element 'School_Name' at 0x261a05b4e48>,\n",
       " <Element 'School_Name' at 0x261a05ae6a0>,\n",
       " <Element 'School_Name' at 0x261a05aeeb8>,\n",
       " <Element 'School_Name' at 0x261a05a9710>,\n",
       " <Element 'School_Name' at 0x261a05a9f28>,\n",
       " <Element 'School_Name' at 0x261a05a5780>,\n",
       " <Element 'School_Name' at 0x261a05a5f98>,\n",
       " <Element 'School_Name' at 0x261a059f7f0>,\n",
       " <Element 'School_Name' at 0x261a059a048>,\n",
       " <Element 'School_Name' at 0x261a059a860>,\n",
       " <Element 'School_Name' at 0x261a05970b8>,\n",
       " <Element 'School_Name' at 0x261a05978d0>,\n",
       " <Element 'School_Name' at 0x261a0539128>,\n",
       " <Element 'School_Name' at 0x261a0539940>,\n",
       " <Element 'School_Name' at 0x261a054d198>,\n",
       " <Element 'School_Name' at 0x261a054d9b0>,\n",
       " <Element 'School_Name' at 0x261a0548208>,\n",
       " <Element 'School_Name' at 0x261a0548a20>,\n",
       " <Element 'School_Name' at 0x261a0542278>,\n",
       " <Element 'School_Name' at 0x261a0542a90>,\n",
       " <Element 'School_Name' at 0x261a05342e8>,\n",
       " <Element 'School_Name' at 0x261a0534b00>,\n",
       " <Element 'School_Name' at 0x261a0537358>,\n",
       " <Element 'School_Name' at 0x261a0537b70>,\n",
       " <Element 'School_Name' at 0x261a05283c8>,\n",
       " <Element 'School_Name' at 0x261a0528be0>,\n",
       " <Element 'School_Name' at 0x261a052d438>,\n",
       " <Element 'School_Name' at 0x261a052dc50>,\n",
       " <Element 'School_Name' at 0x261a05274a8>,\n",
       " <Element 'School_Name' at 0x261a0527cc0>,\n",
       " <Element 'School_Name' at 0x261a0524518>,\n",
       " <Element 'School_Name' at 0x261a0524d30>,\n",
       " <Element 'School_Name' at 0x261a051f588>,\n",
       " <Element 'School_Name' at 0x261a051fda0>,\n",
       " <Element 'School_Name' at 0x261a05195f8>,\n",
       " <Element 'School_Name' at 0x261a0519e10>,\n",
       " <Element 'School_Name' at 0x261a0515668>,\n",
       " <Element 'School_Name' at 0x261a0515e80>,\n",
       " <Element 'School_Name' at 0x261a04c16d8>,\n",
       " <Element 'School_Name' at 0x261a04c1ef0>,\n",
       " <Element 'School_Name' at 0x261a04cc748>,\n",
       " <Element 'School_Name' at 0x261a04ccf60>,\n",
       " <Element 'School_Name' at 0x261a04c67b8>,\n",
       " <Element 'School_Name' at 0x261a04c6fd0>,\n",
       " <Element 'School_Name' at 0x261a04c0828>,\n",
       " <Element 'School_Name' at 0x261a04b4f98>,\n",
       " <Element 'School_Name' at 0x261a04b4780>,\n",
       " <Element 'School_Name' at 0x261a04b30f0>,\n",
       " <Element 'School_Name' at 0x261a04b3908>,\n",
       " <Element 'School_Name' at 0x261a04a4160>,\n",
       " <Element 'School_Name' at 0x261a04a4978>,\n",
       " <Element 'School_Name' at 0x261a04a2e48>,\n",
       " <Element 'School_Name' at 0x261a04a2630>,\n",
       " <Element 'School_Name' at 0x261a04a3240>,\n",
       " <Element 'School_Name' at 0x261a04a3a58>,\n",
       " <Element 'School_Name' at 0x261a049e2b0>,\n",
       " <Element 'School_Name' at 0x261a049eac8>,\n",
       " <Element 'School_Name' at 0x261a0499320>,\n",
       " <Element 'School_Name' at 0x261a0499b38>,\n",
       " <Element 'School_Name' at 0x261a0491390>,\n",
       " <Element 'School_Name' at 0x261a0491ba8>,\n",
       " <Element 'School_Name' at 0x261a0443438>,\n",
       " <Element 'School_Name' at 0x261a0443c50>,\n",
       " <Element 'School_Name' at 0x261a04484a8>,\n",
       " <Element 'School_Name' at 0x261a0448cc0>,\n",
       " <Element 'School_Name' at 0x261a0441518>,\n",
       " <Element 'School_Name' at 0x261a0441d30>,\n",
       " <Element 'School_Name' at 0x261a043d588>,\n",
       " <Element 'School_Name' at 0x261a043dda0>,\n",
       " <Element 'School_Name' at 0x261a04375f8>,\n",
       " <Element 'School_Name' at 0x261a0437e10>,\n",
       " <Element 'School_Name' at 0x261a0431668>,\n",
       " <Element 'School_Name' at 0x261a0431e80>,\n",
       " <Element 'School_Name' at 0x261a042b6d8>,\n",
       " <Element 'School_Name' at 0x261a042bef0>,\n",
       " <Element 'School_Name' at 0x261a0427748>,\n",
       " <Element 'School_Name' at 0x261a0427f60>,\n",
       " <Element 'School_Name' at 0x261a04217b8>,\n",
       " <Element 'School_Name' at 0x261a0421fd0>,\n",
       " <Element 'School_Name' at 0x261a041b828>,\n",
       " <Element 'School_Name' at 0x261a0416080>,\n",
       " <Element 'School_Name' at 0x261a0416898>,\n",
       " <Element 'School_Name' at 0x261a03d3128>,\n",
       " <Element 'School_Name' at 0x261a03d3940>,\n",
       " <Element 'School_Name' at 0x261a040b198>,\n",
       " <Element 'School_Name' at 0x261a040b9b0>,\n",
       " <Element 'School_Name' at 0x261a0400e10>,\n",
       " <Element 'School_Name' at 0x261a04005f8>,\n",
       " <Element 'School_Name' at 0x261a0401278>,\n",
       " <Element 'School_Name' at 0x261a0401a90>,\n",
       " <Element 'School_Name' at 0x261a03fb2e8>,\n",
       " <Element 'School_Name' at 0x261a03fbb00>,\n",
       " <Element 'School_Name' at 0x261a03f5358>,\n",
       " <Element 'School_Name' at 0x261a03f5b70>,\n",
       " <Element 'School_Name' at 0x261a03ef3c8>,\n",
       " <Element 'School_Name' at 0x261a03efbe0>,\n",
       " <Element 'School_Name' at 0x261a03ea438>,\n",
       " <Element 'School_Name' at 0x261a03eac50>,\n",
       " <Element 'School_Name' at 0x261a03deb70>,\n",
       " <Element 'School_Name' at 0x261a03de358>,\n",
       " <Element 'School_Name' at 0x261a03e0518>,\n",
       " <Element 'School_Name' at 0x261a03e0d30>,\n",
       " <Element 'School_Name' at 0x261a03da588>,\n",
       " <Element 'School_Name' at 0x261a03dada0>,\n",
       " <Element 'School_Name' at 0x261a03d05f8>,\n",
       " <Element 'School_Name' at 0x261a03d0e10>,\n",
       " <Element 'School_Name' at 0x261a03889b0>,\n",
       " <Element 'School_Name' at 0x261a0388198>,\n",
       " <Element 'School_Name' at 0x261a03896d8>,\n",
       " <Element 'School_Name' at 0x261a0389ef0>,\n",
       " <Element 'School_Name' at 0x261a0382748>,\n",
       " <Element 'School_Name' at 0x261a0382f60>,\n",
       " <Element 'School_Name' at 0x261a0376860>,\n",
       " <Element 'School_Name' at 0x261a0376048>,\n",
       " <Element 'School_Name' at 0x261a0375828>,\n",
       " <Element 'School_Name' at 0x261a0372080>,\n",
       " <Element 'School_Name' at 0x261a0372898>,\n",
       " <Element 'School_Name' at 0x261a036c0f0>,\n",
       " <Element 'School_Name' at 0x261a036c908>,\n",
       " <Element 'School_Name' at 0x261a0368160>,\n",
       " <Element 'School_Name' at 0x261a0368978>,\n",
       " <Element 'School_Name' at 0x261a03621d0>,\n",
       " <Element 'School_Name' at 0x261a03629e8>,\n",
       " <Element 'School_Name' at 0x261a035a240>,\n",
       " <Element 'School_Name' at 0x261a035aa58>,\n",
       " <Element 'School_Name' at 0x261a03542b0>,\n",
       " <Element 'School_Name' at 0x261a0354ac8>,\n",
       " <Element 'School_Name' at 0x261a030f320>,\n",
       " <Element 'School_Name' at 0x261a030fb38>,\n",
       " <Element 'School_Name' at 0x261a030c390>,\n",
       " <Element 'School_Name' at 0x261a030cba8>,\n",
       " <Element 'School_Name' at 0x261a0305400>,\n",
       " <Element 'School_Name' at 0x261a0305c18>,\n",
       " <Element 'School_Name' at 0x261a02ff470>,\n",
       " <Element 'School_Name' at 0x261a02ffc88>,\n",
       " <Element 'School_Name' at 0x261a02fb4e0>,\n",
       " <Element 'School_Name' at 0x261a02fbcf8>,\n",
       " <Element 'School_Name' at 0x261a02f4550>,\n",
       " <Element 'School_Name' at 0x261a02f4d68>,\n",
       " <Element 'School_Name' at 0x261a02f05c0>,\n",
       " <Element 'School_Name' at 0x261a02f0dd8>,\n",
       " <Element 'School_Name' at 0x261a02ea630>,\n",
       " <Element 'School_Name' at 0x261a02eae48>,\n",
       " <Element 'School_Name' at 0x261a02e26a0>,\n",
       " <Element 'School_Name' at 0x261a02e2eb8>,\n",
       " <Element 'School_Name' at 0x261a02da710>,\n",
       " <Element 'School_Name' at 0x261a02daf28>,\n",
       " <Element 'School_Name' at 0x261a02d6780>,\n",
       " <Element 'School_Name' at 0x261a02d6f98>,\n",
       " <Element 'School_Name' at 0x261a02d0828>,\n",
       " <Element 'School_Name' at 0x261a0286f98>,\n",
       " <Element 'School_Name' at 0x261a0286780>,\n",
       " <Element 'School_Name' at 0x261a02890f0>,\n",
       " <Element 'School_Name' at 0x261a0289908>,\n",
       " <Element 'School_Name' at 0x261a0283160>,\n",
       " <Element 'School_Name' at 0x261a0283978>,\n",
       " <Element 'School_Name' at 0x261a027c1d0>,\n",
       " <Element 'School_Name' at 0x261a027c9e8>,\n",
       " <Element 'School_Name' at 0x261a026f240>,\n",
       " <Element 'School_Name' at 0x261a026fa58>,\n",
       " <Element 'School_Name' at 0x261a02722b0>,\n",
       " <Element 'School_Name' at 0x261a0272ac8>,\n",
       " <Element 'School_Name' at 0x261a0265cf8>,\n",
       " <Element 'School_Name' at 0x261a02654e0>,\n",
       " <Element 'School_Name' at 0x261a0264390>,\n",
       " <Element 'School_Name' at 0x261a0264ba8>,\n",
       " <Element 'School_Name' at 0x261a0257400>,\n",
       " <Element 'School_Name' at 0x261a0257c18>,\n",
       " <Element 'School_Name' at 0x261a025a470>,\n",
       " <Element 'School_Name' at 0x261a025ac88>,\n",
       " <Element 'School_Name' at 0x261a02514e0>,\n",
       " <Element 'School_Name' at 0x261a0251cf8>,\n",
       " <Element 'School_Name' at 0x261a01bd550>,\n",
       " <Element 'School_Name' at 0x261a01bdd68>,\n",
       " <Element 'School_Name' at 0x261a01b95c0>,\n",
       " <Element 'School_Name' at 0x261a01b9dd8>,\n",
       " <Element 'School_Name' at 0x261a01b2630>,\n",
       " <Element 'School_Name' at 0x261a01b2e48>,\n",
       " <Element 'School_Name' at 0x261a01af6a0>,\n",
       " <Element 'School_Name' at 0x261a01afeb8>,\n",
       " <Element 'School_Name' at 0x261a01a9710>,\n",
       " <Element 'School_Name' at 0x261a01a9f28>,\n",
       " <Element 'School_Name' at 0x261a01a2780>,\n",
       " <Element 'School_Name' at 0x261a01a2f98>,\n",
       " <Element 'School_Name' at 0x261a019b7f0>,\n",
       " <Element 'School_Name' at 0x261a0196048>,\n",
       " <Element 'School_Name' at 0x261a0196898>,\n",
       " <Element 'School_Name' at 0x261a01910f0>,\n",
       " <Element 'School_Name' at 0x261a0191908>,\n",
       " <Element 'School_Name' at 0x261a018c160>,\n",
       " <Element 'School_Name' at 0x261a018c978>,\n",
       " <Element 'School_Name' at 0x261a01871d0>,\n",
       " <Element 'School_Name' at 0x261a01879e8>,\n",
       " <Element 'School_Name' at 0x261a0131240>,\n",
       " <Element 'School_Name' at 0x261a0131a58>,\n",
       " <Element 'School_Name' at 0x261a0136d68>,\n",
       " <Element 'School_Name' at 0x261a0136550>,\n",
       " <Element 'School_Name' at 0x261a0137320>,\n",
       " <Element 'School_Name' at 0x261a0137b38>,\n",
       " <Element 'School_Name' at 0x261a012e390>,\n",
       " <Element 'School_Name' at 0x261a012eba8>,\n",
       " <Element 'School_Name' at 0x261a0125c18>,\n",
       " <Element 'School_Name' at 0x261a0125400>,\n",
       " <Element 'School_Name' at 0x261a0123470>,\n",
       " <Element 'School_Name' at 0x261a0123c88>,\n",
       " <Element 'School_Name' at 0x261a011f4e0>,\n",
       " <Element 'School_Name' at 0x261a011fcf8>,\n",
       " <Element 'School_Name' at 0x261a0113ac8>,\n",
       " <Element 'School_Name' at 0x261a01132b0>,\n",
       " <Element 'School_Name' at 0x261a01125c0>,\n",
       " <Element 'School_Name' at 0x261a0112dd8>,\n",
       " <Element 'School_Name' at 0x261a010e630>,\n",
       " <Element 'School_Name' at 0x261a010ee48>,\n",
       " <Element 'School_Name' at 0x261a0102978>,\n",
       " <Element 'School_Name' at 0x261a0102160>,\n",
       " <Element 'School_Name' at 0x261a0103710>,\n",
       " <Element 'School_Name' at 0x261a0103f28>,\n",
       " <Element 'School_Name' at 0x261a00bf780>,\n",
       " <Element 'School_Name' at 0x261a00bff98>,\n",
       " <Element 'School_Name' at 0x261a00b67f0>,\n",
       " <Element 'School_Name' at 0x261a00b2048>,\n",
       " <Element 'School_Name' at 0x261a00b2860>,\n",
       " <Element 'School_Name' at 0x261a00ab0b8>,\n",
       " <Element 'School_Name' at 0x261a00ab8d0>,\n",
       " <Element 'School_Name' at 0x261a00a7128>,\n",
       " <Element 'School_Name' at 0x261a00a7940>,\n",
       " <Element 'School_Name' at 0x261a009be80>,\n",
       " <Element 'School_Name' at 0x261a009b668>,\n",
       " <Element 'School_Name' at 0x261a0091208>,\n",
       " <Element 'School_Name' at 0x261a0091a20>,\n",
       " <Element 'School_Name' at 0x261a0097278>,\n",
       " <Element 'School_Name' at 0x261a0097a90>,\n",
       " <Element 'School_Name' at 0x261a008ad30>,\n",
       " <Element 'School_Name' at 0x261a008a518>,\n",
       " <Element 'School_Name' at 0x261a008b358>,\n",
       " <Element 'School_Name' at 0x261a008bb70>,\n",
       " <Element 'School_Name' at 0x261a00843c8>,\n",
       " <Element 'School_Name' at 0x261a0084be0>,\n",
       " <Element 'School_Name' at 0x261a007b438>,\n",
       " <Element 'School_Name' at 0x261a007bc50>,\n",
       " <Element 'School_Name' at 0x261a007c4a8>,\n",
       " <Element 'School_Name' at 0x261a007ccc0>,\n",
       " <Element 'School_Name' at 0x261a0071b00>,\n",
       " <Element 'School_Name' at 0x261a00712e8>,\n",
       " <Element 'School_Name' at 0x261a0072588>,\n",
       " <Element 'School_Name' at 0x261a0072da0>,\n",
       " <Element 'School_Name' at 0x261a006b5f8>,\n",
       " <Element 'School_Name' at 0x261a006be10>,\n",
       " <Element 'School_Name' at 0x261a0064668>,\n",
       " <Element 'School_Name' at 0x261a0064e80>,\n",
       " <Element 'School_Name' at 0x261a00556d8>,\n",
       " <Element 'School_Name' at 0x261a0055ef0>,\n",
       " <Element 'School_Name' at 0x261a005a748>,\n",
       " <Element 'School_Name' at 0x261a005af60>,\n",
       " <Element 'School_Name' at 0x261a004e860>,\n",
       " <Element 'School_Name' at 0x261a004e048>,\n",
       " <Element 'School_Name' at 0x261a0050828>,\n",
       " <Element 'School_Name' at 0x261a0048080>,\n",
       " <Element 'School_Name' at 0x261a0048898>,\n",
       " <Element 'School_Name' at 0x261a0040128>,\n",
       " <Element 'School_Name' at 0x261a0040940>,\n",
       " <Element 'School_Name' at 0x2619fff9e80>,\n",
       " <Element 'School_Name' at 0x2619fff9668>,\n",
       " <Element 'School_Name' at 0x2619fff7208>,\n",
       " <Element 'School_Name' at 0x2619fff7a20>,\n",
       " <Element 'School_Name' at 0x2619fff2278>,\n",
       " <Element 'School_Name' at 0x2619fff2a90>,\n",
       " <Element 'School_Name' at 0x2619ffe7d30>,\n",
       " <Element 'School_Name' at 0x2619ffe7518>,\n",
       " <Element 'School_Name' at 0x2619ffdd358>,\n",
       " <Element 'School_Name' at 0x2619ffddb70>,\n",
       " <Element 'School_Name' at 0x2619ffe23c8>,\n",
       " <Element 'School_Name' at 0x2619ffe2be0>,\n",
       " <Element 'School_Name' at 0x2619ffd6be0>,\n",
       " <Element 'School_Name' at 0x2619ffd63c8>,\n",
       " <Element 'School_Name' at 0x2619ffd74a8>,\n",
       " <Element 'School_Name' at 0x2619ffd7cc0>,\n",
       " <Element 'School_Name' at 0x2619ffd1518>,\n",
       " <Element 'School_Name' at 0x2619ffd1d30>,\n",
       " <Element 'School_Name' at 0x2619ffcc588>,\n",
       " <Element 'School_Name' at 0x2619ffccda0>,\n",
       " <Element 'School_Name' at 0x2619ffc35f8>,\n",
       " <Element 'School_Name' at 0x2619ffc3e10>,\n",
       " <Element 'School_Name' at 0x2619ff7e668>,\n",
       " <Element 'School_Name' at 0x2619ff7ee80>,\n",
       " <Element 'School_Name' at 0x2619ff726d8>,\n",
       " <Element 'School_Name' at 0x2619ff72ef0>,\n",
       " <Element 'School_Name' at 0x2619ff6f8d0>,\n",
       " <Element 'School_Name' at 0x2619ff6f0b8>,\n",
       " <Element 'School_Name' at 0x2619ff657b8>,\n",
       " <Element 'School_Name' at 0x2619ff65fd0>,\n",
       " <Element 'School_Name' at 0x2619ff6b828>,\n",
       " <Element 'School_Name' at 0x2619ff64080>,\n",
       " <Element 'School_Name' at 0x2619ff64898>,\n",
       " <Element 'School_Name' at 0x2619ff5f0f0>,\n",
       " <Element 'School_Name' at 0x2619ff5f908>,\n",
       " <Element 'School_Name' at 0x2619ff5a160>,\n",
       " <Element 'School_Name' at 0x2619ff5a978>,\n",
       " <Element 'School_Name' at 0x2619ff521d0>,\n",
       " <Element 'School_Name' at 0x2619ff529e8>,\n",
       " <Element 'School_Name' at 0x2619ff41240>,\n",
       " <Element 'School_Name' at 0x2619ff41a58>,\n",
       " <Element 'School_Name' at 0x2619ff472b0>,\n",
       " <Element 'School_Name' at 0x2619ff47ac8>,\n",
       " <Element 'School_Name' at 0x2619ff40320>,\n",
       " <Element 'School_Name' at 0x2619ff40b38>,\n",
       " <Element 'School_Name' at 0x2619fef7c88>,\n",
       " <Element 'School_Name' at 0x2619fef7470>,\n",
       " <Element 'School_Name' at 0x2619fef6400>,\n",
       " <Element 'School_Name' at 0x2619fef6c18>,\n",
       " <Element 'School_Name' at 0x2619fef1470>,\n",
       " <Element 'School_Name' at 0x2619fef1c88>,\n",
       " <Element 'School_Name' at 0x2619feeb4e0>,\n",
       " <Element 'School_Name' at 0x2619feebcf8>,\n",
       " <Element 'School_Name' at 0x2619fee7550>,\n",
       " <Element 'School_Name' at 0x2619fee7d68>,\n",
       " <Element 'School_Name' at 0x2619fee25c0>,\n",
       " <Element 'School_Name' at 0x2619fee2dd8>,\n",
       " <Element 'School_Name' at 0x2619feda630>,\n",
       " <Element 'School_Name' at 0x2619fedae48>,\n",
       " <Element 'School_Name' at 0x2619fec96a0>,\n",
       " <Element 'School_Name' at 0x2619fec9eb8>,\n",
       " <Element 'School_Name' at 0x2619fecf710>,\n",
       " <Element 'School_Name' at 0x2619fecff28>,\n",
       " <Element 'School_Name' at 0x2619fec8780>,\n",
       " <Element 'School_Name' at 0x2619fec8f98>,\n",
       " <Element 'School_Name' at 0x2619fec17f0>,\n",
       " <Element 'School_Name' at 0x2619fe75048>,\n",
       " <Element 'School_Name' at 0x2619fe75860>,\n",
       " <Element 'School_Name' at 0x2619fe790b8>,\n",
       " <Element 'School_Name' at 0x2619fe798d0>,\n",
       " <Element 'School_Name' at 0x2619fe73128>,\n",
       " <Element 'School_Name' at 0x2619fe73940>,\n",
       " <Element 'School_Name' at 0x2619fe6d198>,\n",
       " <Element 'School_Name' at 0x2619fe6d9b0>,\n",
       " <Element 'School_Name' at 0x2619fe68208>,\n",
       " <Element 'School_Name' at 0x2619fe68a20>,\n",
       " <Element 'School_Name' at 0x2619fe61278>,\n",
       " <Element 'School_Name' at 0x2619fe61a90>,\n",
       " <Element 'School_Name' at 0x2619fe5b2e8>,\n",
       " <Element 'School_Name' at 0x2619fe5bb00>,\n",
       " <Element 'School_Name' at 0x2619fe57358>,\n",
       " <Element 'School_Name' at 0x2619fe57b70>,\n",
       " <Element 'School_Name' at 0x2619fe503c8>,\n",
       " <Element 'School_Name' at 0x2619fe50be0>,\n",
       " <Element 'School_Name' at 0x2619fe4b438>,\n",
       " <Element 'School_Name' at 0x2619fe4bc50>,\n",
       " <Element 'School_Name' at 0x2619fe464a8>,\n",
       " <Element 'School_Name' at 0x2619fe46cc0>,\n",
       " <Element 'School_Name' at 0x2619fded518>,\n",
       " <Element 'School_Name' at 0x2619fdedd30>,\n",
       " <Element 'School_Name' at 0x2619fdf6a90>,\n",
       " <Element 'School_Name' at 0x2619fdf6278>,\n",
       " <Element 'School_Name' at 0x2619fdf75f8>,\n",
       " <Element 'School_Name' at 0x2619fdf7e10>,\n",
       " <Element 'School_Name' at 0x2619fdf2668>,\n",
       " <Element 'School_Name' at 0x2619fdf2e80>,\n",
       " <Element 'School_Name' at 0x2619fdea6d8>,\n",
       " <Element 'School_Name' at 0x2619fdeaef0>,\n",
       " <Element 'School_Name' at 0x2619fde2748>,\n",
       " <Element 'School_Name' at 0x2619fde2f60>,\n",
       " <Element 'School_Name' at 0x2619fdde7b8>,\n",
       " <Element 'School_Name' at 0x2619fddefd0>,\n",
       " <Element 'School_Name' at 0x2619fdd9828>,\n",
       " <Element 'School_Name' at 0x2619fdd3080>,\n",
       " <Element 'School_Name' at 0x2619fdd3898>,\n",
       " <Element 'School_Name' at 0x2619fdce0f0>,\n",
       " <Element 'School_Name' at 0x2619fdce908>,\n",
       " <Element 'School_Name' at 0x2619fdc9160>,\n",
       " <Element 'School_Name' at 0x2619fdc9978>,\n",
       " <Element 'School_Name' at 0x2619fdc21d0>,\n",
       " <Element 'School_Name' at 0x2619fdc29e8>,\n",
       " <Element 'School_Name' at 0x2619fd7d240>,\n",
       " <Element 'School_Name' at 0x2619fd7da58>,\n",
       " <Element 'School_Name' at 0x2619fd7a2b0>,\n",
       " <Element 'School_Name' at 0x2619fd7aac8>,\n",
       " ...]"
      ]
     },
     "execution_count": 82,
     "metadata": {},
     "output_type": "execute_result"
    }
   ],
   "source": [
    "elements = tree.findall('./school/School_Name')   # finding the attribute of the root\n",
    "elements"
   ]
  },
  {
   "cell_type": "markdown",
   "metadata": {},
   "source": [
    "### Extracting School_Name, School_Type, Y(Lat) And X(Lon)"
   ]
  },
  {
   "cell_type": "code",
   "execution_count": 83,
   "metadata": {},
   "outputs": [
    {
     "name": "stdout",
     "output_type": "stream",
     "text": [
      "['Alberton Primary School', 'Allansford and District Primary School', 'Avoca Primary School', 'Avenel Primary School', 'Warrandyte Primary School', 'Belmont Primary School', 'Bacchus Marsh Primary School', 'Ballarat Primary School (Dana Street)', 'Wodonga Primary School', 'Berwick Primary School']\n"
     ]
    }
   ],
   "source": [
    "# extracting school names from the xml file\n",
    "school_name = [] \n",
    "for elem in tree.iter(tag = 'School_Name'):\n",
    "    school_name.append(elem.text) \n",
    "print(school_name[:10])"
   ]
  },
  {
   "cell_type": "code",
   "execution_count": 84,
   "metadata": {},
   "outputs": [
    {
     "name": "stdout",
     "output_type": "stream",
     "text": [
      "['Primary', 'Primary', 'Primary', 'Primary', 'Primary', 'Primary', 'Primary', 'Primary', 'Primary', 'Primary']\n"
     ]
    }
   ],
   "source": [
    "# extracting school_type from the xml file\n",
    "school_type = [] \n",
    "for elem in tree.iter(tag='School_Type'):\n",
    "       school_type.append(elem.text) \n",
    "print(school_type[:10])"
   ]
  },
  {
   "cell_type": "code",
   "execution_count": 85,
   "metadata": {},
   "outputs": [
    {
     "name": "stdout",
     "output_type": "stream",
     "text": [
      "['146.666601', '142.590393', '143.475649', '145.234722', '145.21398', '144.342099', '144.4431207', '143.853936', '146.88982', '145.354417']\n"
     ]
    }
   ],
   "source": [
    "# extracting longitude from the xml file\n",
    "longitude = []\n",
    "for elem in tree.iter(tag='X'):\n",
    "       longitude.append(elem.text) \n",
    "print(longitude[:10])"
   ]
  },
  {
   "cell_type": "code",
   "execution_count": 86,
   "metadata": {},
   "outputs": [
    {
     "name": "stdout",
     "output_type": "stream",
     "text": [
      "['-38.617713', '-38.386281', '-37.084502', '-36.901368', '-37.742675', '-38.170672', '-37.67302961', '-37.56401278', '-36.129214', '-38.044094']\n"
     ]
    }
   ],
   "source": [
    "# extracting latitude from the xml file\n",
    "latitude = []\n",
    "for elem in tree.iter(tag='Y'):\n",
    "       latitude.append(elem.text) \n",
    "print(latitude[:10])"
   ]
  },
  {
   "cell_type": "markdown",
   "metadata": {},
   "source": [
    "Storing in a dataframe "
   ]
  },
  {
   "cell_type": "code",
   "execution_count": 87,
   "metadata": {},
   "outputs": [
    {
     "data": {
      "text/html": [
       "<div>\n",
       "<style scoped>\n",
       "    .dataframe tbody tr th:only-of-type {\n",
       "        vertical-align: middle;\n",
       "    }\n",
       "\n",
       "    .dataframe tbody tr th {\n",
       "        vertical-align: top;\n",
       "    }\n",
       "\n",
       "    .dataframe thead th {\n",
       "        text-align: right;\n",
       "    }\n",
       "</style>\n",
       "<table border=\"1\" class=\"dataframe\">\n",
       "  <thead>\n",
       "    <tr style=\"text-align: right;\">\n",
       "      <th></th>\n",
       "      <th>School_Name</th>\n",
       "      <th>School_Type</th>\n",
       "      <th>Latitude</th>\n",
       "      <th>Longitude</th>\n",
       "    </tr>\n",
       "  </thead>\n",
       "  <tbody>\n",
       "    <tr>\n",
       "      <td>0</td>\n",
       "      <td>Alberton Primary School</td>\n",
       "      <td>Primary</td>\n",
       "      <td>-38.617713</td>\n",
       "      <td>146.666601</td>\n",
       "    </tr>\n",
       "    <tr>\n",
       "      <td>1</td>\n",
       "      <td>Allansford and District Primary School</td>\n",
       "      <td>Primary</td>\n",
       "      <td>-38.386281</td>\n",
       "      <td>142.590393</td>\n",
       "    </tr>\n",
       "    <tr>\n",
       "      <td>2</td>\n",
       "      <td>Avoca Primary School</td>\n",
       "      <td>Primary</td>\n",
       "      <td>-37.084502</td>\n",
       "      <td>143.475649</td>\n",
       "    </tr>\n",
       "    <tr>\n",
       "      <td>3</td>\n",
       "      <td>Avenel Primary School</td>\n",
       "      <td>Primary</td>\n",
       "      <td>-36.901368</td>\n",
       "      <td>145.234722</td>\n",
       "    </tr>\n",
       "    <tr>\n",
       "      <td>4</td>\n",
       "      <td>Warrandyte Primary School</td>\n",
       "      <td>Primary</td>\n",
       "      <td>-37.742675</td>\n",
       "      <td>145.21398</td>\n",
       "    </tr>\n",
       "  </tbody>\n",
       "</table>\n",
       "</div>"
      ],
      "text/plain": [
       "                              School_Name School_Type    Latitude   Longitude\n",
       "0                 Alberton Primary School     Primary  -38.617713  146.666601\n",
       "1  Allansford and District Primary School     Primary  -38.386281  142.590393\n",
       "2                    Avoca Primary School     Primary  -37.084502  143.475649\n",
       "3                   Avenel Primary School     Primary  -36.901368  145.234722\n",
       "4               Warrandyte Primary School     Primary  -37.742675   145.21398"
      ]
     },
     "execution_count": 87,
     "metadata": {},
     "output_type": "execute_result"
    }
   ],
   "source": [
    "# storing all the above obtained values to dictionary\n",
    "schoolDict = {}\n",
    "schoolDict['School_Name'] = school_name\n",
    "schoolDict['School_Type'] = school_type\n",
    "schoolDict['Latitude'] = latitude\n",
    "schoolDict['Longitude'] = longitude\n",
    "# writing dictionary to dataframe\n",
    "school_df = pd.DataFrame(schoolDict)\n",
    "school_df.head()"
   ]
  },
  {
   "cell_type": "markdown",
   "metadata": {},
   "source": [
    "Now we calculate nearest primary school name and direct distance between the property and the closest school."
   ]
  },
  {
   "cell_type": "code",
   "execution_count": 88,
   "metadata": {},
   "outputs": [
    {
     "data": {
      "text/plain": [
       "Primary      1556\n",
       "Secondary     343\n",
       "Pri/Sec       243\n",
       "Special       108\n",
       "Language        4\n",
       "Name: School_Type, dtype: int64"
      ]
     },
     "execution_count": 88,
     "metadata": {},
     "output_type": "execute_result"
    }
   ],
   "source": [
    "school_df['School_Type'].value_counts()"
   ]
  },
  {
   "cell_type": "markdown",
   "metadata": {},
   "source": [
    "Generating a two dataframes, for primary and secondary school types."
   ]
  },
  {
   "cell_type": "code",
   "execution_count": 89,
   "metadata": {},
   "outputs": [],
   "source": [
    "primary_schools = school_df[(school_df['School_Type'] == 'Primary') | (school_df['School_Type'] == 'Pri/Sec')]\n",
    "secondary_schools = school_df[(school_df['School_Type'] == 'Secondary') | (school_df['School_Type'] == 'Pri/Sec')]"
   ]
  },
  {
   "cell_type": "markdown",
   "metadata": {},
   "source": [
    "A funtion is defined to extract the nearest_primary and nearest_secondary school for each property in our dataframe. Each row is will generate all primary schools distances and sort the obtained dataframe with distances and get the nearest distance."
   ]
  },
  {
   "cell_type": "code",
   "execution_count": 90,
   "metadata": {},
   "outputs": [],
   "source": [
    "def nearby_school(data, type_school):\n",
    "    lat = data['Lattitude']\n",
    "    lon = data['Longtitude']\n",
    "    # school type is primary or Pri/Sec\n",
    "    if type_school == 'Primary':\n",
    "        school_distances = primary_schools.apply(lambda x: (distance_cal(lat, lon, float(x['Latitude']), float(x['Longitude'])),x['School_Name'], x['School_Type']), axis = 1)\n",
    "    \n",
    "        distance_school = pd.DataFrame(list(school_distances), columns=['distances','School_Name','School_Type']).sort_values(by='distances')\n",
    "    \n",
    "        distance_school = distance_school.reset_index()\n",
    "        distance_school = distance_school.drop(['index'],axis=1)\n",
    "        return (distance_school['School_Name'][0], distance_school['School_Type'][0], distance_school['distances'][0])\n",
    "    \n",
    "    # school type is secondary or Pri/Sec\n",
    "    else:\n",
    "        school_distance_second = secondary_schools.apply(lambda x: (distance_cal(lat, lon, float(x['Latitude']), float(x['Longitude'])),x['School_Name'], x['School_Type']), axis = 1)\n",
    "    \n",
    "        distance_secondary = pd.DataFrame(list(school_distance_second), columns=['distances','School_Name','School_Type']).sort_values(by='distances')\n",
    "    \n",
    "        distance_secondary = distance_secondary.reset_index()\n",
    "        distance_secondary = distance_secondary.drop(['index'],axis=1)\n",
    "        return (distance_secondary['School_Name'][0], distance_secondary['School_Type'][0], distance_secondary['distances'][0])\n",
    "        \n",
    "        "
   ]
  },
  {
   "cell_type": "code",
   "execution_count": 91,
   "metadata": {},
   "outputs": [],
   "source": [
    "# calling nearby_school function (to find the primary and secondary schools)\n",
    "df['Name, Primary & Distance'] = df.apply(lambda x: nearby_school(x, 'Primary'), axis = 1)\n",
    "df['Name, Secondary & Distance'] = df.apply(lambda x: nearby_school(x, 'Secondary'), axis = 1)\n"
   ]
  },
  {
   "cell_type": "code",
   "execution_count": 92,
   "metadata": {},
   "outputs": [],
   "source": [
    "# creating three columns closest_primary_school, school_type and distance to school\n",
    "df['closest_primary_school'] = df.apply(lambda x: x['Name, Primary & Distance'][0], axis=1)\n",
    "df['School_Type_P'] = df.apply(lambda x: x['Name, Primary & Distance'][1], axis=1)\n",
    "df['distance_to_closest_primary'] = df.apply(lambda x: x['Name, Primary & Distance'][2], axis=1)"
   ]
  },
  {
   "cell_type": "code",
   "execution_count": 93,
   "metadata": {},
   "outputs": [],
   "source": [
    "# creating three columns closest_secondary_school, school_type and distance to school\n",
    "df['closest_secondary_school'] = df.apply(lambda x: x['Name, Secondary & Distance'][0], axis=1)\n",
    "df['School_Type_S'] = df.apply(lambda x: x['Name, Secondary & Distance'][1], axis=1)\n",
    "df['distance_to_closest_secondary'] = df.apply(lambda x: x['Name, Secondary & Distance'][2], axis=1)"
   ]
  },
  {
   "cell_type": "code",
   "execution_count": 94,
   "metadata": {},
   "outputs": [
    {
     "data": {
      "text/plain": [
       "Index(['ID', 'Address', 'Rooms', 'Type', 'Price', 'Date', 'Bathroom', 'Car',\n",
       "       'Landsize', 'Age', 'Lattitude', 'Longtitude', 'Suburb', 'Council',\n",
       "       'Year', 'crime_A_average', 'crime_B_average', 'crime_C_average',\n",
       "       'Stop_id & Distance', 'train_station_id', 'distance_to_train_station',\n",
       "       'travel_min_to_CBD', 'Median Price', 'over_priced?',\n",
       "       'Name, Primary & Distance', 'Name, Secondary & Distance',\n",
       "       'closest_primary_school', 'School_Type_P',\n",
       "       'distance_to_closest_primary', 'closest_secondary_school',\n",
       "       'School_Type_S', 'distance_to_closest_secondary'],\n",
       "      dtype='object')"
      ]
     },
     "execution_count": 94,
     "metadata": {},
     "output_type": "execute_result"
    }
   ],
   "source": [
    "df.columns"
   ]
  },
  {
   "cell_type": "code",
   "execution_count": 95,
   "metadata": {},
   "outputs": [],
   "source": [
    "df = df.drop(['Name, Primary & Distance', 'Name, Secondary & Distance'], axis = 1)"
   ]
  },
  {
   "cell_type": "code",
   "execution_count": 96,
   "metadata": {},
   "outputs": [
    {
     "data": {
      "text/html": [
       "<div>\n",
       "<style scoped>\n",
       "    .dataframe tbody tr th:only-of-type {\n",
       "        vertical-align: middle;\n",
       "    }\n",
       "\n",
       "    .dataframe tbody tr th {\n",
       "        vertical-align: top;\n",
       "    }\n",
       "\n",
       "    .dataframe thead th {\n",
       "        text-align: right;\n",
       "    }\n",
       "</style>\n",
       "<table border=\"1\" class=\"dataframe\">\n",
       "  <thead>\n",
       "    <tr style=\"text-align: right;\">\n",
       "      <th></th>\n",
       "      <th>ID</th>\n",
       "      <th>Address</th>\n",
       "      <th>Rooms</th>\n",
       "      <th>Type</th>\n",
       "      <th>Price</th>\n",
       "      <th>Date</th>\n",
       "      <th>Bathroom</th>\n",
       "      <th>Car</th>\n",
       "      <th>Landsize</th>\n",
       "      <th>Age</th>\n",
       "      <th>...</th>\n",
       "      <th>distance_to_train_station</th>\n",
       "      <th>travel_min_to_CBD</th>\n",
       "      <th>Median Price</th>\n",
       "      <th>over_priced?</th>\n",
       "      <th>closest_primary_school</th>\n",
       "      <th>School_Type_P</th>\n",
       "      <th>distance_to_closest_primary</th>\n",
       "      <th>closest_secondary_school</th>\n",
       "      <th>School_Type_S</th>\n",
       "      <th>distance_to_closest_secondary</th>\n",
       "    </tr>\n",
       "  </thead>\n",
       "  <tbody>\n",
       "    <tr>\n",
       "      <td>0</td>\n",
       "      <td>ID253199063</td>\n",
       "      <td>8 Kinnane Cr</td>\n",
       "      <td>3</td>\n",
       "      <td>h</td>\n",
       "      <td>830500.0</td>\n",
       "      <td>8/07/2017</td>\n",
       "      <td>1.0</td>\n",
       "      <td>2.0</td>\n",
       "      <td>508.0</td>\n",
       "      <td>69.0</td>\n",
       "      <td>...</td>\n",
       "      <td>928.087270</td>\n",
       "      <td>24.555556</td>\n",
       "      <td>830500.0</td>\n",
       "      <td>0</td>\n",
       "      <td>Sunshine Harvester Primary School</td>\n",
       "      <td>Primary</td>\n",
       "      <td>847.340415</td>\n",
       "      <td>Braybrook College</td>\n",
       "      <td>Secondary</td>\n",
       "      <td>1010.115144</td>\n",
       "    </tr>\n",
       "    <tr>\n",
       "      <td>1</td>\n",
       "      <td>ID764854482</td>\n",
       "      <td>9 Banks Pl</td>\n",
       "      <td>3</td>\n",
       "      <td>h</td>\n",
       "      <td>742000.0</td>\n",
       "      <td>26/08/2017</td>\n",
       "      <td>2.0</td>\n",
       "      <td>2.0</td>\n",
       "      <td>375.0</td>\n",
       "      <td>44.0</td>\n",
       "      <td>...</td>\n",
       "      <td>1740.976471</td>\n",
       "      <td>40.000000</td>\n",
       "      <td>742000.0</td>\n",
       "      <td>0</td>\n",
       "      <td>Gladstone Views Primary School</td>\n",
       "      <td>Primary</td>\n",
       "      <td>557.537727</td>\n",
       "      <td>Gladstone Park Secondary College</td>\n",
       "      <td>Secondary</td>\n",
       "      <td>1072.819140</td>\n",
       "    </tr>\n",
       "    <tr>\n",
       "      <td>2</td>\n",
       "      <td>ID765581220</td>\n",
       "      <td>112 Belmore Rd</td>\n",
       "      <td>5</td>\n",
       "      <td>h</td>\n",
       "      <td>3020000.0</td>\n",
       "      <td>28/05/2016</td>\n",
       "      <td>3.0</td>\n",
       "      <td>2.0</td>\n",
       "      <td>715.0</td>\n",
       "      <td>10.0</td>\n",
       "      <td>...</td>\n",
       "      <td>2445.085482</td>\n",
       "      <td>23.769231</td>\n",
       "      <td>3020000.0</td>\n",
       "      <td>0</td>\n",
       "      <td>Balwyn North Primary School</td>\n",
       "      <td>Primary</td>\n",
       "      <td>679.484649</td>\n",
       "      <td>Balwyn High School</td>\n",
       "      <td>Secondary</td>\n",
       "      <td>549.998657</td>\n",
       "    </tr>\n",
       "    <tr>\n",
       "      <td>3</td>\n",
       "      <td>ID364066284</td>\n",
       "      <td>12 Rasmussen Ct</td>\n",
       "      <td>4</td>\n",
       "      <td>h</td>\n",
       "      <td>922000.0</td>\n",
       "      <td>1/07/2017</td>\n",
       "      <td>2.0</td>\n",
       "      <td>2.0</td>\n",
       "      <td>463.0</td>\n",
       "      <td>59.0</td>\n",
       "      <td>...</td>\n",
       "      <td>1525.626832</td>\n",
       "      <td>34.000000</td>\n",
       "      <td>948500.0</td>\n",
       "      <td>0</td>\n",
       "      <td>Newlands Primary School</td>\n",
       "      <td>Primary</td>\n",
       "      <td>924.199054</td>\n",
       "      <td>Coburg High School</td>\n",
       "      <td>Secondary</td>\n",
       "      <td>723.373534</td>\n",
       "    </tr>\n",
       "    <tr>\n",
       "      <td>4</td>\n",
       "      <td>ID879430645</td>\n",
       "      <td>29 Alfred St</td>\n",
       "      <td>2</td>\n",
       "      <td>h</td>\n",
       "      <td>825000.0</td>\n",
       "      <td>14/05/2016</td>\n",
       "      <td>1.0</td>\n",
       "      <td>0.0</td>\n",
       "      <td>111.0</td>\n",
       "      <td>109.0</td>\n",
       "      <td>...</td>\n",
       "      <td>2268.794421</td>\n",
       "      <td>0.000000</td>\n",
       "      <td>900000.0</td>\n",
       "      <td>0</td>\n",
       "      <td>Port Melbourne Primary School</td>\n",
       "      <td>Primary</td>\n",
       "      <td>308.738369</td>\n",
       "      <td>Albert Park College</td>\n",
       "      <td>Secondary</td>\n",
       "      <td>1403.825597</td>\n",
       "    </tr>\n",
       "  </tbody>\n",
       "</table>\n",
       "<p>5 rows × 30 columns</p>\n",
       "</div>"
      ],
      "text/plain": [
       "            ID          Address  Rooms Type      Price        Date  Bathroom  \\\n",
       "0  ID253199063     8 Kinnane Cr      3    h   830500.0   8/07/2017       1.0   \n",
       "1  ID764854482       9 Banks Pl      3    h   742000.0  26/08/2017       2.0   \n",
       "2  ID765581220   112 Belmore Rd      5    h  3020000.0  28/05/2016       3.0   \n",
       "3  ID364066284  12 Rasmussen Ct      4    h   922000.0   1/07/2017       2.0   \n",
       "4  ID879430645     29 Alfred St      2    h   825000.0  14/05/2016       1.0   \n",
       "\n",
       "   Car  Landsize    Age  ...  distance_to_train_station  travel_min_to_CBD  \\\n",
       "0  2.0     508.0   69.0  ...                 928.087270          24.555556   \n",
       "1  2.0     375.0   44.0  ...                1740.976471          40.000000   \n",
       "2  2.0     715.0   10.0  ...                2445.085482          23.769231   \n",
       "3  2.0     463.0   59.0  ...                1525.626832          34.000000   \n",
       "4  0.0     111.0  109.0  ...                2268.794421           0.000000   \n",
       "\n",
       "  Median Price over_priced?             closest_primary_school  School_Type_P  \\\n",
       "0     830500.0            0  Sunshine Harvester Primary School        Primary   \n",
       "1     742000.0            0     Gladstone Views Primary School        Primary   \n",
       "2    3020000.0            0        Balwyn North Primary School        Primary   \n",
       "3     948500.0            0            Newlands Primary School        Primary   \n",
       "4     900000.0            0      Port Melbourne Primary School        Primary   \n",
       "\n",
       "   distance_to_closest_primary          closest_secondary_school  \\\n",
       "0                   847.340415                 Braybrook College   \n",
       "1                   557.537727  Gladstone Park Secondary College   \n",
       "2                   679.484649                Balwyn High School   \n",
       "3                   924.199054                Coburg High School   \n",
       "4                   308.738369               Albert Park College   \n",
       "\n",
       "  School_Type_S  distance_to_closest_secondary  \n",
       "0     Secondary                    1010.115144  \n",
       "1     Secondary                    1072.819140  \n",
       "2     Secondary                     549.998657  \n",
       "3     Secondary                     723.373534  \n",
       "4     Secondary                    1403.825597  \n",
       "\n",
       "[5 rows x 30 columns]"
      ]
     },
     "execution_count": 96,
     "metadata": {},
     "output_type": "execute_result"
    }
   ],
   "source": [
    "df.head()"
   ]
  },
  {
   "cell_type": "code",
   "execution_count": 111,
   "metadata": {},
   "outputs": [
    {
     "data": {
      "text/plain": [
       "Secondary    487\n",
       "Pri/Sec      197\n",
       "Name: School_Type_S, dtype: int64"
      ]
     },
     "execution_count": 111,
     "metadata": {},
     "output_type": "execute_result"
    }
   ],
   "source": [
    "df['School_Type_S'].value_counts()"
   ]
  },
  {
   "cell_type": "markdown",
   "metadata": {},
   "source": [
    "## secondary_school_ranking"
   ]
  },
  {
   "cell_type": "markdown",
   "metadata": {},
   "source": [
    "To extract the secondary school ranking, we need to get source code using given link and save it as .txt file. We parse the .txt file and extract secondary schools name and secondary school rankings for using re module.\n",
    "\n",
    "After extracting and storing them into one dataframe, we merge the df and rankings dataframe to get the best ranking of the secondary school."
   ]
  },
  {
   "cell_type": "code",
   "execution_count": 98,
   "metadata": {},
   "outputs": [],
   "source": [
    "with open('https _sites.google.com_a_monash.edu_secondary-school-ranking_ pli=1.txt','r') as inputfile:\n",
    "    secondary_ranks = inputfile.read()"
   ]
  },
  {
   "cell_type": "code",
   "execution_count": 99,
   "metadata": {},
   "outputs": [],
   "source": [
    "match = re.search(r'(<ul>[\\s\\S]*?</ul>)', secondary_ranks)  # text in <ul> and </ul> tags arae extracted\n",
    "if match:\n",
    "    school_rankings = match.group(1)"
   ]
  },
  {
   "cell_type": "code",
   "execution_count": 100,
   "metadata": {},
   "outputs": [],
   "source": [
    "# getting secondary school names and respective rankings from the school_rankings.\n",
    "\n",
    "schools = []\n",
    "sec_ranks = []\n",
    "li_tags = re.findall(r'<li>(.*?)</li>', school_rankings, re.DOTALL)  # re to find the each school description tags\n",
    "ranks_clean = re.compile(r'<.*?>')\n",
    "for each in li_tags:\n",
    "    all_schools_data = each.split('\\n')\n",
    "    names = re.sub(ranks_clean, '', all_schools_data[1])   # getting school names\n",
    "    ranks = re.sub(ranks_clean, '', all_schools_data[2])   # getting school rankings\n",
    "    schools.append(names)\n",
    "    sec_ranks.append(ranks)\n",
    "\n",
    "    "
   ]
  },
  {
   "cell_type": "code",
   "execution_count": 101,
   "metadata": {},
   "outputs": [],
   "source": [
    "# creating a new dataframe to store the obtained schools and ranks\n",
    "secondary_ranks = pd.DataFrame(columns=['School','Rank'])"
   ]
  },
  {
   "cell_type": "code",
   "execution_count": 102,
   "metadata": {},
   "outputs": [],
   "source": [
    "# storing above generated lists to secondary_ranks dataframe\n",
    "secondary_ranks['School'] = schools\n",
    "secondary_ranks['Rank'] = sec_ranks"
   ]
  },
  {
   "cell_type": "markdown",
   "metadata": {},
   "source": [
    "As we can see there are duplicated values in the secondary_ranks df, let's find out what are those values."
   ]
  },
  {
   "cell_type": "code",
   "execution_count": 147,
   "metadata": {},
   "outputs": [],
   "source": [
    "a = secondary_ranks.sort_values(\"Rank\")  # dataframe which consists of secondary school names and their respective rankings"
   ]
  },
  {
   "cell_type": "code",
   "execution_count": 148,
   "metadata": {},
   "outputs": [],
   "source": [
    "a_list = list(a[\"School\"])"
   ]
  },
  {
   "cell_type": "code",
   "execution_count": 149,
   "metadata": {},
   "outputs": [
    {
     "data": {
      "text/html": [
       "<div>\n",
       "<style scoped>\n",
       "    .dataframe tbody tr th:only-of-type {\n",
       "        vertical-align: middle;\n",
       "    }\n",
       "\n",
       "    .dataframe tbody tr th {\n",
       "        vertical-align: top;\n",
       "    }\n",
       "\n",
       "    .dataframe thead th {\n",
       "        text-align: right;\n",
       "    }\n",
       "</style>\n",
       "<table border=\"1\" class=\"dataframe\">\n",
       "  <thead>\n",
       "    <tr style=\"text-align: right;\">\n",
       "      <th></th>\n",
       "      <th>School</th>\n",
       "      <th>Rank</th>\n",
       "    </tr>\n",
       "  </thead>\n",
       "  <tbody>\n",
       "    <tr>\n",
       "      <td>477</td>\n",
       "      <td>St Joseph's College</td>\n",
       "      <td>183</td>\n",
       "    </tr>\n",
       "    <tr>\n",
       "      <td>40</td>\n",
       "      <td>Beaconhills College</td>\n",
       "      <td>186</td>\n",
       "    </tr>\n",
       "    <tr>\n",
       "      <td>170</td>\n",
       "      <td>Flinders Christian Comm College</td>\n",
       "      <td>188</td>\n",
       "    </tr>\n",
       "    <tr>\n",
       "      <td>275</td>\n",
       "      <td>Lighthouse Christian College</td>\n",
       "      <td>222</td>\n",
       "    </tr>\n",
       "    <tr>\n",
       "      <td>478</td>\n",
       "      <td>St Joseph's College</td>\n",
       "      <td>224</td>\n",
       "    </tr>\n",
       "    <tr>\n",
       "      <td>479</td>\n",
       "      <td>St Joseph's College</td>\n",
       "      <td>269</td>\n",
       "    </tr>\n",
       "    <tr>\n",
       "      <td>93</td>\n",
       "      <td>Catholic Regional College</td>\n",
       "      <td>271</td>\n",
       "    </tr>\n",
       "    <tr>\n",
       "      <td>157</td>\n",
       "      <td>Emmanuel College</td>\n",
       "      <td>289</td>\n",
       "    </tr>\n",
       "    <tr>\n",
       "      <td>98</td>\n",
       "      <td>Caulfield Grammar School</td>\n",
       "      <td>39</td>\n",
       "    </tr>\n",
       "    <tr>\n",
       "      <td>333</td>\n",
       "      <td>Minaret College</td>\n",
       "      <td>466</td>\n",
       "    </tr>\n",
       "    <tr>\n",
       "      <td>94</td>\n",
       "      <td>Catholic Regional College</td>\n",
       "      <td>541</td>\n",
       "    </tr>\n",
       "    <tr>\n",
       "      <td>95</td>\n",
       "      <td>Catholic Regional College</td>\n",
       "      <td>542</td>\n",
       "    </tr>\n",
       "    <tr>\n",
       "      <td>96</td>\n",
       "      <td>Catholic Regional College</td>\n",
       "      <td>543</td>\n",
       "    </tr>\n",
       "    <tr>\n",
       "      <td>103</td>\n",
       "      <td>Charles La Trobe P-12 College</td>\n",
       "      <td>545</td>\n",
       "    </tr>\n",
       "    <tr>\n",
       "      <td>220</td>\n",
       "      <td>Holmesglen Institute of TAFE</td>\n",
       "      <td>557</td>\n",
       "    </tr>\n",
       "    <tr>\n",
       "      <td>233</td>\n",
       "      <td>Ivanhoe Grammar School</td>\n",
       "      <td>72</td>\n",
       "    </tr>\n",
       "    <tr>\n",
       "      <td>555</td>\n",
       "      <td>Wesley College</td>\n",
       "      <td>98</td>\n",
       "    </tr>\n",
       "  </tbody>\n",
       "</table>\n",
       "</div>"
      ],
      "text/plain": [
       "                              School Rank\n",
       "477              St Joseph's College  183\n",
       "40               Beaconhills College  186\n",
       "170  Flinders Christian Comm College  188\n",
       "275     Lighthouse Christian College  222\n",
       "478              St Joseph's College  224\n",
       "479              St Joseph's College  269\n",
       "93         Catholic Regional College  271\n",
       "157                 Emmanuel College  289\n",
       "98          Caulfield Grammar School   39\n",
       "333                  Minaret College  466\n",
       "94         Catholic Regional College  541\n",
       "95         Catholic Regional College  542\n",
       "96         Catholic Regional College  543\n",
       "103    Charles La Trobe P-12 College  545\n",
       "220     Holmesglen Institute of TAFE  557\n",
       "233           Ivanhoe Grammar School   72\n",
       "555                   Wesley College   98"
      ]
     },
     "execution_count": 149,
     "metadata": {},
     "output_type": "execute_result"
    }
   ],
   "source": [
    "a[a['School'].duplicated()]"
   ]
  },
  {
   "cell_type": "markdown",
   "metadata": {},
   "source": [
    "The above cells output shows the duplicated values. we drop them using the respective index values as show below."
   ]
  },
  {
   "cell_type": "code",
   "execution_count": 150,
   "metadata": {},
   "outputs": [],
   "source": [
    "remove = list(a[a['School'].duplicated()].index.values.astype(int))  # getting the duplicated rows index values"
   ]
  },
  {
   "cell_type": "code",
   "execution_count": 151,
   "metadata": {},
   "outputs": [],
   "source": [
    "secondary_rank_clean = a.drop(remove).reset_index().drop(['index'],axis=1)  # dropping the rows"
   ]
  },
  {
   "cell_type": "markdown",
   "metadata": {},
   "source": [
    "we merge student df and secondary_rank_clean to get the respective secondary school rankings for the nearest secondary school to the property."
   ]
  },
  {
   "cell_type": "code",
   "execution_count": 155,
   "metadata": {},
   "outputs": [],
   "source": [
    "# merging both student dataframe and secondary_ranks to find the respective school ranking in our dataframe\n",
    "df = pd.merge(df, secondary_rank_clean, how='left', left_on = 'closest_secondary_school', right_on = 'School')"
   ]
  },
  {
   "cell_type": "code",
   "execution_count": 156,
   "metadata": {},
   "outputs": [
    {
     "data": {
      "text/plain": [
       "226"
      ]
     },
     "execution_count": 156,
     "metadata": {},
     "output_type": "execute_result"
    }
   ],
   "source": [
    "len(df[df['Rank'].isna()])    # the null values in the df "
   ]
  },
  {
   "cell_type": "markdown",
   "metadata": {},
   "source": [
    "Since we have got Nan values, implies some secondary schools are not listed on the website, we should find them and replace with `not ranked`."
   ]
  },
  {
   "cell_type": "code",
   "execution_count": 157,
   "metadata": {},
   "outputs": [],
   "source": [
    "import numpy as np\n",
    "df[\"Rank\"] = df[\"Rank\"].replace(np.nan, 'not ranked', regex=True)   # replacing the null values with not ranked"
   ]
  },
  {
   "cell_type": "code",
   "execution_count": 158,
   "metadata": {},
   "outputs": [],
   "source": [
    "df.rename(columns={'Rank': 'secondary_school_ranking'}, inplace=True)  # renaming the column"
   ]
  },
  {
   "cell_type": "code",
   "execution_count": 160,
   "metadata": {},
   "outputs": [
    {
     "data": {
      "text/plain": [
       "Index(['ID', 'Address', 'Rooms', 'Type', 'Price', 'Date', 'Bathroom', 'Car',\n",
       "       'Landsize', 'Age', 'Lattitude', 'Longtitude', 'Suburb', 'Council',\n",
       "       'Year', 'crime_A_average', 'crime_B_average', 'crime_C_average',\n",
       "       'Stop_id & Distance', 'train_station_id', 'distance_to_train_station',\n",
       "       'travel_min_to_CBD', 'Median Price', 'over_priced?',\n",
       "       'closest_primary_school', 'School_Type_P',\n",
       "       'distance_to_closest_primary', 'closest_secondary_school',\n",
       "       'School_Type_S', 'distance_to_closest_secondary', 'index', 'School',\n",
       "       'secondary_school_ranking'],\n",
       "      dtype='object')"
      ]
     },
     "execution_count": 160,
     "metadata": {},
     "output_type": "execute_result"
    }
   ],
   "source": [
    "df.columns"
   ]
  },
  {
   "cell_type": "code",
   "execution_count": 161,
   "metadata": {},
   "outputs": [],
   "source": [
    "df = df.drop(['School'], axis = 1)  # dropping the school column "
   ]
  },
  {
   "cell_type": "markdown",
   "metadata": {},
   "source": [
    "## primary_school_ranking"
   ]
  },
  {
   "cell_type": "markdown",
   "metadata": {},
   "source": [
    "Since we have got nearest primary school and distance to nearest primary school, we need to extract respective primary school ranking for the nearest primary school to the property. The process to find the primary_school_ranking column as follows:\n",
    "- First we need to do webscrapping using the link `http://www.schoolcatchment.com.au/?p=12301`, i.e using BeautifulSoup package, we parse the html page and extract the primary school names and respective primary school rankings from the website .\n",
    "- After extracting names and rankings we store them in a dataframe, and drop the duplicates and merge the dataframes to get the ranking of the primary schools. "
   ]
  },
  {
   "cell_type": "code",
   "execution_count": 162,
   "metadata": {},
   "outputs": [],
   "source": [
    "from urllib.request import urlopen\n",
    "from bs4 import BeautifulSoup\n",
    "import re"
   ]
  },
  {
   "cell_type": "code",
   "execution_count": 163,
   "metadata": {},
   "outputs": [],
   "source": [
    "html = urlopen(\"http://www.schoolcatchment.com.au/?p=12301\")"
   ]
  },
  {
   "cell_type": "code",
   "execution_count": 164,
   "metadata": {},
   "outputs": [],
   "source": [
    "bsobj = BeautifulSoup(html, \"html.parser\")"
   ]
  },
  {
   "cell_type": "markdown",
   "metadata": {},
   "source": [
    "We need to extract the information from the website using the BeautifulSoup package methods and extract school adn primary ranking as shown below."
   ]
  },
  {
   "cell_type": "code",
   "execution_count": 165,
   "metadata": {},
   "outputs": [],
   "source": [
    "df_rows = bsobj.find('tbody')\n",
    "row_values = df_rows.findAll('tr')\n",
    "primary_ranks = pd.DataFrame(columns = ['School', 'Primary Rank'])  # creating a dataframe.\n",
    "ranks_primary = []\n",
    "sch_primary = []\n",
    "for each in row_values:\n",
    "    col_name = each.findAll('td')\n",
    "    col_name = [value.text.strip() for value in col_name]\n",
    "    ranks_primary.append(col_name[0])     # appending primary school rank\n",
    "    sch_primary.append(col_name[1])       # appending primary school name\n",
    "primary_ranks['School'] = sch_primary\n",
    "primary_ranks['Primary Rank'] = ranks_primary"
   ]
  },
  {
   "cell_type": "code",
   "execution_count": 166,
   "metadata": {},
   "outputs": [
    {
     "data": {
      "text/html": [
       "<div>\n",
       "<style scoped>\n",
       "    .dataframe tbody tr th:only-of-type {\n",
       "        vertical-align: middle;\n",
       "    }\n",
       "\n",
       "    .dataframe tbody tr th {\n",
       "        vertical-align: top;\n",
       "    }\n",
       "\n",
       "    .dataframe thead th {\n",
       "        text-align: right;\n",
       "    }\n",
       "</style>\n",
       "<table border=\"1\" class=\"dataframe\">\n",
       "  <thead>\n",
       "    <tr style=\"text-align: right;\">\n",
       "      <th></th>\n",
       "      <th>School</th>\n",
       "      <th>Primary Rank</th>\n",
       "    </tr>\n",
       "  </thead>\n",
       "  <tbody>\n",
       "    <tr>\n",
       "      <td>0</td>\n",
       "      <td>Presbyterian Ladies' College</td>\n",
       "      <td>1</td>\n",
       "    </tr>\n",
       "    <tr>\n",
       "      <td>1</td>\n",
       "      <td>Haileybury College</td>\n",
       "      <td>2</td>\n",
       "    </tr>\n",
       "    <tr>\n",
       "      <td>2</td>\n",
       "      <td>Ballarat Clarendon College</td>\n",
       "      <td>3</td>\n",
       "    </tr>\n",
       "    <tr>\n",
       "      <td>3</td>\n",
       "      <td>Fitzroy Community School</td>\n",
       "      <td>4</td>\n",
       "    </tr>\n",
       "    <tr>\n",
       "      <td>4</td>\n",
       "      <td>Fintona Girls' School</td>\n",
       "      <td>5</td>\n",
       "    </tr>\n",
       "  </tbody>\n",
       "</table>\n",
       "</div>"
      ],
      "text/plain": [
       "                         School Primary Rank\n",
       "0  Presbyterian Ladies' College            1\n",
       "1            Haileybury College            2\n",
       "2    Ballarat Clarendon College            3\n",
       "3      Fitzroy Community School            4\n",
       "4         Fintona Girls' School            5"
      ]
     },
     "execution_count": 166,
     "metadata": {},
     "output_type": "execute_result"
    }
   ],
   "source": [
    "primary_ranks.head()"
   ]
  },
  {
   "cell_type": "code",
   "execution_count": 167,
   "metadata": {},
   "outputs": [],
   "source": [
    "pri_dups = primary_ranks.sort_values(\"Primary Rank\")  # dataframe which consists of secondary school names and their respective rankings"
   ]
  },
  {
   "cell_type": "code",
   "execution_count": 168,
   "metadata": {},
   "outputs": [],
   "source": [
    "primes_list = list(pri_dups[\"School\"])"
   ]
  },
  {
   "cell_type": "markdown",
   "metadata": {},
   "source": [
    "Finding the duplicates and dropping them using the index values."
   ]
  },
  {
   "cell_type": "code",
   "execution_count": 170,
   "metadata": {},
   "outputs": [
    {
     "data": {
      "text/html": [
       "<div>\n",
       "<style scoped>\n",
       "    .dataframe tbody tr th:only-of-type {\n",
       "        vertical-align: middle;\n",
       "    }\n",
       "\n",
       "    .dataframe tbody tr th {\n",
       "        vertical-align: top;\n",
       "    }\n",
       "\n",
       "    .dataframe thead th {\n",
       "        text-align: right;\n",
       "    }\n",
       "</style>\n",
       "<table border=\"1\" class=\"dataframe\">\n",
       "  <thead>\n",
       "    <tr style=\"text-align: right;\">\n",
       "      <th></th>\n",
       "      <th>School</th>\n",
       "      <th>Primary Rank</th>\n",
       "    </tr>\n",
       "  </thead>\n",
       "  <tbody>\n",
       "    <tr>\n",
       "      <td>176</td>\n",
       "      <td>St Mary's School</td>\n",
       "      <td>177</td>\n",
       "    </tr>\n",
       "    <tr>\n",
       "      <td>278</td>\n",
       "      <td>St Mary's School</td>\n",
       "      <td>279</td>\n",
       "    </tr>\n",
       "    <tr>\n",
       "      <td>286</td>\n",
       "      <td>Sacred Heart School</td>\n",
       "      <td>287</td>\n",
       "    </tr>\n",
       "    <tr>\n",
       "      <td>301</td>\n",
       "      <td>St James' School</td>\n",
       "      <td>302</td>\n",
       "    </tr>\n",
       "    <tr>\n",
       "      <td>306</td>\n",
       "      <td>St Joseph's School</td>\n",
       "      <td>307</td>\n",
       "    </tr>\n",
       "    <tr>\n",
       "      <td>314</td>\n",
       "      <td>St Mary's School</td>\n",
       "      <td>315</td>\n",
       "    </tr>\n",
       "    <tr>\n",
       "      <td>327</td>\n",
       "      <td>St Mary's School</td>\n",
       "      <td>328</td>\n",
       "    </tr>\n",
       "    <tr>\n",
       "      <td>333</td>\n",
       "      <td>St Joseph's School</td>\n",
       "      <td>334</td>\n",
       "    </tr>\n",
       "    <tr>\n",
       "      <td>334</td>\n",
       "      <td>St Mary's School</td>\n",
       "      <td>335</td>\n",
       "    </tr>\n",
       "    <tr>\n",
       "      <td>363</td>\n",
       "      <td>St Patrick's School</td>\n",
       "      <td>364</td>\n",
       "    </tr>\n",
       "    <tr>\n",
       "      <td>370</td>\n",
       "      <td>St Mary's School</td>\n",
       "      <td>371</td>\n",
       "    </tr>\n",
       "    <tr>\n",
       "      <td>374</td>\n",
       "      <td>St Joseph's School</td>\n",
       "      <td>375</td>\n",
       "    </tr>\n",
       "    <tr>\n",
       "      <td>380</td>\n",
       "      <td>St Paul's School</td>\n",
       "      <td>381</td>\n",
       "    </tr>\n",
       "    <tr>\n",
       "      <td>395</td>\n",
       "      <td>Sacred Heart School</td>\n",
       "      <td>396</td>\n",
       "    </tr>\n",
       "    <tr>\n",
       "      <td>399</td>\n",
       "      <td>St Joseph's School</td>\n",
       "      <td>400</td>\n",
       "    </tr>\n",
       "    <tr>\n",
       "      <td>400</td>\n",
       "      <td>St Joseph's School</td>\n",
       "      <td>401</td>\n",
       "    </tr>\n",
       "    <tr>\n",
       "      <td>406</td>\n",
       "      <td>St Anne's School</td>\n",
       "      <td>407</td>\n",
       "    </tr>\n",
       "    <tr>\n",
       "      <td>415</td>\n",
       "      <td>St Peter's School</td>\n",
       "      <td>416</td>\n",
       "    </tr>\n",
       "    <tr>\n",
       "      <td>417</td>\n",
       "      <td>St Mary's School</td>\n",
       "      <td>418</td>\n",
       "    </tr>\n",
       "    <tr>\n",
       "      <td>418</td>\n",
       "      <td>St Christopher's School</td>\n",
       "      <td>419</td>\n",
       "    </tr>\n",
       "    <tr>\n",
       "      <td>423</td>\n",
       "      <td>St Peter's School</td>\n",
       "      <td>424</td>\n",
       "    </tr>\n",
       "    <tr>\n",
       "      <td>428</td>\n",
       "      <td>St Mary's School</td>\n",
       "      <td>429</td>\n",
       "    </tr>\n",
       "    <tr>\n",
       "      <td>456</td>\n",
       "      <td>St Patrick's School</td>\n",
       "      <td>457</td>\n",
       "    </tr>\n",
       "    <tr>\n",
       "      <td>466</td>\n",
       "      <td>St Mary's School</td>\n",
       "      <td>467</td>\n",
       "    </tr>\n",
       "    <tr>\n",
       "      <td>476</td>\n",
       "      <td>St Joseph's School</td>\n",
       "      <td>477</td>\n",
       "    </tr>\n",
       "    <tr>\n",
       "      <td>477</td>\n",
       "      <td>Sacred Heart School</td>\n",
       "      <td>478</td>\n",
       "    </tr>\n",
       "    <tr>\n",
       "      <td>481</td>\n",
       "      <td>St Kevin's School</td>\n",
       "      <td>482</td>\n",
       "    </tr>\n",
       "    <tr>\n",
       "      <td>65</td>\n",
       "      <td>Sacred Heart School</td>\n",
       "      <td>66</td>\n",
       "    </tr>\n",
       "    <tr>\n",
       "      <td>89</td>\n",
       "      <td>Our Lady Help of Christians School</td>\n",
       "      <td>90</td>\n",
       "    </tr>\n",
       "  </tbody>\n",
       "</table>\n",
       "</div>"
      ],
      "text/plain": [
       "                                 School Primary Rank\n",
       "176                    St Mary's School          177\n",
       "278                    St Mary's School          279\n",
       "286                 Sacred Heart School          287\n",
       "301                    St James' School          302\n",
       "306                  St Joseph's School          307\n",
       "314                    St Mary's School          315\n",
       "327                    St Mary's School          328\n",
       "333                  St Joseph's School          334\n",
       "334                    St Mary's School          335\n",
       "363                 St Patrick's School          364\n",
       "370                    St Mary's School          371\n",
       "374                  St Joseph's School          375\n",
       "380                    St Paul's School          381\n",
       "395                 Sacred Heart School          396\n",
       "399                  St Joseph's School          400\n",
       "400                  St Joseph's School          401\n",
       "406                    St Anne's School          407\n",
       "415                   St Peter's School          416\n",
       "417                    St Mary's School          418\n",
       "418             St Christopher's School          419\n",
       "423                   St Peter's School          424\n",
       "428                    St Mary's School          429\n",
       "456                 St Patrick's School          457\n",
       "466                    St Mary's School          467\n",
       "476                  St Joseph's School          477\n",
       "477                 Sacred Heart School          478\n",
       "481                   St Kevin's School          482\n",
       "65                  Sacred Heart School           66\n",
       "89   Our Lady Help of Christians School           90"
      ]
     },
     "execution_count": 170,
     "metadata": {},
     "output_type": "execute_result"
    }
   ],
   "source": [
    "pri_dups[pri_dups['School'].duplicated()]"
   ]
  },
  {
   "cell_type": "code",
   "execution_count": 171,
   "metadata": {},
   "outputs": [],
   "source": [
    "remove_pri_sc = list(pri_dups[pri_dups['School'].duplicated()].index.values.astype(int))"
   ]
  },
  {
   "cell_type": "code",
   "execution_count": 174,
   "metadata": {},
   "outputs": [],
   "source": [
    "primary_rank_cleaned = pri_dups.drop(remove_pri_sc).reset_index().drop(['index'],axis=1)"
   ]
  },
  {
   "cell_type": "code",
   "execution_count": 179,
   "metadata": {},
   "outputs": [],
   "source": [
    "# merging both student dataframe and primary_ranks to find the respective school ranking in our dataframe\n",
    "df = pd.merge(df, primary_rank_cleaned, how='left', left_on = 'closest_primary_school', right_on = 'School')"
   ]
  },
  {
   "cell_type": "code",
   "execution_count": 183,
   "metadata": {},
   "outputs": [
    {
     "data": {
      "text/plain": [
       "234"
      ]
     },
     "execution_count": 183,
     "metadata": {},
     "output_type": "execute_result"
    }
   ],
   "source": [
    "len(df[df['Primary Rank'].isna()])"
   ]
  },
  {
   "cell_type": "markdown",
   "metadata": {},
   "source": [
    "The primary school name is not listed in the website, which will be labelled as `not ranked`."
   ]
  },
  {
   "cell_type": "code",
   "execution_count": 184,
   "metadata": {},
   "outputs": [],
   "source": [
    "df[\"Primary Rank\"] = df[\"Primary Rank\"].replace(np.nan, 'not ranked', regex=True)"
   ]
  },
  {
   "cell_type": "code",
   "execution_count": 185,
   "metadata": {},
   "outputs": [],
   "source": [
    "df.rename(columns={'Primary Rank': 'primary_school_ranking'}, inplace=True)"
   ]
  },
  {
   "cell_type": "code",
   "execution_count": 186,
   "metadata": {},
   "outputs": [
    {
     "data": {
      "text/plain": [
       "Index(['ID', 'Address', 'Rooms', 'Type', 'Price', 'Date', 'Bathroom', 'Car',\n",
       "       'Landsize', 'Age', 'Lattitude', 'Longtitude', 'Suburb', 'Council',\n",
       "       'Year', 'crime_A_average', 'crime_B_average', 'crime_C_average',\n",
       "       'Stop_id & Distance', 'train_station_id', 'distance_to_train_station',\n",
       "       'travel_min_to_CBD', 'Median Price', 'over_priced?',\n",
       "       'closest_primary_school', 'School_Type_P',\n",
       "       'distance_to_closest_primary', 'closest_secondary_school',\n",
       "       'School_Type_S', 'distance_to_closest_secondary',\n",
       "       'secondary_school_ranking', 'School', 'primary_school_ranking'],\n",
       "      dtype='object')"
      ]
     },
     "execution_count": 186,
     "metadata": {},
     "output_type": "execute_result"
    }
   ],
   "source": [
    "df.columns"
   ]
  },
  {
   "cell_type": "code",
   "execution_count": 187,
   "metadata": {},
   "outputs": [],
   "source": [
    "submission_df = pd.DataFrame()"
   ]
  },
  {
   "cell_type": "code",
   "execution_count": 189,
   "metadata": {},
   "outputs": [],
   "source": [
    "submission_df = df[['ID', 'Address', 'Suburb', 'Price', 'Type', 'Date', 'Rooms', 'Bathroom', 'Car', 'Landsize', 'Age', 'Lattitude', 'Longtitude', 'train_station_id', 'distance_to_train_station','travel_min_to_CBD','over_priced?','crime_A_average', 'crime_B_average', 'crime_C_average','closest_primary_school','distance_to_closest_primary','primary_school_ranking','closest_secondary_school','distance_to_closest_secondary','secondary_school_ranking']]"
   ]
  },
  {
   "cell_type": "code",
   "execution_count": 190,
   "metadata": {},
   "outputs": [
    {
     "data": {
      "text/plain": [
       "Index(['ID', 'Address', 'Suburb', 'Price', 'Type', 'Date', 'Rooms', 'Bathroom',\n",
       "       'Car', 'Landsize', 'Age', 'Lattitude', 'Longtitude', 'train_station_id',\n",
       "       'distance_to_train_station', 'travel_min_to_CBD', 'over_priced?',\n",
       "       'crime_A_average', 'crime_B_average', 'crime_C_average',\n",
       "       'closest_primary_school', 'distance_to_closest_primary',\n",
       "       'primary_school_ranking', 'closest_secondary_school',\n",
       "       'distance_to_closest_secondary', 'secondary_school_ranking'],\n",
       "      dtype='object')"
      ]
     },
     "execution_count": 190,
     "metadata": {},
     "output_type": "execute_result"
    }
   ],
   "source": [
    "submission_df.columns"
   ]
  },
  {
   "cell_type": "code",
   "execution_count": 191,
   "metadata": {},
   "outputs": [
    {
     "name": "stderr",
     "output_type": "stream",
     "text": [
      "C:\\Users\\amsar\\Anaconda3\\lib\\site-packages\\pandas\\core\\frame.py:4223: SettingWithCopyWarning: \n",
      "A value is trying to be set on a copy of a slice from a DataFrame\n",
      "\n",
      "See the caveats in the documentation: http://pandas.pydata.org/pandas-docs/stable/user_guide/indexing.html#returning-a-view-versus-a-copy\n",
      "  return super().rename(**kwargs)\n"
     ]
    }
   ],
   "source": [
    "submission_df.rename(columns={'Landsize': 'LandSize'}, inplace=True)"
   ]
  },
  {
   "cell_type": "code",
   "execution_count": 192,
   "metadata": {},
   "outputs": [],
   "source": [
    "submission_df.rename(columns={'Lattitude': 'Latitude','Longtitude':'Longitude'}, inplace=True)"
   ]
  },
  {
   "cell_type": "code",
   "execution_count": 193,
   "metadata": {},
   "outputs": [],
   "source": [
    "submission_df.to_csv(\"group053_solution.csv\", index=False)"
   ]
  },
  {
   "cell_type": "markdown",
   "metadata": {},
   "source": [
    "# Task 2:\n"
   ]
  },
  {
   "cell_type": "code",
   "execution_count": 194,
   "metadata": {},
   "outputs": [],
   "source": [
    "import pandas as pd\n",
    "import matplotlib.pyplot as plt\n",
    "import seaborn as sns\n",
    "from sklearn.linear_model import LinearRegression\n",
    "from sklearn.model_selection import train_test_split"
   ]
  },
  {
   "cell_type": "code",
   "execution_count": 195,
   "metadata": {},
   "outputs": [],
   "source": [
    "import warnings\n",
    "warnings.filterwarnings('ignore')"
   ]
  },
  {
   "cell_type": "code",
   "execution_count": 196,
   "metadata": {},
   "outputs": [],
   "source": [
    "new_df = df[['Rooms','crime_C_average','travel_min_to_CBD','Age','Price']].copy() #creating a new dataframe with only the columns which are required"
   ]
  },
  {
   "cell_type": "code",
   "execution_count": 197,
   "metadata": {},
   "outputs": [
    {
     "data": {
      "text/html": [
       "<div>\n",
       "<style scoped>\n",
       "    .dataframe tbody tr th:only-of-type {\n",
       "        vertical-align: middle;\n",
       "    }\n",
       "\n",
       "    .dataframe tbody tr th {\n",
       "        vertical-align: top;\n",
       "    }\n",
       "\n",
       "    .dataframe thead th {\n",
       "        text-align: right;\n",
       "    }\n",
       "</style>\n",
       "<table border=\"1\" class=\"dataframe\">\n",
       "  <thead>\n",
       "    <tr style=\"text-align: right;\">\n",
       "      <th></th>\n",
       "      <th>Rooms</th>\n",
       "      <th>crime_C_average</th>\n",
       "      <th>travel_min_to_CBD</th>\n",
       "      <th>Age</th>\n",
       "      <th>Price</th>\n",
       "    </tr>\n",
       "  </thead>\n",
       "  <tbody>\n",
       "    <tr>\n",
       "      <td>count</td>\n",
       "      <td>684.000000</td>\n",
       "      <td>684.000000</td>\n",
       "      <td>684.000000</td>\n",
       "      <td>684.000000</td>\n",
       "      <td>6.840000e+02</td>\n",
       "    </tr>\n",
       "    <tr>\n",
       "      <td>mean</td>\n",
       "      <td>2.953216</td>\n",
       "      <td>426.180799</td>\n",
       "      <td>26.243762</td>\n",
       "      <td>53.877193</td>\n",
       "      <td>1.071291e+06</td>\n",
       "    </tr>\n",
       "    <tr>\n",
       "      <td>std</td>\n",
       "      <td>0.892873</td>\n",
       "      <td>410.883543</td>\n",
       "      <td>10.548646</td>\n",
       "      <td>36.284335</td>\n",
       "      <td>6.398438e+05</td>\n",
       "    </tr>\n",
       "    <tr>\n",
       "      <td>min</td>\n",
       "      <td>1.000000</td>\n",
       "      <td>0.000000</td>\n",
       "      <td>0.000000</td>\n",
       "      <td>2.000000</td>\n",
       "      <td>2.400000e+05</td>\n",
       "    </tr>\n",
       "    <tr>\n",
       "      <td>25%</td>\n",
       "      <td>2.000000</td>\n",
       "      <td>159.333333</td>\n",
       "      <td>19.090909</td>\n",
       "      <td>21.000000</td>\n",
       "      <td>6.580000e+05</td>\n",
       "    </tr>\n",
       "    <tr>\n",
       "      <td>50%</td>\n",
       "      <td>3.000000</td>\n",
       "      <td>333.000000</td>\n",
       "      <td>26.375000</td>\n",
       "      <td>49.000000</td>\n",
       "      <td>8.995000e+05</td>\n",
       "    </tr>\n",
       "    <tr>\n",
       "      <td>75%</td>\n",
       "      <td>3.000000</td>\n",
       "      <td>564.333333</td>\n",
       "      <td>32.403846</td>\n",
       "      <td>69.000000</td>\n",
       "      <td>1.306250e+06</td>\n",
       "    </tr>\n",
       "    <tr>\n",
       "      <td>max</td>\n",
       "      <td>5.000000</td>\n",
       "      <td>2042.333333</td>\n",
       "      <td>68.818182</td>\n",
       "      <td>139.000000</td>\n",
       "      <td>6.400000e+06</td>\n",
       "    </tr>\n",
       "  </tbody>\n",
       "</table>\n",
       "</div>"
      ],
      "text/plain": [
       "            Rooms  crime_C_average  travel_min_to_CBD         Age  \\\n",
       "count  684.000000       684.000000         684.000000  684.000000   \n",
       "mean     2.953216       426.180799          26.243762   53.877193   \n",
       "std      0.892873       410.883543          10.548646   36.284335   \n",
       "min      1.000000         0.000000           0.000000    2.000000   \n",
       "25%      2.000000       159.333333          19.090909   21.000000   \n",
       "50%      3.000000       333.000000          26.375000   49.000000   \n",
       "75%      3.000000       564.333333          32.403846   69.000000   \n",
       "max      5.000000      2042.333333          68.818182  139.000000   \n",
       "\n",
       "              Price  \n",
       "count  6.840000e+02  \n",
       "mean   1.071291e+06  \n",
       "std    6.398438e+05  \n",
       "min    2.400000e+05  \n",
       "25%    6.580000e+05  \n",
       "50%    8.995000e+05  \n",
       "75%    1.306250e+06  \n",
       "max    6.400000e+06  "
      ]
     },
     "execution_count": 197,
     "metadata": {},
     "output_type": "execute_result"
    }
   ],
   "source": [
    "new_df.describe()"
   ]
  },
  {
   "cell_type": "markdown",
   "metadata": {},
   "source": [
    "In the above output, there is alot of scale gap between these which might affect our model in predicting the prices.<br>\n",
    "Below we try to put Normalizing and Standardizing techniques on these columns and check which performs better and leads to better accuracy"
   ]
  },
  {
   "cell_type": "markdown",
   "metadata": {},
   "source": [
    "## Generating linear model without transforming and normalization"
   ]
  },
  {
   "cell_type": "code",
   "execution_count": 198,
   "metadata": {},
   "outputs": [
    {
     "name": "stdout",
     "output_type": "stream",
     "text": [
      "Rsquared for the Initial model is =  0.36280955866840325\n"
     ]
    }
   ],
   "source": [
    "#select=['Rooms','crime_C_average','travel_min_to_CBD','Age']\n",
    "X_train, X_test, y_train, y_test = train_test_split(new_df[['Rooms','crime_C_average','travel_min_to_CBD','Age']],new_df['Price'],random_state=10)\n",
    "lr=LinearRegression()\n",
    "lr.fit(X_train,y_train)\n",
    "print ('Rsquared for the Initial model is = ',lr.score(X_test,y_test))"
   ]
  },
  {
   "cell_type": "markdown",
   "metadata": {},
   "source": [
    "## Min max normalization"
   ]
  },
  {
   "cell_type": "markdown",
   "metadata": {},
   "source": [
    "In this Min Max normalization, the data is scaled to a fixed rangeu(usually 0 to 1).<br>\n",
    "Since all values are normalized within 0 and 1, which can suppress the effect of outliers. <br>\n",
    "Thus MinMax Scalar is sensitive to outliers."
   ]
  },
  {
   "cell_type": "code",
   "execution_count": 199,
   "metadata": {},
   "outputs": [],
   "source": [
    "new_df_min_max = new_df.copy()"
   ]
  },
  {
   "cell_type": "code",
   "execution_count": 200,
   "metadata": {},
   "outputs": [
    {
     "data": {
      "text/plain": [
       "array([[0.5       , 0.3424188 , 0.35681785, 0.48905109],\n",
       "       [0.5       , 0.18459279, 0.58124174, 0.30656934],\n",
       "       [1.        , 0.15113432, 0.34539173, 0.05839416],\n",
       "       [0.75      , 0.27093194, 0.49405548, 0.41605839],\n",
       "       [0.25      , 0.16566019, 0.        , 0.7810219 ]])"
      ]
     },
     "execution_count": 200,
     "metadata": {},
     "output_type": "execute_result"
    }
   ],
   "source": [
    "from sklearn import preprocessing\n",
    "df_minmax1 = preprocessing.MinMaxScaler().fit_transform(new_df_min_max[['Rooms','crime_C_average','travel_min_to_CBD','Age']])\n",
    "df_minmax1[0:5]"
   ]
  },
  {
   "cell_type": "code",
   "execution_count": 201,
   "metadata": {},
   "outputs": [],
   "source": [
    "new_df_min_max['mm_rooms'] = df_minmax1[:,0]\n",
    "new_df_min_max['mm_crime_c_average'] = df_minmax1[:,1]\n",
    "new_df_min_max['mm_travel_min_to_CBD'] = df_minmax1[:,2]\n",
    "new_df_min_max['mm_Age'] = df_minmax1[:,3]\n"
   ]
  },
  {
   "cell_type": "code",
   "execution_count": 202,
   "metadata": {},
   "outputs": [
    {
     "data": {
      "text/html": [
       "<div>\n",
       "<style scoped>\n",
       "    .dataframe tbody tr th:only-of-type {\n",
       "        vertical-align: middle;\n",
       "    }\n",
       "\n",
       "    .dataframe tbody tr th {\n",
       "        vertical-align: top;\n",
       "    }\n",
       "\n",
       "    .dataframe thead th {\n",
       "        text-align: right;\n",
       "    }\n",
       "</style>\n",
       "<table border=\"1\" class=\"dataframe\">\n",
       "  <thead>\n",
       "    <tr style=\"text-align: right;\">\n",
       "      <th></th>\n",
       "      <th>Rooms</th>\n",
       "      <th>crime_C_average</th>\n",
       "      <th>travel_min_to_CBD</th>\n",
       "      <th>Age</th>\n",
       "      <th>Price</th>\n",
       "      <th>mm_rooms</th>\n",
       "      <th>mm_crime_c_average</th>\n",
       "      <th>mm_travel_min_to_CBD</th>\n",
       "      <th>mm_Age</th>\n",
       "    </tr>\n",
       "  </thead>\n",
       "  <tbody>\n",
       "    <tr>\n",
       "      <td>count</td>\n",
       "      <td>684.000000</td>\n",
       "      <td>684.000000</td>\n",
       "      <td>684.000000</td>\n",
       "      <td>684.000000</td>\n",
       "      <td>6.840000e+02</td>\n",
       "      <td>684.000000</td>\n",
       "      <td>684.000000</td>\n",
       "      <td>684.000000</td>\n",
       "      <td>684.000000</td>\n",
       "    </tr>\n",
       "    <tr>\n",
       "      <td>mean</td>\n",
       "      <td>2.953216</td>\n",
       "      <td>426.180799</td>\n",
       "      <td>26.243762</td>\n",
       "      <td>53.877193</td>\n",
       "      <td>1.071291e+06</td>\n",
       "      <td>0.488304</td>\n",
       "      <td>0.208673</td>\n",
       "      <td>0.381349</td>\n",
       "      <td>0.378666</td>\n",
       "    </tr>\n",
       "    <tr>\n",
       "      <td>std</td>\n",
       "      <td>0.892873</td>\n",
       "      <td>410.883543</td>\n",
       "      <td>10.548646</td>\n",
       "      <td>36.284335</td>\n",
       "      <td>6.398438e+05</td>\n",
       "      <td>0.223218</td>\n",
       "      <td>0.201183</td>\n",
       "      <td>0.153283</td>\n",
       "      <td>0.264849</td>\n",
       "    </tr>\n",
       "    <tr>\n",
       "      <td>min</td>\n",
       "      <td>1.000000</td>\n",
       "      <td>0.000000</td>\n",
       "      <td>0.000000</td>\n",
       "      <td>2.000000</td>\n",
       "      <td>2.400000e+05</td>\n",
       "      <td>0.000000</td>\n",
       "      <td>0.000000</td>\n",
       "      <td>0.000000</td>\n",
       "      <td>0.000000</td>\n",
       "    </tr>\n",
       "    <tr>\n",
       "      <td>25%</td>\n",
       "      <td>2.000000</td>\n",
       "      <td>159.333333</td>\n",
       "      <td>19.090909</td>\n",
       "      <td>21.000000</td>\n",
       "      <td>6.580000e+05</td>\n",
       "      <td>0.250000</td>\n",
       "      <td>0.078015</td>\n",
       "      <td>0.277411</td>\n",
       "      <td>0.138686</td>\n",
       "    </tr>\n",
       "    <tr>\n",
       "      <td>50%</td>\n",
       "      <td>3.000000</td>\n",
       "      <td>333.000000</td>\n",
       "      <td>26.375000</td>\n",
       "      <td>49.000000</td>\n",
       "      <td>8.995000e+05</td>\n",
       "      <td>0.500000</td>\n",
       "      <td>0.163049</td>\n",
       "      <td>0.383256</td>\n",
       "      <td>0.343066</td>\n",
       "    </tr>\n",
       "    <tr>\n",
       "      <td>75%</td>\n",
       "      <td>3.000000</td>\n",
       "      <td>564.333333</td>\n",
       "      <td>32.403846</td>\n",
       "      <td>69.000000</td>\n",
       "      <td>1.306250e+06</td>\n",
       "      <td>0.500000</td>\n",
       "      <td>0.276318</td>\n",
       "      <td>0.470862</td>\n",
       "      <td>0.489051</td>\n",
       "    </tr>\n",
       "    <tr>\n",
       "      <td>max</td>\n",
       "      <td>5.000000</td>\n",
       "      <td>2042.333333</td>\n",
       "      <td>68.818182</td>\n",
       "      <td>139.000000</td>\n",
       "      <td>6.400000e+06</td>\n",
       "      <td>1.000000</td>\n",
       "      <td>1.000000</td>\n",
       "      <td>1.000000</td>\n",
       "      <td>1.000000</td>\n",
       "    </tr>\n",
       "  </tbody>\n",
       "</table>\n",
       "</div>"
      ],
      "text/plain": [
       "            Rooms  crime_C_average  travel_min_to_CBD         Age  \\\n",
       "count  684.000000       684.000000         684.000000  684.000000   \n",
       "mean     2.953216       426.180799          26.243762   53.877193   \n",
       "std      0.892873       410.883543          10.548646   36.284335   \n",
       "min      1.000000         0.000000           0.000000    2.000000   \n",
       "25%      2.000000       159.333333          19.090909   21.000000   \n",
       "50%      3.000000       333.000000          26.375000   49.000000   \n",
       "75%      3.000000       564.333333          32.403846   69.000000   \n",
       "max      5.000000      2042.333333          68.818182  139.000000   \n",
       "\n",
       "              Price    mm_rooms  mm_crime_c_average  mm_travel_min_to_CBD  \\\n",
       "count  6.840000e+02  684.000000          684.000000            684.000000   \n",
       "mean   1.071291e+06    0.488304            0.208673              0.381349   \n",
       "std    6.398438e+05    0.223218            0.201183              0.153283   \n",
       "min    2.400000e+05    0.000000            0.000000              0.000000   \n",
       "25%    6.580000e+05    0.250000            0.078015              0.277411   \n",
       "50%    8.995000e+05    0.500000            0.163049              0.383256   \n",
       "75%    1.306250e+06    0.500000            0.276318              0.470862   \n",
       "max    6.400000e+06    1.000000            1.000000              1.000000   \n",
       "\n",
       "           mm_Age  \n",
       "count  684.000000  \n",
       "mean     0.378666  \n",
       "std      0.264849  \n",
       "min      0.000000  \n",
       "25%      0.138686  \n",
       "50%      0.343066  \n",
       "75%      0.489051  \n",
       "max      1.000000  "
      ]
     },
     "execution_count": 202,
     "metadata": {},
     "output_type": "execute_result"
    }
   ],
   "source": [
    "new_df_min_max.describe()"
   ]
  },
  {
   "cell_type": "markdown",
   "metadata": {},
   "source": [
    "Features that are starting with `mm_` are normalized. Since we are performing MinMax normalization all the values would be inbetween 0 and 1"
   ]
  },
  {
   "cell_type": "markdown",
   "metadata": {},
   "source": [
    "**plotting the original vs normalized values w.r.t price**"
   ]
  },
  {
   "cell_type": "code",
   "execution_count": 203,
   "metadata": {},
   "outputs": [
    {
     "data": {
      "image/png": "[encoded data removed]",
      "text/plain": [
       "<Figure size 432x432 with 3 Axes>"
      ]
     },
     "metadata": {
      "needs_background": "light"
     },
     "output_type": "display_data"
    },
    {
     "data": {
      "image/png": "[encoded data removed]",
      "text/plain": [
       "<Figure size 432x432 with 3 Axes>"
      ]
     },
     "metadata": {
      "needs_background": "light"
     },
     "output_type": "display_data"
    }
   ],
   "source": [
    "sns.jointplot(x=\"Rooms\", y=\"Price\", data=new_df_min_max)\n",
    "sns.jointplot(x=\"mm_rooms\", y=\"Price\", data=new_df_min_max)\n",
    "plt.show()"
   ]
  },
  {
   "cell_type": "code",
   "execution_count": 204,
   "metadata": {},
   "outputs": [
    {
     "data": {
      "text/plain": [
       "(<matplotlib.axes._subplots.AxesSubplot at 0x2618543a390>,\n",
       " <matplotlib.axes._subplots.AxesSubplot at 0x2618543a390>)"
      ]
     },
     "execution_count": 204,
     "metadata": {},
     "output_type": "execute_result"
    },
    {
     "data": {
      "image/png": "[encoded data removed]",
      "text/plain": [
       "<Figure size 432x288 with 1 Axes>"
      ]
     },
     "metadata": {
      "needs_background": "light"
     },
     "output_type": "display_data"
    }
   ],
   "source": [
    "#sns.jointplot(x=\"mm_travel_min_to_CBD\", y=\"Price\", data=new_df_min_max)\n",
    "##sns.jointplot(x=\"travel_min_to_CBD\", y=\"Price\", data=new_df_min_max)\n",
    "#plt.show()\n",
    "new_df_min_max[\"Rooms\"].plot(),new_df_min_max[\"travel_min_to_CBD\"].plot()"
   ]
  },
  {
   "cell_type": "code",
   "execution_count": 205,
   "metadata": {},
   "outputs": [
    {
     "data": {
      "text/plain": [
       "(<matplotlib.axes._subplots.AxesSubplot at 0x26184e285f8>,\n",
       " <matplotlib.axes._subplots.AxesSubplot at 0x26184e285f8>)"
      ]
     },
     "execution_count": 205,
     "metadata": {},
     "output_type": "execute_result"
    },
    {
     "data": {
      "image/png": "[encoded data removed]",
      "text/plain": [
       "<Figure size 432x288 with 1 Axes>"
      ]
     },
     "metadata": {
      "needs_background": "light"
     },
     "output_type": "display_data"
    }
   ],
   "source": [
    "new_df_min_max[\"mm_rooms\"].plot(),new_df_min_max[\"mm_travel_min_to_CBD\"].plot()"
   ]
  },
  {
   "cell_type": "code",
   "execution_count": 206,
   "metadata": {},
   "outputs": [
    {
     "data": {
      "image/png": "[encoded data removed]",
      "text/plain": [
       "<Figure size 432x432 with 3 Axes>"
      ]
     },
     "metadata": {
      "needs_background": "light"
     },
     "output_type": "display_data"
    },
    {
     "data": {
      "image/png": "[encoded data removed]",
      "text/plain": [
       "<Figure size 432x432 with 3 Axes>"
      ]
     },
     "metadata": {
      "needs_background": "light"
     },
     "output_type": "display_data"
    }
   ],
   "source": [
    "sns.jointplot(x=\"mm_Age\", y=\"Price\", data=new_df_min_max, kind=\"kde\")\n",
    "sns.jointplot(x=\"Age\", y=\"Price\", data=new_df_min_max, kind=\"kde\");\n",
    "plt.show()\n"
   ]
  },
  {
   "cell_type": "markdown",
   "metadata": {},
   "source": [
    "We can see that only the values on the X_axis have been changed, but the distribution for those values before and after MinMax Normalization did not change"
   ]
  },
  {
   "cell_type": "markdown",
   "metadata": {},
   "source": [
    "## Performing Z transformation"
   ]
  },
  {
   "cell_type": "markdown",
   "metadata": {},
   "source": [
    "In the Z_score transformation, all the values are normalized based on the mean and Standard deviation."
   ]
  },
  {
   "cell_type": "code",
   "execution_count": 207,
   "metadata": {},
   "outputs": [
    {
     "data": {
      "text/plain": [
       "array([[ 0.05243507,  0.66527957, -0.16015722,  0.41709112],\n",
       "       [ 0.05243507, -0.11978282,  1.30503053, -0.27241566],\n",
       "       [ 2.29403414, -0.2862128 , -0.23475449, -1.21014487],\n",
       "       [ 1.1732346 ,  0.30968771,  0.73582091,  0.14128841],\n",
       "       [-1.06836447, -0.21395783, -2.48970033,  1.52030196]])"
      ]
     },
     "execution_count": 207,
     "metadata": {},
     "output_type": "execute_result"
    }
   ],
   "source": [
    "from sklearn import preprocessing\n",
    "df_minmax2 = preprocessing.StandardScaler().fit_transform(new_df_min_max[['Rooms','crime_C_average','travel_min_to_CBD','Age']])\n",
    "df_minmax2[0:5]"
   ]
  },
  {
   "cell_type": "code",
   "execution_count": 208,
   "metadata": {},
   "outputs": [],
   "source": [
    "new_df_min_max['z_rooms'] = df_minmax2[:,0]\n",
    "new_df_min_max['z_crime_c_average'] = df_minmax2[:,1]\n",
    "new_df_min_max['z_travel_min_to_CBD'] = df_minmax2[:,2]\n",
    "new_df_min_max['z_Age'] = df_minmax2[:,3]\n",
    "\n"
   ]
  },
  {
   "cell_type": "code",
   "execution_count": 209,
   "metadata": {},
   "outputs": [
    {
     "data": {
      "text/html": [
       "<div>\n",
       "<style scoped>\n",
       "    .dataframe tbody tr th:only-of-type {\n",
       "        vertical-align: middle;\n",
       "    }\n",
       "\n",
       "    .dataframe tbody tr th {\n",
       "        vertical-align: top;\n",
       "    }\n",
       "\n",
       "    .dataframe thead th {\n",
       "        text-align: right;\n",
       "    }\n",
       "</style>\n",
       "<table border=\"1\" class=\"dataframe\">\n",
       "  <thead>\n",
       "    <tr style=\"text-align: right;\">\n",
       "      <th></th>\n",
       "      <th>Rooms</th>\n",
       "      <th>crime_C_average</th>\n",
       "      <th>travel_min_to_CBD</th>\n",
       "      <th>Age</th>\n",
       "      <th>z_rooms</th>\n",
       "      <th>z_crime_c_average</th>\n",
       "      <th>z_travel_min_to_CBD</th>\n",
       "      <th>z_Age</th>\n",
       "    </tr>\n",
       "  </thead>\n",
       "  <tbody>\n",
       "    <tr>\n",
       "      <td>count</td>\n",
       "      <td>684.000000</td>\n",
       "      <td>684.000000</td>\n",
       "      <td>684.000000</td>\n",
       "      <td>684.000000</td>\n",
       "      <td>6.840000e+02</td>\n",
       "      <td>6.840000e+02</td>\n",
       "      <td>6.840000e+02</td>\n",
       "      <td>6.840000e+02</td>\n",
       "    </tr>\n",
       "    <tr>\n",
       "      <td>mean</td>\n",
       "      <td>2.953216</td>\n",
       "      <td>426.180799</td>\n",
       "      <td>26.243762</td>\n",
       "      <td>53.877193</td>\n",
       "      <td>1.112049e-16</td>\n",
       "      <td>1.751361e-16</td>\n",
       "      <td>5.112869e-17</td>\n",
       "      <td>1.033936e-16</td>\n",
       "    </tr>\n",
       "    <tr>\n",
       "      <td>std</td>\n",
       "      <td>0.892873</td>\n",
       "      <td>410.883543</td>\n",
       "      <td>10.548646</td>\n",
       "      <td>36.284335</td>\n",
       "      <td>1.000732e+00</td>\n",
       "      <td>1.000732e+00</td>\n",
       "      <td>1.000732e+00</td>\n",
       "      <td>1.000732e+00</td>\n",
       "    </tr>\n",
       "    <tr>\n",
       "      <td>min</td>\n",
       "      <td>1.000000</td>\n",
       "      <td>0.000000</td>\n",
       "      <td>0.000000</td>\n",
       "      <td>2.000000</td>\n",
       "      <td>-2.189164e+00</td>\n",
       "      <td>-1.037989e+00</td>\n",
       "      <td>-2.489700e+00</td>\n",
       "      <td>-1.430787e+00</td>\n",
       "    </tr>\n",
       "    <tr>\n",
       "      <td>25%</td>\n",
       "      <td>2.000000</td>\n",
       "      <td>159.333333</td>\n",
       "      <td>19.090909</td>\n",
       "      <td>21.000000</td>\n",
       "      <td>-1.068364e+00</td>\n",
       "      <td>-6.499232e-01</td>\n",
       "      <td>-6.785788e-01</td>\n",
       "      <td>-9.067619e-01</td>\n",
       "    </tr>\n",
       "    <tr>\n",
       "      <td>50%</td>\n",
       "      <td>3.000000</td>\n",
       "      <td>333.000000</td>\n",
       "      <td>26.375000</td>\n",
       "      <td>49.000000</td>\n",
       "      <td>5.243507e-02</td>\n",
       "      <td>-2.269475e-01</td>\n",
       "      <td>1.245033e-02</td>\n",
       "      <td>-1.345143e-01</td>\n",
       "    </tr>\n",
       "    <tr>\n",
       "      <td>75%</td>\n",
       "      <td>3.000000</td>\n",
       "      <td>564.333333</td>\n",
       "      <td>32.403846</td>\n",
       "      <td>69.000000</td>\n",
       "      <td>5.243507e-02</td>\n",
       "      <td>3.364789e-01</td>\n",
       "      <td>5.843965e-01</td>\n",
       "      <td>4.170911e-01</td>\n",
       "    </tr>\n",
       "    <tr>\n",
       "      <td>max</td>\n",
       "      <td>5.000000</td>\n",
       "      <td>2042.333333</td>\n",
       "      <td>68.818182</td>\n",
       "      <td>139.000000</td>\n",
       "      <td>2.294034e+00</td>\n",
       "      <td>3.936238e+00</td>\n",
       "      <td>4.038962e+00</td>\n",
       "      <td>2.347710e+00</td>\n",
       "    </tr>\n",
       "  </tbody>\n",
       "</table>\n",
       "</div>"
      ],
      "text/plain": [
       "            Rooms  crime_C_average  travel_min_to_CBD         Age  \\\n",
       "count  684.000000       684.000000         684.000000  684.000000   \n",
       "mean     2.953216       426.180799          26.243762   53.877193   \n",
       "std      0.892873       410.883543          10.548646   36.284335   \n",
       "min      1.000000         0.000000           0.000000    2.000000   \n",
       "25%      2.000000       159.333333          19.090909   21.000000   \n",
       "50%      3.000000       333.000000          26.375000   49.000000   \n",
       "75%      3.000000       564.333333          32.403846   69.000000   \n",
       "max      5.000000      2042.333333          68.818182  139.000000   \n",
       "\n",
       "            z_rooms  z_crime_c_average  z_travel_min_to_CBD         z_Age  \n",
       "count  6.840000e+02       6.840000e+02         6.840000e+02  6.840000e+02  \n",
       "mean   1.112049e-16       1.751361e-16         5.112869e-17  1.033936e-16  \n",
       "std    1.000732e+00       1.000732e+00         1.000732e+00  1.000732e+00  \n",
       "min   -2.189164e+00      -1.037989e+00        -2.489700e+00 -1.430787e+00  \n",
       "25%   -1.068364e+00      -6.499232e-01        -6.785788e-01 -9.067619e-01  \n",
       "50%    5.243507e-02      -2.269475e-01         1.245033e-02 -1.345143e-01  \n",
       "75%    5.243507e-02       3.364789e-01         5.843965e-01  4.170911e-01  \n",
       "max    2.294034e+00       3.936238e+00         4.038962e+00  2.347710e+00  "
      ]
     },
     "execution_count": 209,
     "metadata": {},
     "output_type": "execute_result"
    }
   ],
   "source": [
    "new_df_min_max[['Rooms','crime_C_average','travel_min_to_CBD','Age','z_rooms','z_crime_c_average','z_travel_min_to_CBD','z_Age']].describe()"
   ]
  },
  {
   "cell_type": "markdown",
   "metadata": {},
   "source": [
    "**Plotting real values vs Z normalized values**"
   ]
  },
  {
   "cell_type": "code",
   "execution_count": 210,
   "metadata": {},
   "outputs": [
    {
     "data": {
      "image/png": "[encoded data removed]",
      "text/plain": [
       "<Figure size 432x432 with 3 Axes>"
      ]
     },
     "metadata": {
      "needs_background": "light"
     },
     "output_type": "display_data"
    },
    {
     "data": {
      "image/png": "[encoded data removed]",
      "text/plain": [
       "<Figure size 432x432 with 3 Axes>"
      ]
     },
     "metadata": {
      "needs_background": "light"
     },
     "output_type": "display_data"
    }
   ],
   "source": [
    "sns.jointplot(x=\"Rooms\", y=\"Price\", data=new_df_min_max)\n",
    "sns.jointplot(x=\"z_rooms\", y=\"Price\", data=new_df_min_max)\n",
    "plt.show()"
   ]
  },
  {
   "cell_type": "code",
   "execution_count": 211,
   "metadata": {},
   "outputs": [
    {
     "data": {
      "image/png": "[encoded data removed]",
      "text/plain": [
       "<Figure size 432x432 with 3 Axes>"
      ]
     },
     "metadata": {
      "needs_background": "light"
     },
     "output_type": "display_data"
    },
    {
     "data": {
      "image/png": "[encoded data removed]",
      "text/plain": [
       "<Figure size 432x432 with 3 Axes>"
      ]
     },
     "metadata": {
      "needs_background": "light"
     },
     "output_type": "display_data"
    }
   ],
   "source": [
    "sns.jointplot(x=\"z_travel_min_to_CBD\", y=\"Price\", data=new_df_min_max)\n",
    "sns.jointplot(x=\"travel_min_to_CBD\", y=\"Price\", data=new_df_min_max)\n",
    "plt.show()"
   ]
  },
  {
   "cell_type": "code",
   "execution_count": 212,
   "metadata": {},
   "outputs": [
    {
     "data": {
      "image/png": "[encoded data removed]",
      "text/plain": [
       "<Figure size 432x432 with 3 Axes>"
      ]
     },
     "metadata": {
      "needs_background": "light"
     },
     "output_type": "display_data"
    },
    {
     "data": {
      "image/png": "[encoded data removed]",
      "text/plain": [
       "<Figure size 432x432 with 3 Axes>"
      ]
     },
     "metadata": {
      "needs_background": "light"
     },
     "output_type": "display_data"
    }
   ],
   "source": [
    "sns.jointplot(x=\"z_Age\", y=\"Price\", data=new_df_min_max, kind=\"kde\")\n",
    "sns.jointplot(x=\"Age\", y=\"Price\", data=new_df_min_max, kind=\"kde\");\n",
    "plt.show()\n",
    "\n"
   ]
  },
  {
   "cell_type": "markdown",
   "metadata": {},
   "source": [
    "One advantage of Z-score over min-max transformation is the min-max always tries to get values closer to mean, but when we have outlier which are important then we will loose the impact of that outlier."
   ]
  },
  {
   "cell_type": "markdown",
   "metadata": {},
   "source": [
    "In our case as we dont have any outliers, and also performing these normalizations doesnot really affect any kind of correlation w.r.t to the target variable we can try apply other transformation techniques."
   ]
  },
  {
   "cell_type": "markdown",
   "metadata": {},
   "source": [
    "## Transformations"
   ]
  },
  {
   "cell_type": "code",
   "execution_count": 214,
   "metadata": {},
   "outputs": [],
   "source": [
    "new_df_trans=new_df.copy() "
   ]
  },
  {
   "cell_type": "code",
   "execution_count": 215,
   "metadata": {},
   "outputs": [
    {
     "data": {
      "text/plain": [
       "Index(['Rooms', 'crime_C_average', 'travel_min_to_CBD', 'Age', 'Price'], dtype='object')"
      ]
     },
     "execution_count": 215,
     "metadata": {},
     "output_type": "execute_result"
    }
   ],
   "source": [
    "new_df_trans.columns"
   ]
  },
  {
   "cell_type": "markdown",
   "metadata": {},
   "source": [
    "#### plotting histograms to check the distribution of each column"
   ]
  },
  {
   "cell_type": "code",
   "execution_count": 217,
   "metadata": {},
   "outputs": [
    {
     "data": {
      "text/plain": [
       "array([[<matplotlib.axes._subplots.AxesSubplot object at 0x0000026185AF62E8>]],\n",
       "      dtype=object)"
      ]
     },
     "execution_count": 217,
     "metadata": {},
     "output_type": "execute_result"
    },
    {
     "data": {
      "image/png": "[encoded data removed]",
      "text/plain": [
       "<Figure size 432x288 with 1 Axes>"
      ]
     },
     "metadata": {
      "needs_background": "light"
     },
     "output_type": "display_data"
    },
    {
     "data": {
      "image/png": "[encoded data removed]",
      "text/plain": [
       "<Figure size 432x288 with 1 Axes>"
      ]
     },
     "metadata": {
      "needs_background": "light"
     },
     "output_type": "display_data"
    },
    {
     "data": {
      "image/png": "[encoded data removed]",
      "text/plain": [
       "<Figure size 432x288 with 1 Axes>"
      ]
     },
     "metadata": {
      "needs_background": "light"
     },
     "output_type": "display_data"
    },
    {
     "data": {
      "image/png": "[encoded data removed]",
      "text/plain": [
       "<Figure size 432x288 with 1 Axes>"
      ]
     },
     "metadata": {
      "needs_background": "light"
     },
     "output_type": "display_data"
    }
   ],
   "source": [
    "new_df_trans.hist(\"Rooms\")\n",
    "new_df_trans.hist(\"crime_C_average\")\n",
    "new_df_trans.hist(\"travel_min_to_CBD\")\n",
    "new_df_trans.hist(\"Age\")"
   ]
  },
  {
   "cell_type": "markdown",
   "metadata": {},
   "source": [
    "From the abov distribution graphs none of the columns are normally distributed and we need to perform few kind of transformation on these columns such that it might increase the correlation with the target variable and will be useful for good predictions"
   ]
  },
  {
   "cell_type": "markdown",
   "metadata": {},
   "source": [
    "To check whether the transformation of columns will increase our predictions accuracy or not, we try to apply the following transformations on the `age` and `crime_c_average` column<br>\n",
    "- square transformation\n",
    "- log transformation\n",
    "- root transformation"
   ]
  },
  {
   "cell_type": "code",
   "execution_count": 218,
   "metadata": {},
   "outputs": [],
   "source": [
    "def square_transform(x):\n",
    "    return x**2\n"
   ]
  },
  {
   "cell_type": "code",
   "execution_count": 219,
   "metadata": {},
   "outputs": [],
   "source": [
    "def root_transform(x):\n",
    "    return x**0.5"
   ]
  },
  {
   "cell_type": "markdown",
   "metadata": {},
   "source": [
    "### Square transform for crime column"
   ]
  },
  {
   "cell_type": "code",
   "execution_count": 221,
   "metadata": {},
   "outputs": [
    {
     "data": {
      "text/plain": [
       "<seaborn.axisgrid.FacetGrid at 0x26185a095f8>"
      ]
     },
     "execution_count": 221,
     "metadata": {},
     "output_type": "execute_result"
    },
    {
     "data": {
      "image/png": "[encoded data removed]",
      "text/plain": [
       "<Figure size 432x288 with 1 Axes>"
      ]
     },
     "metadata": {
      "needs_background": "light"
     },
     "output_type": "display_data"
    },
    {
     "data": {
      "image/png": "[encoded data removed]",
      "text/plain": [
       "<Figure size 360x360 with 1 Axes>"
      ]
     },
     "metadata": {
      "needs_background": "light"
     },
     "output_type": "display_data"
    },
    {
     "data": {
      "image/png": "[encoded data removed]",
      "text/plain": [
       "<Figure size 360x360 with 1 Axes>"
      ]
     },
     "metadata": {
      "needs_background": "light"
     },
     "output_type": "display_data"
    }
   ],
   "source": [
    "new_df_trans['st_crime']=new_df_trans['crime_C_average'].apply(square_transform)\n",
    "new_df_trans.hist('st_crime')\n",
    "sns.lmplot('crime_C_average','Price',data=new_df_trans,scatter=True)\n",
    "sns.lmplot('st_crime','Price',data=new_df_trans,scatter=True)"
   ]
  },
  {
   "cell_type": "markdown",
   "metadata": {},
   "source": [
    "Square transformation has compressed our column values hence you can see there is slight decrease in the correlation w.r.t to the target variable"
   ]
  },
  {
   "cell_type": "markdown",
   "metadata": {},
   "source": [
    "### Root transform for crime column"
   ]
  },
  {
   "cell_type": "code",
   "execution_count": 222,
   "metadata": {},
   "outputs": [
    {
     "data": {
      "text/plain": [
       "array([[<matplotlib.axes._subplots.AxesSubplot object at 0x0000026185DFD8D0>]],\n",
       "      dtype=object)"
      ]
     },
     "execution_count": 222,
     "metadata": {},
     "output_type": "execute_result"
    },
    {
     "data": {
      "image/png": "[encoded data removed]",
      "text/plain": [
       "<Figure size 360x360 with 1 Axes>"
      ]
     },
     "metadata": {
      "needs_background": "light"
     },
     "output_type": "display_data"
    },
    {
     "data": {
      "image/png": "[encoded data removed]",
      "text/plain": [
       "<Figure size 360x360 with 1 Axes>"
      ]
     },
     "metadata": {
      "needs_background": "light"
     },
     "output_type": "display_data"
    },
    {
     "data": {
      "image/png": "[encoded data removed]",
      "text/plain": [
       "<Figure size 432x288 with 1 Axes>"
      ]
     },
     "metadata": {
      "needs_background": "light"
     },
     "output_type": "display_data"
    }
   ],
   "source": [
    "new_df_trans['rt_crime']=new_df_trans['crime_C_average'].apply(root_transform)\n",
    "sns.lmplot('crime_C_average','Price',data=new_df_trans,scatter=True)\n",
    "sns.lmplot('rt_crime','Price',data=new_df_trans,scatter=True)\n",
    "new_df_trans.hist('rt_crime')"
   ]
  },
  {
   "cell_type": "markdown",
   "metadata": {},
   "source": [
    "Now if you check the distribution of crime_c_average column, it is normally distributed.<br>\n",
    "Root transform has spread our data in the column hence by increasing the correlation between feature and target variable a little."
   ]
  },
  {
   "cell_type": "code",
   "execution_count": 223,
   "metadata": {},
   "outputs": [
    {
     "data": {
      "text/plain": [
       "<seaborn.axisgrid.FacetGrid at 0x26185ee6da0>"
      ]
     },
     "execution_count": 223,
     "metadata": {},
     "output_type": "execute_result"
    },
    {
     "data": {
      "image/png": "[encoded data removed]",
      "text/plain": [
       "<Figure size 360x360 with 1 Axes>"
      ]
     },
     "metadata": {
      "needs_background": "light"
     },
     "output_type": "display_data"
    },
    {
     "data": {
      "image/png": "[encoded data removed]",
      "text/plain": [
       "<Figure size 360x360 with 1 Axes>"
      ]
     },
     "metadata": {
      "needs_background": "light"
     },
     "output_type": "display_data"
    }
   ],
   "source": [
    "import numpy as np\n",
    "new_df_trans['l_crime']=new_df_trans['crime_C_average'].apply(np.log)\n",
    "sns.lmplot('crime_C_average','Price',data=new_df_trans,scatter=True)\n",
    "sns.lmplot('l_crime','Price',data=new_df_trans,scatter=True)\n",
    "#new_df_trans.hist('l_crime')"
   ]
  },
  {
   "cell_type": "markdown",
   "metadata": {},
   "source": [
    "By performing log transformation on the crime_c_average data we see that all the data in the column has been obtained in left skewed distribution, hence log transformation on this column does not work well in good predictions"
   ]
  },
  {
   "cell_type": "markdown",
   "metadata": {},
   "source": [
    "### Square transformation for age column"
   ]
  },
  {
   "cell_type": "code",
   "execution_count": 224,
   "metadata": {},
   "outputs": [
    {
     "data": {
      "text/plain": [
       "array([[<matplotlib.axes._subplots.AxesSubplot object at 0x0000026185FAF748>]],\n",
       "      dtype=object)"
      ]
     },
     "execution_count": 224,
     "metadata": {},
     "output_type": "execute_result"
    },
    {
     "data": {
      "image/png": "[encoded data removed]",
      "text/plain": [
       "<Figure size 360x360 with 1 Axes>"
      ]
     },
     "metadata": {
      "needs_background": "light"
     },
     "output_type": "display_data"
    },
    {
     "data": {
      "image/png": "[encoded data removed]",
      "text/plain": [
       "<Figure size 360x360 with 1 Axes>"
      ]
     },
     "metadata": {
      "needs_background": "light"
     },
     "output_type": "display_data"
    },
    {
     "data": {
      "image/png": "[encoded data removed]",
      "text/plain": [
       "<Figure size 432x288 with 1 Axes>"
      ]
     },
     "metadata": {
      "needs_background": "light"
     },
     "output_type": "display_data"
    }
   ],
   "source": [
    "new_df_trans['st_age']=new_df_trans['Age'].apply(square_transform)\n",
    "sns.lmplot('Age','Price',data=new_df_trans,scatter=True)\n",
    "sns.lmplot('st_age','Price',data=new_df_trans,scatter=True)\n",
    "new_df_trans.hist('st_age')"
   ]
  },
  {
   "cell_type": "markdown",
   "metadata": {},
   "source": [
    "Performing square transformation on age column has changed the distribuiton of data to the right skewed, as points have been extended we can see that the relation between this square transformed variable and the target has been increased"
   ]
  },
  {
   "cell_type": "markdown",
   "metadata": {},
   "source": [
    "## Root transform for age column"
   ]
  },
  {
   "cell_type": "code",
   "execution_count": 225,
   "metadata": {},
   "outputs": [
    {
     "data": {
      "text/plain": [
       "array([[<matplotlib.axes._subplots.AxesSubplot object at 0x0000026186100FD0>]],\n",
       "      dtype=object)"
      ]
     },
     "execution_count": 225,
     "metadata": {},
     "output_type": "execute_result"
    },
    {
     "data": {
      "image/png": "[encoded data removed]",
      "text/plain": [
       "<Figure size 360x360 with 1 Axes>"
      ]
     },
     "metadata": {
      "needs_background": "light"
     },
     "output_type": "display_data"
    },
    {
     "data": {
      "image/png": "[encoded data removed]",
      "text/plain": [
       "<Figure size 360x360 with 1 Axes>"
      ]
     },
     "metadata": {
      "needs_background": "light"
     },
     "output_type": "display_data"
    },
    {
     "data": {
      "image/png": "[encoded data removed]",
      "text/plain": [
       "<Figure size 432x288 with 1 Axes>"
      ]
     },
     "metadata": {
      "needs_background": "light"
     },
     "output_type": "display_data"
    }
   ],
   "source": [
    "new_df_trans['rt_age']=new_df_trans['Age'].apply(root_transform)\n",
    "sns.lmplot('Age','Price',data=new_df_trans,scatter=True)\n",
    "sns.lmplot('rt_age','Price',data=new_df_trans,scatter=True)\n",
    "new_df_trans.hist('rt_age')"
   ]
  },
  {
   "cell_type": "markdown",
   "metadata": {},
   "source": [
    "performing root transformation has gave us a multimodel distribution for the data in the age column, because here we are shrinking the data which inturn reduces the relation to the target variable "
   ]
  },
  {
   "cell_type": "code",
   "execution_count": 227,
   "metadata": {},
   "outputs": [
    {
     "data": {
      "text/plain": [
       "array([[<matplotlib.axes._subplots.AxesSubplot object at 0x000002618625C3C8>]],\n",
       "      dtype=object)"
      ]
     },
     "execution_count": 227,
     "metadata": {},
     "output_type": "execute_result"
    },
    {
     "data": {
      "image/png": "[encoded data removed]",
      "text/plain": [
       "<Figure size 360x360 with 1 Axes>"
      ]
     },
     "metadata": {
      "needs_background": "light"
     },
     "output_type": "display_data"
    },
    {
     "data": {
      "image/png": "[encoded data removed]",
      "text/plain": [
       "<Figure size 360x360 with 1 Axes>"
      ]
     },
     "metadata": {
      "needs_background": "light"
     },
     "output_type": "display_data"
    },
    {
     "data": {
      "image/png": "[encoded data removed]",
      "text/plain": [
       "<Figure size 432x288 with 1 Axes>"
      ]
     },
     "metadata": {
      "needs_background": "light"
     },
     "output_type": "display_data"
    }
   ],
   "source": [
    "import numpy as np\n",
    "new_df_trans['l_age']=new_df_trans['Age'].apply(np.log)\n",
    "sns.lmplot('Age','Price',data=new_df_trans,scatter=True)\n",
    "sns.lmplot('l_age','Price',data=new_df_trans,scatter=True)\n",
    "new_df_trans.hist('l_age')"
   ]
  },
  {
   "cell_type": "markdown",
   "metadata": {},
   "source": [
    "Out of all transformations and normalizations we see that **square transforming** the `crime_C_average` and `age` column are being streched hence by increasing the correlation with respect to the response or target variable"
   ]
  },
  {
   "cell_type": "markdown",
   "metadata": {},
   "source": [
    "#### Building a model after square transforming the Crime and age columns"
   ]
  },
  {
   "cell_type": "code",
   "execution_count": 228,
   "metadata": {},
   "outputs": [
    {
     "name": "stdout",
     "output_type": "stream",
     "text": [
      "Rsquared for the transformed model is =  0.36993520991389617\n"
     ]
    }
   ],
   "source": [
    "X_train, X_test, y_train, y_test = train_test_split(new_df_trans[['Rooms','st_crime','travel_min_to_CBD','st_age']],new_df['Price'],random_state=10)\n",
    "lr=LinearRegression()\n",
    "lr.fit(X_train,y_train)\n",
    "print ('Rsquared for the transformed model is = ',lr.score(X_test,y_test))"
   ]
  },
  {
   "cell_type": "markdown",
   "metadata": {},
   "source": [
    "Before our RSquare value was `0.362`, now after doing Square transformation on the column RSquared value for the model has been increased to `0.3699`.<br>\n",
    "This is a significant increase that has happened in predicting the prices"
   ]
  },
  {
   "cell_type": "markdown",
   "metadata": {},
   "source": [
    "## Conclusion"
   ]
  },
  {
   "cell_type": "markdown",
   "metadata": {},
   "source": [
    "- Reshaping and transforming the main aim of this assignment, we have learnt how to combining data from different locations and extracting them from different formats.\n",
    "- After getting all data performing linear regression for predicting the prices and again reshaping, normalizing, transforming the data to improve the accuracy.\n",
    "- We have included all the data which are extracted from various file format like, XML, geoJson, text and combined them into one useful CSV file in the required format."
   ]
  },
  {
   "cell_type": "markdown",
   "metadata": {},
   "source": [
    "## References"
   ]
  },
  {
   "cell_type": "markdown",
   "metadata": {},
   "source": [
    "1. Pandas documentation:https://pandas.pydata.org/pandas-docs/stable/<br>\n",
    "2. The geopandas documentation for spatial joining and reading the shape files to perform geobased calculations: http://geopandas.org/<br>\n",
    "3. Matlplotlib for various charts https://matplotlib.org/3.1.0/contents.html<br>\n",
    "4. Seaborn Gallery for plotting tthe graphs https://seaborn.pydata.org/<br>\n",
    "5. The sklearn package for performing the regression analysis https://scikit-learn.org/stable/modules/linear_model.html"
   ]
  },
  {
   "cell_type": "code",
   "execution_count": null,
   "metadata": {},
   "outputs": [],
   "source": []
  }
 ],
 "metadata": {
  "kernelspec": {
   "display_name": "Python 3",
   "language": "python",
   "name": "python3"
  },
  "language_info": {
   "codemirror_mode": {
    "name": "ipython",
    "version": 3
   },
   "file_extension": ".py",
   "mimetype": "text/x-python",
   "name": "python",
   "nbconvert_exporter": "python",
   "pygments_lexer": "ipython3",
   "version": "3.6.5"
  }
 },
 "nbformat": 4,
 "nbformat_minor": 2
}
